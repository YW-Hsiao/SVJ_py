{
 "cells": [
  {
   "cell_type": "markdown",
   "metadata": {},
   "source": [
    "## Import Packages"
   ]
  },
  {
   "cell_type": "code",
   "execution_count": 1,
   "metadata": {},
   "outputs": [
    {
     "name": "stdout",
     "output_type": "stream",
     "text": [
      "Welcome to JupyROOT 6.20/04\n"
     ]
    }
   ],
   "source": [
    "import math\n",
    "import numpy as np\n",
    "import matplotlib.pyplot as plt\n",
    "import ROOT\n",
    "import pylhe"
   ]
  },
  {
   "cell_type": "markdown",
   "metadata": {},
   "source": [
    "## Define Mass Function"
   ]
  },
  {
   "cell_type": "code",
   "execution_count": 2,
   "metadata": {},
   "outputs": [],
   "source": [
    "def invariant_mass(p1, p2):\n",
    "    return math.sqrt(sum((1 if index=='e' else -1)*(getattr(p1,index)+getattr(p2,index))**2 for index in ['e','px','py','pz']))\n",
    "def transverse_mass(p1):\n",
    "    return math.sqrt(sum((1 if index=='e' else -1)*(getattr(p1,index))**2 for index in ['e','pz']))"
   ]
  },
  {
   "cell_type": "markdown",
   "metadata": {},
   "source": [
    "## Create Mass Lists and a Event List"
   ]
  },
  {
   "cell_type": "code",
   "execution_count": 40,
   "metadata": {},
   "outputs": [
    {
     "ename": "IndexError",
     "evalue": "list index out of range",
     "output_type": "error",
     "traceback": [
      "\u001b[0;31m---------------------------------------------------------------------------\u001b[0m",
      "\u001b[0;31mIndexError\u001b[0m                                Traceback (most recent call last)",
      "\u001b[0;32m<ipython-input-40-9b881e71477f>\u001b[0m in \u001b[0;36m<module>\u001b[0;34m\u001b[0m\n\u001b[1;32m     22\u001b[0m \u001b[0;34m\u001b[0m\u001b[0m\n\u001b[1;32m     23\u001b[0m \u001b[0;32mfor\u001b[0m \u001b[0mevent\u001b[0m \u001b[0;32min\u001b[0m \u001b[0ms_channel2\u001b[0m\u001b[0;34m:\u001b[0m\u001b[0;34m\u001b[0m\u001b[0;34m\u001b[0m\u001b[0m\n\u001b[0;32m---> 24\u001b[0;31m     \u001b[0mm2\u001b[0m\u001b[0;34m.\u001b[0m\u001b[0mappend\u001b[0m\u001b[0;34m(\u001b[0m\u001b[0minvariant_mass\u001b[0m\u001b[0;34m(\u001b[0m\u001b[0mevent\u001b[0m\u001b[0;34m.\u001b[0m\u001b[0mparticles\u001b[0m\u001b[0;34m[\u001b[0m\u001b[0;36m3\u001b[0m\u001b[0;34m]\u001b[0m\u001b[0;34m,\u001b[0m\u001b[0mevent\u001b[0m\u001b[0;34m.\u001b[0m\u001b[0mparticles\u001b[0m\u001b[0;34m[\u001b[0m\u001b[0;36m4\u001b[0m\u001b[0;34m]\u001b[0m\u001b[0;34m)\u001b[0m\u001b[0;34m)\u001b[0m\u001b[0;34m\u001b[0m\u001b[0;34m\u001b[0m\u001b[0m\n\u001b[0m\u001b[1;32m     25\u001b[0m \u001b[0;31m#     mT2.append(transverse_mass(event.particles[2]))\u001b[0m\u001b[0;34m\u001b[0m\u001b[0;34m\u001b[0m\u001b[0;34m\u001b[0m\u001b[0m\n\u001b[1;32m     26\u001b[0m     \u001b[0mevent_list2\u001b[0m\u001b[0;34m.\u001b[0m\u001b[0mappend\u001b[0m\u001b[0;34m(\u001b[0m\u001b[0mevent\u001b[0m\u001b[0;34m)\u001b[0m\u001b[0;34m\u001b[0m\u001b[0;34m\u001b[0m\u001b[0m\n",
      "\u001b[0;31mIndexError\u001b[0m: list index out of range"
     ]
    }
   ],
   "source": [
    "process_path0 = '/youwei_home/SVJ_py/Week_3/s_channel/SVJ/0/Events/run_01/unweighted_events.lhe'\n",
    "process_path1 = '/youwei_home/SVJ_py/Week_3/s_channel/SVJ/1/Events/run_01/unweighted_events.lhe'\n",
    "process_path2 = '/youwei_home/SVJ_py/Week_3/s_channel/SVJ/2/Events/run_01/unweighted_events.lhe'\n",
    "s_channel0 = pylhe.readLHE(process_path0)\n",
    "s_channel1 = pylhe.readLHE(process_path1)\n",
    "s_channel2 = pylhe.readLHE(process_path2)\n",
    "\n",
    "m0, mT0, event_list0 = [], [], []\n",
    "m1, mT1, event_list1 = [], [], []\n",
    "m2, mT2, event_list2 = [], [], []\n",
    "\n",
    "\n",
    "for event in s_channel0:\n",
    "    m0.append(invariant_mass(event.particles[-1],event.particles[-2]))\n",
    "    mT0.append(transverse_mass(event.particles[-3]))\n",
    "    event_list0.append(event)\n",
    "\n",
    "for event in s_channel1:\n",
    "    m1.append(invariant_mass(event.particles[-2],event.particles[-3]))\n",
    "    mT1.append(transverse_mass(event.particles[-4]))\n",
    "    event_list1.append(event)\n",
    "\n",
    "for event in s_channel2:\n",
    "    m2.append(invariant_mass(event.particles[3],event.particles[4]))\n",
    "#     mT2.append(transverse_mass(event.particles[2]))\n",
    "    event_list2.append(event)\n",
    "\n",
    "m0, mT0 = np.array(m0), np.array(mT0)\n",
    "m1, mT1 = np.array(m1), np.array(mT1)\n",
    "m2, mT2 = np.array(m2), np.array(mT2)"
   ]
  },
  {
   "cell_type": "code",
   "execution_count": 39,
   "metadata": {},
   "outputs": [
    {
     "data": {
      "text/plain": [
       "['__class__',\n",
       " '__delattr__',\n",
       " '__dict__',\n",
       " '__dir__',\n",
       " '__doc__',\n",
       " '__eq__',\n",
       " '__format__',\n",
       " '__ge__',\n",
       " '__getattribute__',\n",
       " '__gt__',\n",
       " '__hash__',\n",
       " '__init__',\n",
       " '__init_subclass__',\n",
       " '__le__',\n",
       " '__lt__',\n",
       " '__module__',\n",
       " '__ne__',\n",
       " '__new__',\n",
       " '__reduce__',\n",
       " '__reduce_ex__',\n",
       " '__repr__',\n",
       " '__setattr__',\n",
       " '__sizeof__',\n",
       " '__str__',\n",
       " '__subclasshook__',\n",
       " '__weakref__',\n",
       " 'color1',\n",
       " 'color2',\n",
       " 'e',\n",
       " 'event',\n",
       " 'fieldnames',\n",
       " 'fromstring',\n",
       " 'id',\n",
       " 'lifetime',\n",
       " 'm',\n",
       " 'mother1',\n",
       " 'mother2',\n",
       " 'mothers',\n",
       " 'px',\n",
       " 'py',\n",
       " 'pz',\n",
       " 'spin',\n",
       " 'status']"
      ]
     },
     "execution_count": 39,
     "metadata": {},
     "output_type": "execute_result"
    }
   ],
   "source": [
    "dir(event_list2[0].particles[4])"
   ]
  },
  {
   "cell_type": "code",
   "execution_count": null,
   "metadata": {},
   "outputs": [],
   "source": [
    "for i, element in enumerate(event_list2.particles):\n",
    "    if len([i.id for i in event_list2[0].particles]) < 7:\n",
    "        print('{:^12}{:^9.0f}{:^12.0f}{:^12.0f}{:^12.3f}{:^12.3f}{:^12.3f}{:^12.3f}{:^12.0f}'\n",
    "          .format(i+1, element.id, element.mother1, element.mother2, element.e, element.px, element.py, element.pz, element.status))"
   ]
  },
  {
   "cell_type": "code",
   "execution_count": 49,
   "metadata": {},
   "outputs": [
    {
     "name": "stdout",
     "output_type": "stream",
     "text": [
      "1\n",
      "2\n",
      "4\n",
      "5\n",
      "6\n",
      "8\n",
      "9\n",
      "11\n",
      "13\n",
      "14\n",
      "15\n",
      "16\n",
      "17\n",
      "18\n",
      "19\n",
      "20\n",
      "21\n",
      "22\n",
      "24\n",
      "25\n",
      "26\n",
      "27\n",
      "29\n",
      "30\n",
      "32\n",
      "33\n",
      "35\n",
      "36\n",
      "37\n",
      "38\n",
      "39\n",
      "40\n",
      "41\n",
      "42\n",
      "43\n",
      "44\n",
      "45\n",
      "47\n",
      "48\n",
      "49\n",
      "50\n",
      "51\n",
      "52\n",
      "55\n",
      "56\n",
      "57\n",
      "58\n",
      "59\n",
      "60\n",
      "61\n"
     ]
    },
    {
     "ename": "IndexError",
     "evalue": "list index out of range",
     "output_type": "error",
     "traceback": [
      "\u001b[0;31m---------------------------------------------------------------------------\u001b[0m",
      "\u001b[0;31mIndexError\u001b[0m                                Traceback (most recent call last)",
      "\u001b[0;32m<ipython-input-49-fb576f597d00>\u001b[0m in \u001b[0;36m<module>\u001b[0;34m\u001b[0m\n\u001b[1;32m      1\u001b[0m \u001b[0;32mfor\u001b[0m \u001b[0mj\u001b[0m \u001b[0;32min\u001b[0m \u001b[0mrange\u001b[0m\u001b[0;34m(\u001b[0m\u001b[0;36m10000\u001b[0m\u001b[0;34m)\u001b[0m\u001b[0;34m:\u001b[0m\u001b[0;34m\u001b[0m\u001b[0;34m\u001b[0m\u001b[0m\n\u001b[0;32m----> 2\u001b[0;31m     \u001b[0;32mif\u001b[0m \u001b[0mlen\u001b[0m\u001b[0;34m(\u001b[0m\u001b[0;34m[\u001b[0m\u001b[0mi\u001b[0m\u001b[0;34m.\u001b[0m\u001b[0mid\u001b[0m \u001b[0;32mfor\u001b[0m \u001b[0mi\u001b[0m \u001b[0;32min\u001b[0m \u001b[0mevent_list2\u001b[0m\u001b[0;34m[\u001b[0m\u001b[0mj\u001b[0m\u001b[0;34m]\u001b[0m\u001b[0;34m.\u001b[0m\u001b[0mparticles\u001b[0m\u001b[0;34m]\u001b[0m\u001b[0;34m)\u001b[0m \u001b[0;34m<\u001b[0m \u001b[0;36m7\u001b[0m\u001b[0;34m:\u001b[0m\u001b[0;34m\u001b[0m\u001b[0;34m\u001b[0m\u001b[0m\n\u001b[0m\u001b[1;32m      3\u001b[0m         \u001b[0mprint\u001b[0m\u001b[0;34m(\u001b[0m\u001b[0mj\u001b[0m\u001b[0;34m)\u001b[0m\u001b[0;34m\u001b[0m\u001b[0;34m\u001b[0m\u001b[0m\n",
      "\u001b[0;31mIndexError\u001b[0m: list index out of range"
     ]
    }
   ],
   "source": [
    "for j in range(10000):\n",
    "    if len([i.id for i in event_list2[j].particles]) < 7:\n",
    "        print(j)"
   ]
  },
  {
   "cell_type": "code",
   "execution_count": 54,
   "metadata": {},
   "outputs": [
    {
     "ename": "IndexError",
     "evalue": "list index out of range",
     "output_type": "error",
     "traceback": [
      "\u001b[0;31m---------------------------------------------------------------------------\u001b[0m",
      "\u001b[0;31mIndexError\u001b[0m                                Traceback (most recent call last)",
      "\u001b[0;32m<ipython-input-54-c152aaefb47e>\u001b[0m in \u001b[0;36m<module>\u001b[0;34m\u001b[0m\n\u001b[0;32m----> 1\u001b[0;31m \u001b[0;32mfor\u001b[0m \u001b[0mi\u001b[0m\u001b[0;34m,\u001b[0m \u001b[0melement\u001b[0m \u001b[0;32min\u001b[0m \u001b[0menumerate\u001b[0m\u001b[0;34m(\u001b[0m\u001b[0mevent_list2\u001b[0m\u001b[0;34m[\u001b[0m\u001b[0;36m62\u001b[0m\u001b[0;34m]\u001b[0m\u001b[0;34m.\u001b[0m\u001b[0mparticles\u001b[0m\u001b[0;34m)\u001b[0m\u001b[0;34m:\u001b[0m\u001b[0;34m\u001b[0m\u001b[0;34m\u001b[0m\u001b[0m\n\u001b[0m\u001b[1;32m      2\u001b[0m     print('{:^12}{:^9.0f}{:^12.0f}{:^12.0f}{:^12.3f}{:^12.3f}{:^12.3f}{:^12.3f}{:^12.0f}'\n\u001b[1;32m      3\u001b[0m           .format(i+1, element.id, element.mother1, element.mother2, element.e, element.px, element.py, element.pz, element.status))\n",
      "\u001b[0;31mIndexError\u001b[0m: list index out of range"
     ]
    }
   ],
   "source": [
    "for i, element in enumerate(event_list2[62].particles):\n",
    "    print('{:^12}{:^9.0f}{:^12.0f}{:^12.0f}{:^12.3f}{:^12.3f}{:^12.3f}{:^12.3f}{:^12.0f}'\n",
    "          .format(i+1, element.id, element.mother1, element.mother2, element.e, element.px, element.py, element.pz, element.status))"
   ]
  },
  {
   "cell_type": "markdown",
   "metadata": {},
   "source": [
    "## Print Information for First Event"
   ]
  },
  {
   "cell_type": "code",
   "execution_count": 5,
   "metadata": {},
   "outputs": [
    {
     "name": "stdout",
     "output_type": "stream",
     "text": [
      "     #         id      mother1     mother2        e           px          py          pz        status   \n",
      "     1         -2         0           0        520.006      -0.000      0.000      520.006        -1     \n",
      "     2          2         0           0        1071.846     0.000       -0.000    -1071.846       -1     \n",
      "     3       5000001      1           2        1591.852     0.000       0.000      -551.840       2      \n",
      "     4       4900101      3           3        601.629     500.255     175.021     284.552        1      \n",
      "     5      -4900101      3           3        990.222     -500.255    -175.021    -836.393       1      \n",
      "------------------------------------------------------------------------------------------------------\n",
      "     1         21         0           0        701.327      0.000       0.000      701.327        -1     \n",
      "     2         -5         0           0        859.635      -0.000      -0.000     -859.635       -1     \n",
      "     3       5000001      1           2        1491.958    -29.999      6.552      -220.104       2      \n",
      "     4       4900101      3           3        800.600     219.256     589.913     -494.763       1      \n",
      "     5      -4900101      3           3        691.357     -249.255    -583.360    274.660        1      \n",
      "     6         -5         1           2         69.004      29.999      -6.552      61.796        1      \n",
      "------------------------------------------------------------------------------------------------------\n",
      "     1          2         0           0        4538.867     0.000       0.000      4538.867       -1     \n",
      "     2         -2         0           0        291.588      -0.000      -0.000     -291.588       -1     \n",
      "     3       5000001      1           2        4012.686    -127.711    -275.143    3690.137       2      \n",
      "     4       4900101      3           3        951.851     109.666     -672.536    664.522        1      \n",
      "     5      -4900101      3           3        3060.835    -237.377    397.393     3025.614       1      \n",
      "     6         21         1           2        721.475     106.346     332.842     631.215        1      \n",
      "     7         21         1           2         96.293      21.366     -57.699     -74.073        1      \n"
     ]
    }
   ],
   "source": [
    "print('{:^12}{:^9}{:^12}{:^12}{:^12}{:^12}{:^12}{:^12}{:^12}'.format('#','id','mother1','mother2','e','px','py','pz','status'))\n",
    "\n",
    "for i, element in enumerate(event_list0[0].particles):\n",
    "    print('{:^12}{:^9.0f}{:^12.0f}{:^12.0f}{:^12.3f}{:^12.3f}{:^12.3f}{:^12.3f}{:^12.0f}'\n",
    "          .format(i+1, element.id, element.mother1, element.mother2, element.e, element.px, element.py, element.pz, element.status))\n",
    "print('-'*102)\n",
    "for i, element in enumerate(event_list1[0].particles):\n",
    "    print('{:^12}{:^9.0f}{:^12.0f}{:^12.0f}{:^12.3f}{:^12.3f}{:^12.3f}{:^12.3f}{:^12.0f}'\n",
    "          .format(i+1, element.id, element.mother1, element.mother2, element.e, element.px, element.py, element.pz, element.status))\n",
    "print('-'*102)\n",
    "for i, element in enumerate(event_list2[0].particles):\n",
    "    print('{:^12}{:^9.0f}{:^12.0f}{:^12.0f}{:^12.3f}{:^12.3f}{:^12.3f}{:^12.3f}{:^12.0f}'\n",
    "          .format(i+1, element.id, element.mother1, element.mother2, element.e, element.px, element.py, element.pz, element.status))"
   ]
  },
  {
   "cell_type": "code",
   "execution_count": 29,
   "metadata": {},
   "outputs": [
    {
     "name": "stdout",
     "output_type": "stream",
     "text": [
      "5000001.0\n",
      "4900101.0\n",
      "-4900101.0\n"
     ]
    }
   ],
   "source": [
    "print(getattr(event_list2[0].particles[2],'id'))\n",
    "print(getattr(event_list2[0].particles[3],'id'))\n",
    "print(getattr(event_list2[0].particles[4],'id'))"
   ]
  },
  {
   "cell_type": "code",
   "execution_count": 28,
   "metadata": {},
   "outputs": [
    {
     "name": "stdout",
     "output_type": "stream",
     "text": [
      "191.19945856\n",
      "721.47460248\n",
      "96.293434745\n"
     ]
    }
   ],
   "source": [
    "print(getattr(event_list2[9999].particles[-1],'e'))\n",
    "print(getattr(event_list2[0].particles[-2],'e'))\n",
    "print(getattr(event_list2[0].particles[-1],'e'))"
   ]
  },
  {
   "cell_type": "code",
   "execution_count": 38,
   "metadata": {},
   "outputs": [
    {
     "name": "stdout",
     "output_type": "stream",
     "text": [
      "[2.0, -2.0, 5000001.0, 4900101.0, -4900101.0, 21.0, 21.0]\n",
      "5000001.0\n",
      "4900101.0\n",
      "-4900101.0\n"
     ]
    }
   ],
   "source": [
    "print([i.id for i in event_list2[0].particles])\n",
    "print([i.id for i in event_list2[0].particles][2])\n",
    "print([i.id for i in event_list2[0].particles][3])\n",
    "print([i.id for i in event_list2[0].particles][4])"
   ]
  },
  {
   "cell_type": "code",
   "execution_count": 10,
   "metadata": {},
   "outputs": [
    {
     "data": {
      "text/plain": [
       "[<pylhe.LHEEvent at 0x7fea86339b70>,\n",
       " <pylhe.LHEEvent at 0x7fea86339b70>,\n",
       " <pylhe.LHEEvent at 0x7fea86339b70>,\n",
       " <pylhe.LHEEvent at 0x7fea86339b70>,\n",
       " <pylhe.LHEEvent at 0x7fea86339b70>,\n",
       " <pylhe.LHEEvent at 0x7fea86339b70>,\n",
       " <pylhe.LHEEvent at 0x7fea86339b70>]"
      ]
     },
     "execution_count": 10,
     "metadata": {},
     "output_type": "execute_result"
    }
   ],
   "source": [
    "[i.event for i in event_list2[0].particles]"
   ]
  },
  {
   "cell_type": "code",
   "execution_count": 11,
   "metadata": {},
   "outputs": [
    {
     "data": {
      "text/plain": [
       "[-1.0, -1.0, 2.0, 1.0, 1.0, 1.0, 1.0]"
      ]
     },
     "execution_count": 11,
     "metadata": {},
     "output_type": "execute_result"
    }
   ],
   "source": [
    "[i.status for i in event_list2[0].particles]  # particle status for first event (Parton level)"
   ]
  },
  {
   "cell_type": "markdown",
   "metadata": {},
   "source": [
    "## Plot"
   ]
  },
  {
   "cell_type": "markdown",
   "metadata": {},
   "source": [
    "### Compare with LHE_Record"
   ]
  },
  {
   "cell_type": "code",
   "execution_count": 12,
   "metadata": {},
   "outputs": [
    {
     "data": {
      "image/png": "[encoded data removed]",
      "text/plain": [
       "<Figure size 576x576 with 1 Axes>"
      ]
     },
     "metadata": {
      "needs_background": "light"
     },
     "output_type": "display_data"
    }
   ],
   "source": [
    "plt.figure(figsize=(8,8))  # plot size\n",
    " \n",
    "bin_size = np.linspace(600,2000,141)\n",
    "hist0, bins = np.histogram(m0, bins=bin_size)\n",
    "plt.step(bins[:-1], hist0.astype(np.float32)/10, color='green', label='$M_{xd,\\\\bar{xd}}$')\n",
    "\n",
    "plt.legend(fontsize=20)\n",
    "plt.yscale('log')\n",
    "plt.xlabel('$M_{xd,\\\\bar{xd}}$ [GeV]', fontsize=20, horizontalalignment='right', x=1)\n",
    "plt.ylabel('$\\\\frac{dN}{dM_{xd,\\\\bar{xd}}}$', fontsize=20, horizontalalignment='right', y=1)\n",
    "plt.xticks(fontsize=15)\n",
    "plt.yticks(fontsize=15)\n",
    "plt.show()"
   ]
  },
  {
   "cell_type": "markdown",
   "metadata": {},
   "source": [
    "### linspace=100-2900"
   ]
  },
  {
   "cell_type": "code",
   "execution_count": 15,
   "metadata": {},
   "outputs": [
    {
     "data": {
      "image/png": "[encoded data removed]",
      "text/plain": [
       "<Figure size 576x576 with 1 Axes>"
      ]
     },
     "metadata": {
      "needs_background": "light"
     },
     "output_type": "display_data"
    }
   ],
   "source": [
    "plt.figure(figsize=(8,8))  # plot size\n",
    " \n",
    "bin_size = np.linspace(100,2900,281)\n",
    "hist0, bins = np.histogram(m0, bins=bin_size)\n",
    "plt.step(bins[:-1], hist0.astype(np.float32)/10, color='green', label='$M_{xd,\\\\bar{xd}}$')\n",
    "\n",
    "plt.legend(fontsize=20)\n",
    "plt.yscale('log')\n",
    "plt.xlabel('$M_{xd,\\\\bar{xd}}$ [GeV]', fontsize=20, horizontalalignment='right', x=1)\n",
    "plt.ylabel('$\\\\frac{dN}{dM_{xd,\\\\bar{xd}}}$', fontsize=20, horizontalalignment='right', y=1)\n",
    "plt.xticks(fontsize=15)\n",
    "plt.yticks(fontsize=15)\n",
    "plt.show()"
   ]
  },
  {
   "cell_type": "code",
   "execution_count": 16,
   "metadata": {},
   "outputs": [
    {
     "data": {
      "image/png": "[encoded data removed]",
      "text/plain": [
       "<Figure size 576x576 with 1 Axes>"
      ]
     },
     "metadata": {
      "needs_background": "light"
     },
     "output_type": "display_data"
    }
   ],
   "source": [
    "plt.figure(figsize=(8,8))  # plot size\n",
    " \n",
    "bin_size = np.linspace(100,2900,281)\n",
    "hist1, bins = np.histogram(m1, bins=bin_size)\n",
    "plt.step(bins[:-1], hist1.astype(np.float32)/10, color='green', label='$M_{xd,\\\\bar{xd}}$')\n",
    "\n",
    "plt.legend(fontsize=20)\n",
    "plt.yscale('log')\n",
    "plt.xlabel('$M_{xd,\\\\bar{xd}}$ [GeV]', fontsize=20, horizontalalignment='right', x=1)\n",
    "plt.ylabel('$\\\\frac{dN}{dM_{xd,\\\\bar{xd}}}$', fontsize=20, horizontalalignment='right', y=1)\n",
    "plt.xticks(fontsize=15)\n",
    "plt.yticks(fontsize=15)\n",
    "plt.show()"
   ]
  },
  {
   "cell_type": "code",
   "execution_count": 17,
   "metadata": {},
   "outputs": [
    {
     "data": {
      "image/png": "[encoded data removed]",
      "text/plain": [
       "<Figure size 576x576 with 1 Axes>"
      ]
     },
     "metadata": {
      "needs_background": "light"
     },
     "output_type": "display_data"
    }
   ],
   "source": [
    "plt.figure(figsize=(8,8))  # plot size\n",
    " \n",
    "bin_size = np.linspace(100,2900,281)\n",
    "hist2, bins = np.histogram(m2, bins=bin_size)\n",
    "plt.step(bins[:-1], hist2.astype(np.float32)/10, color='green', label='$M_{xd,\\\\bar{xd}}$')\n",
    "\n",
    "plt.legend(fontsize=20)\n",
    "plt.yscale('log')\n",
    "plt.xlabel('$M_{xd,\\\\bar{xd}}$ [GeV]', fontsize=20, horizontalalignment='right', x=1)\n",
    "plt.ylabel('$\\\\frac{dN}{dM_{xd,\\\\bar{xd}}}$', fontsize=20, horizontalalignment='right', y=1)\n",
    "plt.xticks(fontsize=15)\n",
    "plt.yticks(fontsize=15)\n",
    "plt.show()"
   ]
  },
  {
   "cell_type": "code",
   "execution_count": 18,
   "metadata": {},
   "outputs": [
    {
     "name": "stdout",
     "output_type": "stream",
     "text": [
      "9999\n",
      "9857\n",
      "9360\n"
     ]
    }
   ],
   "source": [
    "print(sum(hist0))\n",
    "print(sum(hist1))\n",
    "print(sum(hist2))"
   ]
  },
  {
   "cell_type": "code",
   "execution_count": 22,
   "metadata": {},
   "outputs": [
    {
     "name": "stdout",
     "output_type": "stream",
     "text": [
      "1487.7131845797899\n",
      "1042.2319659103537\n",
      "869.2286896958002\n"
     ]
    }
   ],
   "source": [
    "print(sum(m0/10000))\n",
    "print(sum(m1/10000))\n",
    "print(sum(m2/10000))"
   ]
  },
  {
   "cell_type": "code",
   "execution_count": null,
   "metadata": {},
   "outputs": [],
   "source": []
  },
  {
   "cell_type": "code",
   "execution_count": null,
   "metadata": {},
   "outputs": [],
   "source": []
  }
 ],
 "metadata": {
  "kernelspec": {
   "display_name": "Python 3",
   "language": "python",
   "name": "python3"
  },
  "language_info": {
   "codemirror_mode": {
    "name": "ipython",
    "version": 3
   },
   "file_extension": ".py",
   "mimetype": "text/x-python",
   "name": "python",
   "nbconvert_exporter": "python",
   "pygments_lexer": "ipython3",
   "version": "3.6.8"
  }
 },
 "nbformat": 4,
 "nbformat_minor": 4
}
