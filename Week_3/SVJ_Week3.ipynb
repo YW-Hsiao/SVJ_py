{
 "cells": [
  {
   "cell_type": "markdown",
   "metadata": {},
   "source": [
    "## Import Packages"
   ]
  },
  {
   "cell_type": "code",
   "execution_count": 1,
   "metadata": {},
   "outputs": [],
   "source": [
    "import os\n",
    "from tqdm import tqdm"
   ]
  },
  {
   "cell_type": "markdown",
   "metadata": {},
   "source": [
    "#### For each new container, you must command \"pip3 install tqdm\" in terminal and restart python."
   ]
  },
  {
   "cell_type": "markdown",
   "metadata": {},
   "source": [
    "## Generate Parameters Setting .txt"
   ]
  },
  {
   "cell_type": "code",
   "execution_count": 2,
   "metadata": {},
   "outputs": [],
   "source": [
    "def gentxt(i, jorder, jettype = 'SVJ', MXd=10, MY1=1500, dirc = '/youwei_home/SVJ_py/Week_3/', fname = 'test', outputpath = '/youwei_home/SVJ_py/Week_3/s_channel'):\n",
    "#     dirc is path to save your setting .txt files.\n",
    "#     fname is name of .txt files.\n",
    "#     outputpath is path you want to output your Madgraph output.\n",
    "    \n",
    "    fname = fname + str(i) + '.txt'  # Here, i stands for how many jet order.\n",
    "    \n",
    "    nevent = 10000\n",
    "    jetpt = [250, False]  # jet pt range in [250, inf] GeV\n",
    "    ECM = 13000  # Central of mass energy GeV\n",
    "    \n",
    "    if jettype == 'SVJ':\n",
    "        jet = 'g u c d b s t u~ c~ d~ b~ s~ t~'\n",
    "        dirc = dirc + 'SVJ/'\n",
    "        outputpath = outputpath + '/SVJ/'\n",
    "    if jettype == 'SVJa':\n",
    "        jet = 'g u c d s u~ c~ d~ s~'\n",
    "        dirc = dirc + 'SVJa/'\n",
    "        outputpath = outputpath + '/SVJa/'\n",
    "    \n",
    "    \n",
    "    f = open(dirc+fname, 'w')\n",
    "    f.write('import model DMsimp_s_spin1 \\n')\n",
    "    if jettype == 'SVJ':\n",
    "        f.write('define j = '+jet+' \\n')\n",
    "    if jettype == 'SVJa':\n",
    "        f.write('define j = '+jet+' \\n')\n",
    "#     f.write('define j = g u c d b s t u~ c~ d~ b~ s~ t~ \\n')\n",
    "    f.write('generate p p > xd xd~ @0 \\n')\n",
    "    for n in range(jorder):\n",
    "        f.write('add process p p > xd xd~ '+(n+1)*'j '+'@'+str(n+1)+' \\n')\n",
    "    \n",
    "    f.write('output '+outputpath+str(i)+' \\n')\n",
    "    f.write('\\n')\n",
    "    f.write('launch '+outputpath+str(i)+' \\n')\n",
    "    f.write('\\n')\n",
    "    f.write('shower=OFF \\n')\n",
    "    f.write('detector=OFF \\n')\n",
    "    f.write('analysis=OFF \\n')\n",
    "    f.write('\\n')\n",
    "    \n",
    "    f.write('set run_card nevents '+str(nevent)+'\\n')\n",
    "    f.write('set run_card ebeam1 '+str(ECM/2)+'\\n')\n",
    "    f.write('set run_card ebeam2 '+str(ECM/2)+'\\n')\n",
    "    f.write('set MXd '+str(MXd)+'\\n')\n",
    "    f.write('set MY1 '+str(MY1)+'\\n')\n",
    "#     f.write('set gcxd 1.000000e+00 \\n')\n",
    "    f.write('set gvd11 1.000000e-01 \\n')\n",
    "    f.write('set gvu11 1.000000e-01 \\n')\n",
    "    f.write('set gvd22 1.000000e-01 \\n')\n",
    "    f.write('set gvu22 1.000000e-01 \\n')\n",
    "    f.write('set gvd33 1.000000e-01 \\n')\n",
    "    f.write('set gvu33 1.000000e-01 \\n')\n",
    "    # f.write(' \\n')\n",
    "    \n",
    "    f.close()\n",
    "\n",
    "\n",
    "\n",
    "def check_txt(i, jettype='SVJ', dirc = '/youwei_home/SVJ_py/Week_3/', fname = 'test'):\n",
    "    fname = fname + str(i) + '.txt'\n",
    "    if jettype == 'SVJ':\n",
    "        dirc = dirc + 'SVJ/'\n",
    "    if jettype == 'SVJa':\n",
    "        dirc = dirc + 'SVJa/'\n",
    "    f = open(dirc + fname, 'r')\n",
    "    print(f.read())\n",
    "    f.close()  # Good habit."
   ]
  },
  {
   "cell_type": "code",
   "execution_count": 3,
   "metadata": {},
   "outputs": [],
   "source": [
    "N=3"
   ]
  },
  {
   "cell_type": "code",
   "execution_count": 4,
   "metadata": {},
   "outputs": [],
   "source": [
    "for i in range(N):\n",
    "    gentxt(i,i)"
   ]
  },
  {
   "cell_type": "code",
   "execution_count": 5,
   "metadata": {},
   "outputs": [
    {
     "name": "stdout",
     "output_type": "stream",
     "text": [
      "import model DMsimp_s_spin1 \n",
      "define j = g u c d b s t u~ c~ d~ b~ s~ t~ \n",
      "generate p p > xd xd~ @0 \n",
      "add process p p > xd xd~ j @1 \n",
      "add process p p > xd xd~ j j @2 \n",
      "output /youwei_home/SVJ_py/Week_3/s_channel/SVJ/2 \n",
      "\n",
      "launch /youwei_home/SVJ_py/Week_3/s_channel/SVJ/2 \n",
      "\n",
      "shower=OFF \n",
      "detector=OFF \n",
      "analysis=OFF \n",
      "\n",
      "set run_card nevents 10000\n",
      "set run_card ebeam1 6500.0\n",
      "set run_card ebeam2 6500.0\n",
      "set MXd 10\n",
      "set MY1 1500\n",
      "set gvd11 1.000000e-01 \n",
      "set gvu11 1.000000e-01 \n",
      "set gvd22 1.000000e-01 \n",
      "set gvu22 1.000000e-01 \n",
      "set gvd33 1.000000e-01 \n",
      "set gvu33 1.000000e-01 \n",
      "\n"
     ]
    }
   ],
   "source": [
    "check_txt(2)"
   ]
  },
  {
   "cell_type": "markdown",
   "metadata": {},
   "source": [
    "## Parton Level"
   ]
  },
  {
   "cell_type": "code",
   "execution_count": 6,
   "metadata": {},
   "outputs": [
    {
     "name": "stdout",
     "output_type": "stream",
     "text": [
      "nohup /root/MG5_aMC_v2_7_2/bin/mg5_aMC /youwei_home/SVJ_py/Week_3/SVJ/test0.txt > /youwei_home/SVJ_py/Week_3/SVJ/test0.log 2>&1 &\n",
      "nohup /root/MG5_aMC_v2_7_2/bin/mg5_aMC /youwei_home/SVJ_py/Week_3/SVJ/test1.txt > /youwei_home/SVJ_py/Week_3/SVJ/test1.log 2>&1 &\n",
      "nohup /root/MG5_aMC_v2_7_2/bin/mg5_aMC /youwei_home/SVJ_py/Week_3/SVJ/test2.txt > /youwei_home/SVJ_py/Week_3/SVJ/test2.log 2>&1 &\n"
     ]
    }
   ],
   "source": [
    "dirc = '/youwei_home/SVJ_py/Week_3/'; fname = 'test'\n",
    "madgraph_bin = '/root/MG5_aMC_v2_7_2/bin/mg5_aMC'  # type where your mg5_aMC is\n",
    "\n",
    "for i in range(N):\n",
    "    fnamei = fname + str(i) + '.txt'\n",
    "    dirci = dirc + 'SVJ/'\n",
    "    print('nohup ' + madgraph_bin +' '+ dirci + fnamei + ' > ' + dirci + fname+str(i)+'.log 2>&1 &')"
   ]
  },
  {
   "cell_type": "code",
   "execution_count": 7,
   "metadata": {},
   "outputs": [],
   "source": [
    "dirc = '/youwei_home/SVJ_py/Week_3/'; fname = 'test'\n",
    "madgraph_bin = '/root/MG5_aMC_v2_7_2/bin/mg5_aMC'  # type where your mg5_aMC is\n",
    "\n",
    "# os.system('nohup /root/MG5_aMC_v2_7_2/bin/mg5_aMC /youwei_home/SVJ_py/Tutorial/test0.txt > /youwei_home/SVJ_py/Tutorial/out0.log 2>&1 &')\n",
    "for i in range(N):\n",
    "    fnamei = fname + str(i) + '.txt'\n",
    "    dirci = dirc + 'SVJ/'\n",
    "    os.system('nohup ' + madgraph_bin +' '+ dirci + fnamei + ' > ' + dirci + fname+str(i)+'.log 2>&1 &')"
   ]
  },
  {
   "cell_type": "markdown",
   "metadata": {},
   "source": [
    "## Change PID"
   ]
  },
  {
   "cell_type": "code",
   "execution_count": 8,
   "metadata": {},
   "outputs": [
    {
     "name": "stderr",
     "output_type": "stream",
     "text": [
      "100%|██████████| 3/3 [00:15<00:00,  5.16s/it]\n"
     ]
    }
   ],
   "source": [
    "output = '/youwei_home/SVJ_py/Week_3/'\n",
    "fname = 'unweighted_events.lhe'\n",
    "fnamei = fname + '.gz'\n",
    "for i in tqdm(range(N)):\n",
    "    outputi = output + 's_channel/SVJ/' + str(i) + '/Events/run_01/'\n",
    "    os.system('gzip -d ' + outputi + fnamei)\n",
    "    os.system(\"sed -i 's/5000521/4900101/g' \" + outputi + fname)\n",
    "    os.system('grep 4900101 ' + outputi + fname + ' > ' + output +'SVJ/'+ 'checkPID'+str(i)+'.log 2>&1 &')"
   ]
  },
  {
   "cell_type": "markdown",
   "metadata": {},
   "source": [
    "#### I don't do the step 3 about showering and detector simulation."
   ]
  },
  {
   "cell_type": "code",
   "execution_count": null,
   "metadata": {},
   "outputs": [],
   "source": []
  }
 ],
 "metadata": {
  "kernelspec": {
   "display_name": "Python 3",
   "language": "python",
   "name": "python3"
  },
  "language_info": {
   "codemirror_mode": {
    "name": "ipython",
    "version": 3
   },
   "file_extension": ".py",
   "mimetype": "text/x-python",
   "name": "python",
   "nbconvert_exporter": "python",
   "pygments_lexer": "ipython3",
   "version": "3.6.8"
  }
 },
 "nbformat": 4,
 "nbformat_minor": 4
}
