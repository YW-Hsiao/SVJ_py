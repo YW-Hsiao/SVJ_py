{
 "cells": [
  {
   "cell_type": "markdown",
   "metadata": {},
   "source": [
    "## For this.ipynb, I follow Tutorial(Alan) and Parallel.ipynb of James(Po-Jen).\n",
    "https://alan200276.gitbook.io/madgraph-study-tutorial-svj/  \n",
    "https://github.com/ja2006203966/SVJ_/blob/master/Parallel.ipynb"
   ]
  },
  {
   "cell_type": "markdown",
   "metadata": {},
   "source": [
    "## Import Packages"
   ]
  },
  {
   "cell_type": "code",
   "execution_count": 1,
   "metadata": {},
   "outputs": [],
   "source": [
    "import os\n",
    "from tqdm import tqdm"
   ]
  },
  {
   "cell_type": "markdown",
   "metadata": {},
   "source": [
    "#### Note: For each new container such as alan200276/centos:SVJsimulation, you must command \"pip3 install tqdm\" in terminal and restart python."
   ]
  },
  {
   "cell_type": "markdown",
   "metadata": {},
   "source": [
    "## Generate LHE Parameters Setting .txt\n",
    "https://answers.launchpad.net/mg5amcnlo/+faq/2735"
   ]
  },
  {
   "cell_type": "code",
   "execution_count": 2,
   "metadata": {},
   "outputs": [],
   "source": [
    "def gentxt(i, jorder, MY1, jettype = 'SVJ', MXd=10, xqcut=100, dirc = '/youwei_home/SVJ_py/Tutorial_v2/', fname = 'test', outputpath = '/youwei_home/SVJ_py/Tutorial_v2/s_channel'):\n",
    "#     dirc is path to save your setting .txt files.\n",
    "#     fname is name of .txt files.\n",
    "#     Notice: outputpath is path you want to output your Madgraph output.\n",
    "    \n",
    "    fname = fname + str(i) + '.txt'  # Here, i stands for which collision event.\n",
    "    \n",
    "    nevent = 20000\n",
    "    jetpt = [250, False]  # Jet pt range in [250, inf] GeV\n",
    "    ECM = 14000  # Central of mass energy GeV\n",
    "    \n",
    "    f = open(dirc+fname, 'w')\n",
    "    f.write('import model DMsimp_s_spin1 \\n')\n",
    "    f.write('define j = g u c d b s t u~ c~ d~ b~ s~ t~ \\n')\n",
    "    f.write('generate p p > xd xd~ @0 \\n')\n",
    "    for n in range(jorder):\n",
    "        f.write('add process p p > xd xd~ '+(n+1)*'j '+'@'+str(n+1)+'\\n')\n",
    "    \n",
    "    f.write('output '+outputpath+str(i)+'\\n')\n",
    "    f.write('\\n')\n",
    "    f.write('launch '+outputpath+str(i)+'\\n')\n",
    "    f.write('\\n')\n",
    "    f.write('shower=OFF \\n')\n",
    "    f.write('detector=OFF \\n')\n",
    "    f.write('analysis=OFF \\n')\n",
    "    f.write('\\n')\n",
    "    \n",
    "    f.write('set run_card nevents '+str(nevent)+'\\n')\n",
    "    f.write('set run_card ebeam1 '+str(ECM/2)+'\\n')\n",
    "    f.write('set run_card ebeam2 '+str(ECM/2)+'\\n')\n",
    "    f.write('set MXd '+str(MXd)+'\\n')\n",
    "    f.write('set MY1 scan:'+str(MY1)+'\\n')  # This syntax can automatically change Z' mass.\n",
    "    f.write('set ickkw 1 \\n')\n",
    "    f.write('set xqcut '+str(xqcut)+'\\n')\n",
    "#     f.write('set ptj '+str(jetpt)+'\\n')\n",
    "#     f.write('set gcxd 1.000000e+00 \\n')\n",
    "    f.write('set gVXd 1 \\n')\n",
    "    f.write('set gVd11 0.1 \\n')\n",
    "    f.write('set gVu11 0.1 \\n')\n",
    "    f.write('set gVd22 0.1 \\n')\n",
    "    f.write('set gVu22 0.1 \\n')\n",
    "    f.write('set gVd33 0.1 \\n')\n",
    "    f.write('set gVu33 0.1 \\n')\n",
    "    f.write('set decay wy1 auto')\n",
    "    \n",
    "    f.close()  # Good habit\n",
    "\n",
    "\n",
    "\n",
    "def check_txt(i, jettype='SVJ', dirc = '/youwei_home/SVJ_py/Tutorial_v2/', fname = 'test'):\n",
    "    fname = fname + str(i) + '.txt'\n",
    "    f = open(dirc+fname, 'r')\n",
    "    print(f.read())\n",
    "    f.close()  # Good habit"
   ]
  },
  {
   "cell_type": "code",
   "execution_count": 3,
   "metadata": {},
   "outputs": [],
   "source": [
    "gentxt(0,2,[1000,1500,2000,100000])"
   ]
  },
  {
   "cell_type": "code",
   "execution_count": 4,
   "metadata": {},
   "outputs": [
    {
     "name": "stdout",
     "output_type": "stream",
     "text": [
      "import model DMsimp_s_spin1 \n",
      "define j = g u c d b s t u~ c~ d~ b~ s~ t~ \n",
      "generate p p > xd xd~ @0 \n",
      "add process p p > xd xd~ j @1\n",
      "add process p p > xd xd~ j j @2\n",
      "output /youwei_home/SVJ_py/Tutorial_v2/s_channel0\n",
      "\n",
      "launch /youwei_home/SVJ_py/Tutorial_v2/s_channel0\n",
      "\n",
      "shower=OFF \n",
      "detector=OFF \n",
      "analysis=OFF \n",
      "\n",
      "set run_card nevents 20000\n",
      "set run_card ebeam1 7000.0\n",
      "set run_card ebeam2 7000.0\n",
      "set MXd 10\n",
      "set MY1 scan:[1000, 1500, 2000, 100000]\n",
      "set ickkw 1 \n",
      "set xqcut 100\n",
      "set gVXd 1 \n",
      "set gVd11 0.1 \n",
      "set gVu11 0.1 \n",
      "set gVd22 0.1 \n",
      "set gVu22 0.1 \n",
      "set gVd33 0.1 \n",
      "set gVu33 0.1 \n",
      "set decay wy1 auto\n"
     ]
    }
   ],
   "source": [
    "check_txt(0)"
   ]
  },
  {
   "cell_type": "markdown",
   "metadata": {},
   "source": [
    "## Parton Level"
   ]
  },
  {
   "cell_type": "code",
   "execution_count": 5,
   "metadata": {},
   "outputs": [
    {
     "data": {
      "text/plain": [
       "0"
      ]
     },
     "execution_count": 5,
     "metadata": {},
     "output_type": "execute_result"
    }
   ],
   "source": [
    "dirc = '/youwei_home/SVJ_py/Tutorial_v2/'; fname = 'test'\n",
    "fnamei = fname + str(0) + '.txt'\n",
    "madgraph_bin = '/root/MG5_aMC_v2_7_2/bin/mg5_aMC'  # type where your mg5_aMC is\n",
    "\n",
    "# os.system('nohup /root/MG5_aMC_v2_7_2/bin/mg5_aMC /youwei_home/SVJ_py/Tutorial/test0.txt > /youwei_home/SVJ_py/Tutorial/test0.log 2>&1 &')\n",
    "os.system('nohup ' + madgraph_bin +' '+ dirc + fnamei + ' > ' + dirc + fname+str(0)+'.log 2>&1 &')"
   ]
  },
  {
   "cell_type": "markdown",
   "metadata": {},
   "source": [
    "#### Note: Why is there to ouput 0?\n",
    "Ans: 0 stands for normal or successful run."
   ]
  },
  {
   "cell_type": "markdown",
   "metadata": {},
   "source": [
    "## Change PID"
   ]
  },
  {
   "cell_type": "code",
   "execution_count": 6,
   "metadata": {},
   "outputs": [],
   "source": [
    "N = 1  # which means number of collision events\n",
    "Nrun = 4  # which means number of Z' mass scanning"
   ]
  },
  {
   "cell_type": "markdown",
   "metadata": {},
   "source": [
    "#### Note: Important parameter N and run in .ipynb"
   ]
  },
  {
   "cell_type": "code",
   "execution_count": 7,
   "metadata": {},
   "outputs": [
    {
     "name": "stderr",
     "output_type": "stream",
     "text": [
      "100%|██████████| 4/4 [00:00<00:00, 736.20it/s]"
     ]
    },
    {
     "name": "stdout",
     "output_type": "stream",
     "text": [
      "gzip -d /youwei_home/SVJ_py/Tutorial_v2/s_channel0/Events/run_01/unweighted_events.lhe.gz\n",
      "sed -i 's/5000521/4900101/g' /youwei_home/SVJ_py/Tutorial_v2/s_channel0/Events/run_01/unweighted_events.lhe\n",
      "grep 4900101 /youwei_home/SVJ_py/Tutorial_v2/s_channel0/Events/run_01/unweighted_events.lhe > /youwei_home/SVJ_py/Tutorial_v2/checkPID/checkPID0_1.log 2>&1 &\n",
      "-------------------------------------------------------------------------------------------------------------------------------------------------------------\n",
      "gzip -d /youwei_home/SVJ_py/Tutorial_v2/s_channel0/Events/run_02/unweighted_events.lhe.gz\n",
      "sed -i 's/5000521/4900101/g' /youwei_home/SVJ_py/Tutorial_v2/s_channel0/Events/run_02/unweighted_events.lhe\n",
      "grep 4900101 /youwei_home/SVJ_py/Tutorial_v2/s_channel0/Events/run_02/unweighted_events.lhe > /youwei_home/SVJ_py/Tutorial_v2/checkPID/checkPID0_2.log 2>&1 &\n",
      "-------------------------------------------------------------------------------------------------------------------------------------------------------------\n",
      "gzip -d /youwei_home/SVJ_py/Tutorial_v2/s_channel0/Events/run_03/unweighted_events.lhe.gz\n",
      "sed -i 's/5000521/4900101/g' /youwei_home/SVJ_py/Tutorial_v2/s_channel0/Events/run_03/unweighted_events.lhe\n",
      "grep 4900101 /youwei_home/SVJ_py/Tutorial_v2/s_channel0/Events/run_03/unweighted_events.lhe > /youwei_home/SVJ_py/Tutorial_v2/checkPID/checkPID0_3.log 2>&1 &\n",
      "-------------------------------------------------------------------------------------------------------------------------------------------------------------\n",
      "gzip -d /youwei_home/SVJ_py/Tutorial_v2/s_channel0/Events/run_04/unweighted_events.lhe.gz\n",
      "sed -i 's/5000521/4900101/g' /youwei_home/SVJ_py/Tutorial_v2/s_channel0/Events/run_04/unweighted_events.lhe\n",
      "grep 4900101 /youwei_home/SVJ_py/Tutorial_v2/s_channel0/Events/run_04/unweighted_events.lhe > /youwei_home/SVJ_py/Tutorial_v2/checkPID/checkPID0_4.log 2>&1 &\n",
      "-------------------------------------------------------------------------------------------------------------------------------------------------------------\n"
     ]
    },
    {
     "name": "stderr",
     "output_type": "stream",
     "text": [
      "\n"
     ]
    }
   ],
   "source": [
    "output = '/youwei_home/SVJ_py/Tutorial_v2/'\n",
    "fname = 'unweighted_events.lhe'\n",
    "fnamei = fname + '.gz'\n",
    "for i in range(N):\n",
    "    for run in tqdm(range(Nrun)):\n",
    "        outputi = output + 's_channel' + str(i) + '/Events/run_0'+str(run+1)+'/'\n",
    "#         print(outputi + fnamei)\n",
    "        print('gzip -d ' + outputi + fnamei)\n",
    "        print(\"sed -i 's/5000521/4900101/g' \" + outputi + fname)\n",
    "        print('grep 4900101 ' + outputi + fname + ' > ' + output + 'checkPID/checkPID'+str(i)+'_'+str(run+1)+'.log 2>&1 &')\n",
    "        print('-'*157)"
   ]
  },
  {
   "cell_type": "code",
   "execution_count": 8,
   "metadata": {},
   "outputs": [],
   "source": [
    "output = '/youwei_home/SVJ_py/Tutorial_v2/'\n",
    "fname = 'unweighted_events.lhe'\n",
    "fnamei = fname + '.gz'\n",
    "for i in range(N):\n",
    "    for run in range(Nrun):\n",
    "        outputi = output + 's_channel' + str(i) + '/Events/run_0'+str(run+1)+'/'\n",
    "        os.system('gzip -d ' + outputi + fnamei)\n",
    "        os.system(\"sed -i 's/5000521/4900101/g' \" + outputi + fname)\n",
    "        os.system('grep 4900101 ' + outputi + fname + ' > ' + output + 'checkPID/checkPID'+str(i)+'_'+str(run+1)+'.log 2>&1 &')"
   ]
  },
  {
   "cell_type": "markdown",
   "metadata": {},
   "source": [
    "## Clean Up LHE Files Output Path and Move All LHE Files to LHE Directory"
   ]
  },
  {
   "cell_type": "markdown",
   "metadata": {},
   "source": [
    "### Notice: I have not already done this step, since there is double volume."
   ]
  },
  {
   "cell_type": "code",
   "execution_count": 9,
   "metadata": {},
   "outputs": [
    {
     "data": {
      "text/plain": [
       "0"
      ]
     },
     "execution_count": 9,
     "metadata": {},
     "output_type": "execute_result"
    }
   ],
   "source": [
    "dir_LHE = '/youwei_home/SVJ_py/Tutorial_v2/LHE/'\n",
    "os.system('rm -r '+dir_LHE)"
   ]
  },
  {
   "cell_type": "code",
   "execution_count": 10,
   "metadata": {},
   "outputs": [
    {
     "data": {
      "text/plain": [
       "0"
      ]
     },
     "execution_count": 10,
     "metadata": {},
     "output_type": "execute_result"
    }
   ],
   "source": [
    "os.system('mkdir '+dir_LHE)"
   ]
  },
  {
   "cell_type": "code",
   "execution_count": 11,
   "metadata": {},
   "outputs": [
    {
     "name": "stdout",
     "output_type": "stream",
     "text": [
      "cp /youwei_home/SVJ_py/Tutorial_v2/s_channel0/Events/run_01/unweighted_events.lhe /youwei_home/SVJ_py/Tutorial_v2/LHE/0_1.lhe\n",
      "cp /youwei_home/SVJ_py/Tutorial_v2/s_channel0/Events/run_02/unweighted_events.lhe /youwei_home/SVJ_py/Tutorial_v2/LHE/0_2.lhe\n",
      "cp /youwei_home/SVJ_py/Tutorial_v2/s_channel0/Events/run_03/unweighted_events.lhe /youwei_home/SVJ_py/Tutorial_v2/LHE/0_3.lhe\n",
      "cp /youwei_home/SVJ_py/Tutorial_v2/s_channel0/Events/run_04/unweighted_events.lhe /youwei_home/SVJ_py/Tutorial_v2/LHE/0_4.lhe\n"
     ]
    }
   ],
   "source": [
    "output = '/youwei_home/SVJ_py/Tutorial_v2/s_channel'\n",
    "fname = 'unweighted_events.lhe'\n",
    "dir_LHE = '/youwei_home/SVJ_py/Tutorial_v2/LHE/'\n",
    "\n",
    "for i in range(N):\n",
    "    for run in range(Nrun):\n",
    "        outputi = output + str(i) + '/Events/run_0'+str(run+1)+'/'\n",
    "        print('cp '+outputi + fname +' '+ dir_LHE + str(i)+'_'+str(run+1)+'.lhe')"
   ]
  },
  {
   "cell_type": "code",
   "execution_count": 30,
   "metadata": {},
   "outputs": [
    {
     "name": "stderr",
     "output_type": "stream",
     "text": [
      "100%|██████████| 4/4 [00:00<00:00,  8.32it/s]\n"
     ]
    }
   ],
   "source": [
    "output = '/youwei_home/SVJ_py/Tutorial_v2/s_channel'\n",
    "fname = 'unweighted_events.lhe'\n",
    "dir_LHE = '/youwei_home/SVJ_py/Tutorial_v2/LHE/'\n",
    "\n",
    "for i in range(N):\n",
    "    for run in tqdm(range(Nrun)):\n",
    "        outputi = output + str(i) + '/Events/run_0'+str(run+1)+'/'\n",
    "        os.system('cp '+outputi + fname +' '+ dir_LHE + str(i)+'_'+str(run+1)+'.lhe')"
   ]
  },
  {
   "cell_type": "markdown",
   "metadata": {},
   "source": [
    "## Generate Delphes & Pythia Parameters Setting .cmnd and .tcl"
   ]
  },
  {
   "cell_type": "markdown",
   "metadata": {},
   "source": [
    "#### Note: Change alphaFSR to alphaOrder head"
   ]
  },
  {
   "cell_type": "code",
   "execution_count": 9,
   "metadata": {},
   "outputs": [],
   "source": [
    "def gencmnd(i, run, nevent=20000, mass=20, rinv=0.3, Lambda_d=5, dirc = '/youwei_home/SVJ_py/Tutorial_v2/DelPy_cmnd/',\n",
    "              fname = 'test', inputpath = '/youwei_home/SVJ_py/Tutorial_v2/s_channel'):\n",
    "#     This code is save i times process_setting in different txt file. And then we can use these file as Madgraph input.\n",
    "#     dirc is direction to save your setting txt(.cmnd).\n",
    "#     inputpath is new direction of your .lhe files = save_dir.    \n",
    "#     fname is setting_txt_file's name.\n",
    "    \n",
    "#     MY1 is Z' mass.\n",
    "#     nevent = 20000  ## N events you want\n",
    "#     ECM = 14000  ## Central mass energy GeV\n",
    "#     Lambda_d = 5 = Lambda_d(confinement scale)  # 1 -> 5\n",
    "#     rinv = 0.3  ## Invisible rate\n",
    "#     mass = 20  ## Unstable dark meson mass\n",
    "#     Lambda_d = mass/2                                                   ???\n",
    "#     xqcut = 100  ## The paper in 1707.05632 default in Madgraph.\n",
    "#     Qcut = max(1.4 * xqcut, xqcut+10)  ## setting in Pythia8\n",
    "#     nj = 2\n",
    "#     # ++ means added by myself.\n",
    "    \n",
    "    \n",
    "    \n",
    "    fname = fname + str(i)+'_'+str(run)+'.cmnd'  # i stands for which event and run means different Z' mass\n",
    "    \n",
    "    ndp = 6  # Number of decimal places you want.\n",
    "    f = open(dirc+fname, 'w')\n",
    "#------------------------------------------------------------ Setting used in the main program\n",
    "    f.write('Main:numberOfEvents = '+str(nevent)+' \\n')  # Number of events\n",
    "    f.write('Main:timesAllowErrors = 3 \\n')\n",
    "#------------------------------------------------------------ Setting related to output in init(), next(), and stat()\n",
    "#     f.write('Init:showChangedSettings = on  \\n')  # ++\n",
    "#     f.write('Init:showChangedParticleData = off \\n')  # ++\n",
    "    f.write('Random:seed = '+str((i+1)*100)+'\\n')  # Change random seed.  # ++\n",
    "    f.write('Next:numberCount = 1000 \\n')  # Print the progress per 1000 events.\n",
    "    f.write('Next:numberShowInfo = 1 \\n')\n",
    "    f.write('Next:numberShowProcess = 1 \\n')\n",
    "    f.write('Next:numberShowEvent = 1 \\n')\n",
    "    f.write('\\n')\n",
    "#------------------------------------------------------------ Ignore these particle: We don't want they are produced.\n",
    "    f.write('4900001:m0 = 50000 \\n')\n",
    "    f.write('4900002:m0 = 50000 \\n')\n",
    "    f.write('4900003:m0 = 50000 \\n')\n",
    "    f.write('4900004:m0 = 50000 \\n')\n",
    "    f.write('4900005:m0 = 50000 \\n')\n",
    "    f.write('4900006:m0 = 50000 \\n')\n",
    "    \n",
    "    f.write('4900011:m0 = 50000 \\n')\n",
    "    f.write('4900012:m0 = 50000 \\n')\n",
    "    f.write('4900013:m0 = 50000 \\n')\n",
    "    f.write('4900014:m0 = 50000 \\n')\n",
    "    f.write('4900015:m0 = 50000 \\n')\n",
    "    f.write('4900016:m0 = 50000 \\n')\n",
    "    f.write('\\n')\n",
    "#------------------------------------------------------------ Hidden Valley\n",
    "    f.write('HiddenValley:Ngauge = 2 \\n')  # Number of gauge (default = 3; min = 1)\n",
    "    f.write('HiddenValley:alphaOrder = 1 \\n')  # alphaOrder 0 for fixed alpha_d, 1 for running alpha_d optain by other variables\n",
    "    # (default = 0; min = 0; max = 1)\n",
    "    f.write('HiddenValley:Lambda = '+str(Lambda_d)+'\\n')  #lambda_d (default = 0.4; min = 0.1)\n",
    "    f.write('HiddenValley:nFlav = 2 \\n')  # Number of flavor\n",
    "    f.write('HiddenValley:alphaFSR = '+str(Lambda_d)+'\\n')  # (default = 0.1; min = 0.0)  # ++\n",
    "    f.write('HiddenValley:spinFv = 0 \\n')\n",
    "    f.write('HiddenValley:FSR = on \\n')\n",
    "    f.write('HiddenValley:fragment = on \\n')\n",
    "    f.write('HiddenValley:pTminFSR = '+str(1.1*Lambda_d)+'\\n')  # (default = 0.44; min = 0.1)\n",
    "    f.write('HiddenValley:probVector = '+str(0.75)+'\\n')\n",
    "    f.write('\\n')\n",
    "#------------------------------------------------------------ Dark particle setting\n",
    "    f.write('4900101:m0 = '+str(mass/2)+'\\n')  # 4900101 = qv\n",
    "    f.write('4900101:mWidth = '+str(mass/100)+'\\n')\n",
    "    f.write('4900101:mMin = '+str(mass/2-mass/100)+'\\n')\n",
    "    f.write('4900101:mMax = '+str(mass/2+mass/100)+'\\n')\n",
    "    f.write('4900111:m0 = '+str(mass)+'\\n')  # 4900111 = pivDiag(diagonal HV-meson) that can decay back into the SM sector.\n",
    "    f.write('4900113:m0 = '+str(mass)+'\\n')  # 4900113 = rhovDiag(diagonal HV-meson) that can decay back into the SM sector.\n",
    "    f.write('4900211:m0 = '+str(mass)+'\\n')  # 4900211 = pivUp(off-diagonal HV-meson) that is stable and invisible.\n",
    "    f.write('4900213:m0 = '+str(mass)+'\\n')  # 4900213 = rhovUp(off-diagonal HV-meson) that is stable and invisible.\n",
    "    f.write('51:m0 = '+str(mass/2-0.01)+'\\n')\n",
    "    f.write('53:m0 = '+str(mass/2-0.01)+'\\n')\n",
    "    f.write('#4900211:m0 = '+str(mass/2.0-0.01)+'\\n')  # 4900211 = pivUp(off-diagonal HV-meson) that is stable and invisible.\n",
    "    f.write('#4900213:m0 = '+str(mass/2.0-0.01)+'\\n')  # 4900213 = rhovUp(off-diagonal HV-meson) that is stable and invisible.\n",
    "    f.write('\\n')\n",
    "    \n",
    "    f.write('4900111:onechannel = 1 '+str(1.0-rinv)+' 91 -3 3 \\n')\n",
    "    f.write('4900111:addchannel = 1 '+str(rinv)+' 0 51 -51 \\n')\n",
    "    f.write('\\n')\n",
    "#     f.write('4900113:onechannel = 1 '+str(round((1-rinv)/5., ndp))+' 91 -1 1 \\n')  # /5. for python2. Python2 is idiot.\n",
    "#     f.write('4900113:addchannel = 1 '+str(round((1-rinv)/5, ndp))+' 91 -2 2 \\n')  # /5 for python3, they are not different. Python3 is smarter.\n",
    "    f.write('4900113:onechannel = 1 '+str(round((1-rinv)/5, ndp))+' 91 -1 1 \\n')\n",
    "    f.write('4900113:addchannel = 1 '+str(round((1-rinv)/5, ndp))+' 91 -2 2 \\n')\n",
    "    f.write('4900113:addchannel = 1 '+str(round((1-rinv)/5, ndp))+' 91 -3 3 \\n')\n",
    "    f.write('4900113:addchannel = 1 '+str(round((1-rinv)/5, ndp))+' 91 -4 4 \\n')\n",
    "    f.write('4900113:addchannel = 1 '+str(round((1-rinv)/5, ndp))+' 91 -5 5 \\n')\n",
    "    f.write('4900113:addchannel = 1 '+str(rinv)+' 0 53 -53 \\n')\n",
    "    f.write('\\n')\n",
    "    f.write('4900211:onechannel = 1 '+str(1.0-rinv)+' 91 -3 3 \\n')\n",
    "    f.write('4900211:addchannel = 1 '+str(rinv)+' 0 51 -51 \\n')\n",
    "    f.write('\\n')\n",
    "    f.write('4900213:onechannel = 1 '+str(round((1-rinv)/5, ndp))+' 91 -1 1 \\n')\n",
    "    f.write('4900213:addchannel = 1 '+str(round((1-rinv)/5, ndp))+' 91 -2 2 \\n')\n",
    "    f.write('4900213:addchannel = 1 '+str(round((1-rinv)/5, ndp))+' 91 -3 3 \\n')\n",
    "    f.write('4900213:addchannel = 1 '+str(round((1-rinv)/5, ndp))+' 91 -4 4 \\n')\n",
    "    f.write('4900213:addchannel = 1 '+str(round((1-rinv)/5, ndp))+' 91 -5 5 \\n')\n",
    "    f.write('4900213:addchannel = 1 '+str(rinv)+' 0 53 -53 \\n')\n",
    "    f.write('\\n')\n",
    "#------------------------------------------------------------ Jet matching\n",
    "    f.write('JetMatching:merge = on \\n')\n",
    "    f.write('JetMatching:setMad = on \\n')\n",
    "    f.write('JetMatching:scheme = 1 \\n')\n",
    "    f.write('JetMatching:jetAlgorithm = 2 \\n')\n",
    "    f.write('JetMatching:exclusive = 2 \\n')\n",
    "    f.write('JetMatching:nJetMax = 2 \\n')\n",
    "    f.write('JetMatching:qCut = 100 \\n')\n",
    "    f.write('JetMatching:nQmatch = 5 \\n')\n",
    "    f.write('JetMatching:clFact = 1.0 \\n')\n",
    "    f.write('\\n')\n",
    "#------------------------------------------------------------ Input LHE file\n",
    "    f.write('Beams:frameType = 4 \\n')\n",
    "    f.write('Beams:LHEF = '+inputpath+str(i)+'/Events/run_0'+str(run)+'/unweighted_events.lhe')  # Where your LHE file is.\n",
    "    \n",
    "    f.close()  # Good habit\n",
    "\n",
    "\n",
    "\n",
    "def check_cmnd(i, run, dirc = '/youwei_home/SVJ_py/Tutorial_v2/DelPy_cmnd/', fname = 'test'):\n",
    "    fname = fname + str(i)+'_'+str(run)+'.cmnd'\n",
    "    f = open(dirc+fname, 'r')\n",
    "    print(f.read())\n",
    "    f.close()  # Good habit"
   ]
  },
  {
   "cell_type": "code",
   "execution_count": 10,
   "metadata": {},
   "outputs": [
    {
     "name": "stderr",
     "output_type": "stream",
     "text": [
      "100%|██████████| 4/4 [00:00<00:00, 2058.05it/s]\n",
      "100%|██████████| 4/4 [00:00<00:00, 159.02it/s]\n",
      "100%|██████████| 4/4 [00:00<00:00, 152.10it/s]\n",
      "100%|██████████| 4/4 [00:00<00:00, 185.78it/s]\n"
     ]
    }
   ],
   "source": [
    "for i in range(N):\n",
    "    for run in tqdm(range(Nrun)):\n",
    "        newdirc = '/youwei_home/SVJ_py/Tutorial_v2/DelPy_cmnd/rinv03/'\n",
    "        gencmnd(i, run+1, dirc=newdirc)  # This run stands for run_0i which means different Z' mass.\n",
    "\n",
    "for i in range(N):\n",
    "    for run in tqdm(range(Nrun)):\n",
    "        newdirc = '/youwei_home/SVJ_py/Tutorial_v2/DelPy_cmnd/rinv0/'\n",
    "        gencmnd(i, run+1, rinv=0.0, dirc=newdirc)\n",
    "\n",
    "for i in range(N):\n",
    "    for run in tqdm(range(Nrun)):\n",
    "        newdirc = '/youwei_home/SVJ_py/Tutorial_v2/DelPy_cmnd/rinv05/'\n",
    "        gencmnd(i, run+1, rinv=0.5, dirc=newdirc)\n",
    "\n",
    "for i in range(N):\n",
    "    for run in tqdm(range(Nrun)):\n",
    "        newdirc = '/youwei_home/SVJ_py/Tutorial_v2/DelPy_cmnd/rinv1/'\n",
    "        gencmnd(i, run+1, rinv=1.0, dirc=newdirc)"
   ]
  },
  {
   "cell_type": "code",
   "execution_count": 11,
   "metadata": {},
   "outputs": [
    {
     "name": "stdout",
     "output_type": "stream",
     "text": [
      "Main:numberOfEvents = 20000 \n",
      "Main:timesAllowErrors = 3 \n",
      "Random:seed = 100\n",
      "Next:numberCount = 1000 \n",
      "Next:numberShowInfo = 1 \n",
      "Next:numberShowProcess = 1 \n",
      "Next:numberShowEvent = 1 \n",
      "\n",
      "4900001:m0 = 50000 \n",
      "4900002:m0 = 50000 \n",
      "4900003:m0 = 50000 \n",
      "4900004:m0 = 50000 \n",
      "4900005:m0 = 50000 \n",
      "4900006:m0 = 50000 \n",
      "4900011:m0 = 50000 \n",
      "4900012:m0 = 50000 \n",
      "4900013:m0 = 50000 \n",
      "4900014:m0 = 50000 \n",
      "4900015:m0 = 50000 \n",
      "4900016:m0 = 50000 \n",
      "\n",
      "HiddenValley:Ngauge = 2 \n",
      "HiddenValley:alphaOrder = 1 \n",
      "HiddenValley:Lambda = 5\n",
      "HiddenValley:nFlav = 2 \n",
      "HiddenValley:alphaFSR = 5\n",
      "HiddenValley:spinFv = 0 \n",
      "HiddenValley:FSR = on \n",
      "HiddenValley:fragment = on \n",
      "HiddenValley:pTminFSR = 5.5\n",
      "HiddenValley:probVector = 0.75\n",
      "\n",
      "4900101:m0 = 10.0\n",
      "4900101:mWidth = 0.2\n",
      "4900101:mMin = 9.8\n",
      "4900101:mMax = 10.2\n",
      "4900111:m0 = 20\n",
      "4900113:m0 = 20\n",
      "4900211:m0 = 20\n",
      "4900213:m0 = 20\n",
      "51:m0 = 9.99\n",
      "53:m0 = 9.99\n",
      "#4900211:m0 = 9.99\n",
      "#4900213:m0 = 9.99\n",
      "\n",
      "4900111:onechannel = 1 1.0 91 -3 3 \n",
      "4900111:addchannel = 1 0.0 0 51 -51 \n",
      "\n",
      "4900113:onechannel = 1 0.2 91 -1 1 \n",
      "4900113:addchannel = 1 0.2 91 -2 2 \n",
      "4900113:addchannel = 1 0.2 91 -3 3 \n",
      "4900113:addchannel = 1 0.2 91 -4 4 \n",
      "4900113:addchannel = 1 0.2 91 -5 5 \n",
      "4900113:addchannel = 1 0.0 0 53 -53 \n",
      "\n",
      "4900211:onechannel = 1 1.0 91 -3 3 \n",
      "4900211:addchannel = 1 0.0 0 51 -51 \n",
      "\n",
      "4900213:onechannel = 1 0.2 91 -1 1 \n",
      "4900213:addchannel = 1 0.2 91 -2 2 \n",
      "4900213:addchannel = 1 0.2 91 -3 3 \n",
      "4900213:addchannel = 1 0.2 91 -4 4 \n",
      "4900213:addchannel = 1 0.2 91 -5 5 \n",
      "4900213:addchannel = 1 0.0 0 53 -53 \n",
      "\n",
      "JetMatching:merge = on \n",
      "JetMatching:setMad = on \n",
      "JetMatching:scheme = 1 \n",
      "JetMatching:jetAlgorithm = 2 \n",
      "JetMatching:exclusive = 2 \n",
      "JetMatching:nJetMax = 2 \n",
      "JetMatching:qCut = 100 \n",
      "JetMatching:nQmatch = 5 \n",
      "JetMatching:clFact = 1.0 \n",
      "\n",
      "Beams:frameType = 4 \n",
      "Beams:LHEF = /youwei_home/SVJ_py/Tutorial_v2/s_channel0/Events/run_02/unweighted_events.lhe\n"
     ]
    }
   ],
   "source": [
    "check_cmnd(0, 2, dirc = '/youwei_home/SVJ_py/Tutorial_v2/DelPy_cmnd/rinv0/')"
   ]
  },
  {
   "cell_type": "code",
   "execution_count": 12,
   "metadata": {},
   "outputs": [
    {
     "name": "stdout",
     "output_type": "stream",
     "text": [
      "Main:numberOfEvents = 20000 \n",
      "Main:timesAllowErrors = 3 \n",
      "Random:seed = 100\n",
      "Next:numberCount = 1000 \n",
      "Next:numberShowInfo = 1 \n",
      "Next:numberShowProcess = 1 \n",
      "Next:numberShowEvent = 1 \n",
      "\n",
      "4900001:m0 = 50000 \n",
      "4900002:m0 = 50000 \n",
      "4900003:m0 = 50000 \n",
      "4900004:m0 = 50000 \n",
      "4900005:m0 = 50000 \n",
      "4900006:m0 = 50000 \n",
      "4900011:m0 = 50000 \n",
      "4900012:m0 = 50000 \n",
      "4900013:m0 = 50000 \n",
      "4900014:m0 = 50000 \n",
      "4900015:m0 = 50000 \n",
      "4900016:m0 = 50000 \n",
      "\n",
      "HiddenValley:Ngauge = 2 \n",
      "HiddenValley:alphaOrder = 1 \n",
      "HiddenValley:Lambda = 5\n",
      "HiddenValley:nFlav = 2 \n",
      "HiddenValley:alphaFSR = 5\n",
      "HiddenValley:spinFv = 0 \n",
      "HiddenValley:FSR = on \n",
      "HiddenValley:fragment = on \n",
      "HiddenValley:pTminFSR = 5.5\n",
      "HiddenValley:probVector = 0.75\n",
      "\n",
      "4900101:m0 = 10.0\n",
      "4900101:mWidth = 0.2\n",
      "4900101:mMin = 9.8\n",
      "4900101:mMax = 10.2\n",
      "4900111:m0 = 20\n",
      "4900113:m0 = 20\n",
      "4900211:m0 = 20\n",
      "4900213:m0 = 20\n",
      "51:m0 = 9.99\n",
      "53:m0 = 9.99\n",
      "#4900211:m0 = 9.99\n",
      "#4900213:m0 = 9.99\n",
      "\n",
      "4900111:onechannel = 1 0.7 91 -3 3 \n",
      "4900111:addchannel = 1 0.3 0 51 -51 \n",
      "\n",
      "4900113:onechannel = 1 0.14 91 -1 1 \n",
      "4900113:addchannel = 1 0.14 91 -2 2 \n",
      "4900113:addchannel = 1 0.14 91 -3 3 \n",
      "4900113:addchannel = 1 0.14 91 -4 4 \n",
      "4900113:addchannel = 1 0.14 91 -5 5 \n",
      "4900113:addchannel = 1 0.3 0 53 -53 \n",
      "\n",
      "4900211:onechannel = 1 0.7 91 -3 3 \n",
      "4900211:addchannel = 1 0.3 0 51 -51 \n",
      "\n",
      "4900213:onechannel = 1 0.14 91 -1 1 \n",
      "4900213:addchannel = 1 0.14 91 -2 2 \n",
      "4900213:addchannel = 1 0.14 91 -3 3 \n",
      "4900213:addchannel = 1 0.14 91 -4 4 \n",
      "4900213:addchannel = 1 0.14 91 -5 5 \n",
      "4900213:addchannel = 1 0.3 0 53 -53 \n",
      "\n",
      "JetMatching:merge = on \n",
      "JetMatching:setMad = on \n",
      "JetMatching:scheme = 1 \n",
      "JetMatching:jetAlgorithm = 2 \n",
      "JetMatching:exclusive = 2 \n",
      "JetMatching:nJetMax = 2 \n",
      "JetMatching:qCut = 100 \n",
      "JetMatching:nQmatch = 5 \n",
      "JetMatching:clFact = 1.0 \n",
      "\n",
      "Beams:frameType = 4 \n",
      "Beams:LHEF = /youwei_home/SVJ_py/Tutorial_v2/s_channel0/Events/run_04/unweighted_events.lhe\n"
     ]
    }
   ],
   "source": [
    "check_cmnd(0, 4, dirc = '/youwei_home/SVJ_py/Tutorial_v2/DelPy_cmnd/rinv03/')"
   ]
  },
  {
   "cell_type": "markdown",
   "metadata": {},
   "source": [
    "### Notice: Here, you can directly upload .tcl file, or use 'New Launcher' and 'Text File', but you have to change .txt to .tcl."
   ]
  },
  {
   "cell_type": "markdown",
   "metadata": {},
   "source": [
    "## Clean Up All Files in Your .root Output Directory"
   ]
  },
  {
   "cell_type": "markdown",
   "metadata": {},
   "source": [
    "### Notice: This step is very important!!"
   ]
  },
  {
   "cell_type": "code",
   "execution_count": 13,
   "metadata": {},
   "outputs": [
    {
     "data": {
      "text/plain": [
       "0"
      ]
     },
     "execution_count": 13,
     "metadata": {},
     "output_type": "execute_result"
    }
   ],
   "source": [
    "dir_ROOT = '/youwei_home/SVJ_py/Tutorial_v2/ROOT/'\n",
    "os.system('rm -r '+dir_ROOT)"
   ]
  },
  {
   "cell_type": "code",
   "execution_count": 14,
   "metadata": {},
   "outputs": [
    {
     "data": {
      "text/plain": [
       "0"
      ]
     },
     "execution_count": 14,
     "metadata": {},
     "output_type": "execute_result"
    }
   ],
   "source": [
    "dir_ROOT = '/youwei_home/SVJ_py/Tutorial_v2/ROOT/'\n",
    "os.system('mkdir '+dir_ROOT)\n",
    "os.system('mkdir '+dir_ROOT+'rinv0')\n",
    "os.system('mkdir '+dir_ROOT+'rinv03')"
   ]
  },
  {
   "cell_type": "markdown",
   "metadata": {},
   "source": [
    "## Showering and Detector Simulation"
   ]
  },
  {
   "cell_type": "markdown",
   "metadata": {},
   "source": [
    "#### Note: Here, I provide two ways to carry out showering and detector simulation."
   ]
  },
  {
   "cell_type": "code",
   "execution_count": null,
   "metadata": {},
   "outputs": [],
   "source": [
    "N = 1  # which means number of collision events\n",
    "Nrun = 4  # which means number of Z' mass scanning"
   ]
  },
  {
   "cell_type": "code",
   "execution_count": 15,
   "metadata": {},
   "outputs": [
    {
     "name": "stdout",
     "output_type": "stream",
     "text": [
      "nohup /root/Delphes-3.4.2/DelphesPythia8 /youwei_home/SVJ_py/Tutorial_v2/DelPy_cmnd/delphes_card_ATLAS.tcl /youwei_home/SVJ_py/Tutorial_v2/DelPy_cmnd/rinv0/test0_1.cmnd /youwei_home/SVJ_py/Tutorial_v2/ROOT/rinv0/test0_1.root > /youwei_home/SVJ_py/Tutorial_v2/ROOT/rinv0/test0_1.log 2>&1 &\n",
      "----------------------------------------------------------------------------------------------------------------------------------------------------------------\n",
      "nohup /root/Delphes-3.4.2/DelphesPythia8 /youwei_home/SVJ_py/Tutorial_v2/DelPy_cmnd/delphes_card_ATLAS.tcl /youwei_home/SVJ_py/Tutorial_v2/DelPy_cmnd/rinv0/test0_2.cmnd /youwei_home/SVJ_py/Tutorial_v2/ROOT/rinv0/test0_2.root > /youwei_home/SVJ_py/Tutorial_v2/ROOT/rinv0/test0_2.log 2>&1 &\n",
      "----------------------------------------------------------------------------------------------------------------------------------------------------------------\n",
      "nohup /root/Delphes-3.4.2/DelphesPythia8 /youwei_home/SVJ_py/Tutorial_v2/DelPy_cmnd/delphes_card_ATLAS.tcl /youwei_home/SVJ_py/Tutorial_v2/DelPy_cmnd/rinv0/test0_3.cmnd /youwei_home/SVJ_py/Tutorial_v2/ROOT/rinv0/test0_3.root > /youwei_home/SVJ_py/Tutorial_v2/ROOT/rinv0/test0_3.log 2>&1 &\n",
      "----------------------------------------------------------------------------------------------------------------------------------------------------------------\n",
      "nohup /root/Delphes-3.4.2/DelphesPythia8 /youwei_home/SVJ_py/Tutorial_v2/DelPy_cmnd/delphes_card_ATLAS.tcl /youwei_home/SVJ_py/Tutorial_v2/DelPy_cmnd/rinv0/test0_4.cmnd /youwei_home/SVJ_py/Tutorial_v2/ROOT/rinv0/test0_4.root > /youwei_home/SVJ_py/Tutorial_v2/ROOT/rinv0/test0_4.log 2>&1 &\n",
      "----------------------------------------------------------------------------------------------------------------------------------------------------------------\n"
     ]
    }
   ],
   "source": [
    "DelPy_path = '/youwei_home/SVJ_py/Tutorial_v2/DelPy_cmnd/'  # Pythia .cmnd and delphes .tcl path\n",
    "outputpath = '/youwei_home/SVJ_py/Tutorial_v2/ROOT/'\n",
    "fname = 'test'\n",
    "DelphesPythia8 = '/root/Delphes-3.4.2/DelphesPythia8'  # type where your DelphesPythia8 is\n",
    "\n",
    "for i in range(N):\n",
    "    for run in range(Nrun):\n",
    "        cmndi = fname + str(i)+'_'+str(run+1)+'.cmnd'  # input .cmnd file\n",
    "        fnamei = fname + str(i)+'_'+str(run+1)+'.root'  # output .root file\n",
    "        logi = fname + str(i)+'_'+str(run+1)+'.log'  # output .log file\n",
    "        \n",
    "        DelPy_path_rinv = DelPy_path+'rinv0/'  # input .cmnd path\n",
    "        out_rinv = outputpath+'rinv0/'  # output file path\n",
    "#         os.system('nohup '+DelphesPythia8+' '+DelPy_path+'delphes_card_ATLAS.tcl'+' '+DelPy_pathi+cmndi+' '+outi+fnamei+ ' > ' +outi+fname+str(i)+'.log 2>&1 &')\n",
    "        print('nohup '+DelphesPythia8+' '+DelPy_path+'delphes_card_ATLAS.tcl'+' '+DelPy_path_rinv+cmndi+' '+out_rinv+fnamei+ ' > ' +out_rinv+logi+' 2>&1 &')\n",
    "        print('-'*160)"
   ]
  },
  {
   "cell_type": "code",
   "execution_count": 16,
   "metadata": {},
   "outputs": [],
   "source": [
    "def showerdetsim(N, Nrun, rinv=0.3, DelPy_path = '/youwei_home/SVJ_py/Tutorial_v2/DelPy_cmnd/', outputpath = '/youwei_home/SVJ_py/Tutorial_v2/ROOT/',\n",
    "        fname = 'test', DelphesPythia8 = '/root/Delphes-3.4.2/DelphesPythia8'):\n",
    "#     N = which event\n",
    "#     Nrun = which scanning or which Z' mass\n",
    "#     DelPy_path = Pythia .cmnd and delphes .tcl path\n",
    "#     outputpath = .root files path\n",
    "#     DelphesPythia8 = type where your DelphesPythia8 is\n",
    "    \n",
    "    \n",
    "    \n",
    "    if 0 < rinv < 1:\n",
    "        DelPy_path_rinv = DelPy_path+'rinv0'+str(int(rinv*10))+'/'\n",
    "        out_rinv = outputpath+'rinv0'+str(int(rinv*10))+'/'\n",
    "    else:\n",
    "        DelPy_path_rinv = DelPy_path+'rinv'+str(rinv)+'/'\n",
    "        out_rinv = outputpath+'rinv'+str(rinv)+'/'\n",
    "    \n",
    "    for i in range(N):\n",
    "        for run in range(Nrun):\n",
    "            cmndi = fname + str(i)+'_'+str(run+1)+'.cmnd'  # input .cmnd file\n",
    "            fnamei = fname + str(i)+'_'+str(run+1)+'.root'  # output .root file\n",
    "            logi = fname + str(i)+'_'+str(run+1)+'.log'  # output .log file\n",
    "            os.system('nohup '+DelphesPythia8+' '+DelPy_path+'delphes_card_ATLAS.tcl'+' '+DelPy_path_rinv+cmndi+' '+out_rinv+fnamei+ ' > ' +out_rinv+logi+' 2>&1 &')"
   ]
  },
  {
   "cell_type": "code",
   "execution_count": 17,
   "metadata": {},
   "outputs": [],
   "source": [
    "showerdetsim(N, Nrun, rinv=0.3)"
   ]
  },
  {
   "cell_type": "code",
   "execution_count": 18,
   "metadata": {},
   "outputs": [],
   "source": [
    "showerdetsim(N, Nrun, rinv=0)"
   ]
  },
  {
   "cell_type": "code",
   "execution_count": 19,
   "metadata": {},
   "outputs": [
    {
     "name": "stdout",
     "output_type": "stream",
     "text": [
      "1.235\n",
      "2.35\n",
      "4\n",
      "2\n"
     ]
    }
   ],
   "source": [
    "print(round(1.23456, 3))\n",
    "print(round(2.355, 2))\n",
    "print(round(3.5))\n",
    "print(round(2.5))"
   ]
  },
  {
   "cell_type": "markdown",
   "metadata": {},
   "source": [
    "#### Note: Function round is not good."
   ]
  },
  {
   "cell_type": "code",
   "execution_count": null,
   "metadata": {},
   "outputs": [],
   "source": []
  }
 ],
 "metadata": {
  "kernelspec": {
   "display_name": "Python 3",
   "language": "python",
   "name": "python3"
  },
  "language_info": {
   "codemirror_mode": {
    "name": "ipython",
    "version": 3
   },
   "file_extension": ".py",
   "mimetype": "text/x-python",
   "name": "python",
   "nbconvert_exporter": "python",
   "pygments_lexer": "ipython3",
   "version": "3.8.5"
  }
 },
 "nbformat": 4,
 "nbformat_minor": 4
}
