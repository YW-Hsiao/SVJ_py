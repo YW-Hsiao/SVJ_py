{
 "cells": [
  {
   "cell_type": "markdown",
   "metadata": {},
   "source": [
    "## Import Packages"
   ]
  },
  {
   "cell_type": "code",
   "execution_count": 1,
   "metadata": {},
   "outputs": [],
   "source": [
    "import os"
   ]
  },
  {
   "cell_type": "markdown",
   "metadata": {},
   "source": [
    "## Generate Parameters Setting .txt"
   ]
  },
  {
   "cell_type": "code",
   "execution_count": 2,
   "metadata": {},
   "outputs": [],
   "source": [
    "def gentxt(i, dirc = '/youwei_home/SVJ_py/Tutorial_ppee/', fname = 'test', outputpath = '/youwei_home/SVJ_py/Tutorial_ppee/ppee'):\n",
    "#     dirc is path to save your setting .txt files.\n",
    "#     fname is name of .txt files.\n",
    "#     outputpath is path you want to output your Madgraph output.\n",
    "    \n",
    "    fname = fname + str(i) + '.txt'\n",
    "    \n",
    "    f = open(dirc+fname, 'w')\n",
    "    f.write('generate p p > e- e+ \\n')\n",
    "    \n",
    "    f.write('output '+outputpath+'/'+str(i)+'\\n')\n",
    "    f.write('\\n')\n",
    "    f.write('launch '+outputpath+'/'+str(i)+'\\n')\n",
    "    f.write('\\n')\n",
    "    f.write('shower=OFF \\n')\n",
    "    f.write('detector=OFF \\n')\n",
    "    f.write('analysis=OFF')\n",
    "    \n",
    "    f.close()\n",
    "\n",
    "\n",
    "\n",
    "def check_txt(i, dirc = '/youwei_home/SVJ_py/Tutorial_ppee/', fname = 'test'):\n",
    "    fname = fname + str(i) + '.txt'\n",
    "    f = open(dirc+fname, 'r')\n",
    "    print(f.read())\n",
    "    f.close()  # Good habit"
   ]
  },
  {
   "cell_type": "code",
   "execution_count": 3,
   "metadata": {},
   "outputs": [],
   "source": [
    "gentxt(0)"
   ]
  },
  {
   "cell_type": "code",
   "execution_count": 4,
   "metadata": {},
   "outputs": [
    {
     "name": "stdout",
     "output_type": "stream",
     "text": [
      "generate p p > e- e+ \n",
      "output /youwei_home/SVJ_py/Tutorial_ppee/ppee/0\n",
      "\n",
      "launch /youwei_home/SVJ_py/Tutorial_ppee/ppee/0\n",
      "\n",
      "shower=OFF \n",
      "detector=OFF \n",
      "analysis=OFF\n"
     ]
    }
   ],
   "source": [
    "check_txt(0)"
   ]
  },
  {
   "cell_type": "markdown",
   "metadata": {},
   "source": [
    "## Parton Level"
   ]
  },
  {
   "cell_type": "code",
   "execution_count": 5,
   "metadata": {},
   "outputs": [
    {
     "data": {
      "text/plain": [
       "0"
      ]
     },
     "execution_count": 5,
     "metadata": {},
     "output_type": "execute_result"
    }
   ],
   "source": [
    "dirc = '/youwei_home/SVJ_py/Tutorial_ppee/'; fname = 'test'\n",
    "fnamei = fname + str(0) + '.txt'\n",
    "madgraph_bin = '/root/MG5_aMC_v2_7_2/bin/mg5_aMC'  # type where your mg5_aMC is\n",
    "\n",
    "# os.system('nohup /root/MG5_aMC_v2_7_2/bin/mg5_aMC /youwei_home/SVJ_py/Tutorial_ppee/test0.txt > /youwei_home/SVJ_py/Tutorial_ppee/test0.log 2>&1 &')\n",
    "os.system('nohup ' + madgraph_bin +' '+ dirc + fnamei + ' > ' + dirc + fname+str(0)+'.log 2>&1 &')"
   ]
  },
  {
   "cell_type": "code",
   "execution_count": null,
   "metadata": {},
   "outputs": [],
   "source": []
  }
 ],
 "metadata": {
  "kernelspec": {
   "display_name": "Python 3",
   "language": "python",
   "name": "python3"
  },
  "language_info": {
   "codemirror_mode": {
    "name": "ipython",
    "version": 3
   },
   "file_extension": ".py",
   "mimetype": "text/x-python",
   "name": "python",
   "nbconvert_exporter": "python",
   "pygments_lexer": "ipython3",
   "version": "3.8.5"
  }
 },
 "nbformat": 4,
 "nbformat_minor": 4
}
