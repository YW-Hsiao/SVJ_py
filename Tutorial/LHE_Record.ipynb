{
 "cells": [
  {
   "cell_type": "markdown",
   "metadata": {},
   "source": [
    "## Import Packages"
   ]
  },
  {
   "cell_type": "code",
   "execution_count": 1,
   "metadata": {},
   "outputs": [
    {
     "name": "stdout",
     "output_type": "stream",
     "text": [
      "Welcome to JupyROOT 6.20/04\n"
     ]
    }
   ],
   "source": [
    "import math\n",
    "import numpy as np\n",
    "import matplotlib.pyplot as plt\n",
    "import ROOT\n",
    "import pylhe"
   ]
  },
  {
   "cell_type": "markdown",
   "metadata": {},
   "source": [
    "## Define Mass Function"
   ]
  },
  {
   "cell_type": "code",
   "execution_count": 2,
   "metadata": {},
   "outputs": [],
   "source": [
    "def invariant_mass(p1, p2):\n",
    "    return math.sqrt(sum((1 if mu=='e' else -1)*(getattr(p1,mu)+getattr(p2,mu))**2 for mu in ['e','px','py','pz']))\n",
    "def transverse_mass(p1):\n",
    "    return math.sqrt(sum((1 if mu=='e' else -1)*(getattr(p1,mu))**2 for mu in ['e','pz']))"
   ]
  },
  {
   "cell_type": "markdown",
   "metadata": {},
   "source": [
    "#### Note\n",
    " \\begin{align}\n",
    " & p_\\mu p^\\mu = \\frac{E^2}{c^2}-\\vec{p}^2=m^2c^2 \\\\\n",
    " &\\Rightarrow m^2=E^2-\\vec{p}^2\n",
    " \\end{align}\n",
    "Transverse mass with $c=1$\n",
    " \\begin{align}\n",
    " m_T^2 = m^2+p_x^2+p_y^2=E^2-p_z^2 \\\\\n",
    " \\end{align}\n",
    "In collider physics, we use another definition of transverse mass (and transverse energy). Because total energy is unknown, above definition cannot be used.\n",
    " \\begin{align}\n",
    " M_T^2 &= (E_{T,1}+E_{T,2})^2-(\\vec{p}_{T,1}+\\vec{p}_{T,2})^2 \\\\\n",
    " &= E_{T,1}^2+E_{T,2}^2+2E_{T,1}E_{T,2}-\\vec{p}_{T,1}^2-\\vec{p}_{T,2}^2-2\\vec{p}_{T,1}\\cdot \\vec{p}_{T,2} \\\\\n",
    " &= m_1^2+m_2^2+2\\left(E_{T,1}E_{T,2}-\\vec{p}_{T,1}\\cdot \\vec{p}_{T,2}\\right)\n",
    " \\end{align}\n",
    "where $E_T$ is the transverse energy of each daughter\n",
    " \\begin{align}\n",
    " E_T^2 = m^2+\\vec{p}_T^2\n",
    " \\end{align}\n",
    "For massless daughters, where $m_1=m_2=0$, we obtain $E_T=p_T$ such that\n",
    " \\begin{align}\n",
    " M_T^2 = 2E_{T,1}E_{T,2}(1-\\cos{\\phi})\n",
    " \\end{align}"
   ]
  },
  {
   "cell_type": "markdown",
   "metadata": {},
   "source": [
    "## Create Mass Lists and a Event List"
   ]
  },
  {
   "cell_type": "code",
   "execution_count": 16,
   "metadata": {},
   "outputs": [],
   "source": [
    "# process_path_MZ_1500 = '/youwei_home/SVJ_py/Tutorial/s_channel0/Events/run_01/unweighted_events.lhe'\n",
    "process_path_MZ_1500 = '/youwei_home/SVJ_py/Tutorial/LHE/0.lhe'\n",
    "s_channel0_MZ_1500 = pylhe.readLHE(process_path_MZ_1500)\n",
    "\n",
    "m, mT, event_list = [], [], []\n",
    "\n",
    "for event in s_channel0_MZ_1500:\n",
    "    m.append(invariant_mass(event.particles[-1],event.particles[-2]))\n",
    "    mT.append(transverse_mass(event.particles[-3]))\n",
    "    event_list.append(event)\n",
    "\n",
    "m, mT = np.array(m), np.array(mT)"
   ]
  },
  {
   "cell_type": "code",
   "execution_count": 9,
   "metadata": {},
   "outputs": [
    {
     "name": "stdout",
     "output_type": "stream",
     "text": [
      "['__class__', '__delattr__', '__dict__', '__dir__', '__doc__', '__eq__', '__format__', '__ge__', '__getattribute__', '__gt__', '__hash__', '__init__', '__init_subclass__', '__le__', '__lt__', '__module__', '__ne__', '__new__', '__reduce__', '__reduce_ex__', '__repr__', '__setattr__', '__sizeof__', '__str__', '__subclasshook__', '__weakref__', 'attributes', 'eventinfo', 'particles', 'weights']\n",
      "---------------------------------------------------------------------------------------------------------------------------------------------------\n",
      "['__add__', '__class__', '__contains__', '__delattr__', '__delitem__', '__dir__', '__doc__', '__eq__', '__format__', '__ge__', '__getattribute__', '__getitem__', '__gt__', '__hash__', '__iadd__', '__imul__', '__init__', '__init_subclass__', '__iter__', '__le__', '__len__', '__lt__', '__mul__', '__ne__', '__new__', '__reduce__', '__reduce_ex__', '__repr__', '__reversed__', '__rmul__', '__setattr__', '__setitem__', '__sizeof__', '__str__', '__subclasshook__', 'append', 'clear', 'copy', 'count', 'extend', 'index', 'insert', 'pop', 'remove', 'reverse', 'sort']\n",
      "---------------------------------------------------------------------------------------------------------------------------------------------------\n",
      "['__call__', '__class__', '__delattr__', '__dir__', '__doc__', '__eq__', '__format__', '__ge__', '__getattribute__', '__gt__', '__hash__', '__init__', '__init_subclass__', '__le__', '__lt__', '__module__', '__name__', '__ne__', '__new__', '__qualname__', '__reduce__', '__reduce_ex__', '__repr__', '__self__', '__setattr__', '__sizeof__', '__str__', '__subclasshook__', '__text_signature__']\n"
     ]
    }
   ],
   "source": [
    "print(dir(event_list[0]))\n",
    "print('-'*147)\n",
    "print(dir(event_list[0].particles))\n",
    "print('-'*147)\n",
    "print(dir(event_list[0].particles.index))"
   ]
  },
  {
   "cell_type": "code",
   "execution_count": 10,
   "metadata": {},
   "outputs": [
    {
     "data": {
      "text/plain": [
       "['__class__',\n",
       " '__delattr__',\n",
       " '__dict__',\n",
       " '__dir__',\n",
       " '__doc__',\n",
       " '__eq__',\n",
       " '__format__',\n",
       " '__ge__',\n",
       " '__getattribute__',\n",
       " '__gt__',\n",
       " '__hash__',\n",
       " '__init__',\n",
       " '__init_subclass__',\n",
       " '__le__',\n",
       " '__lt__',\n",
       " '__module__',\n",
       " '__ne__',\n",
       " '__new__',\n",
       " '__reduce__',\n",
       " '__reduce_ex__',\n",
       " '__repr__',\n",
       " '__setattr__',\n",
       " '__sizeof__',\n",
       " '__str__',\n",
       " '__subclasshook__',\n",
       " '__weakref__',\n",
       " 'color1',\n",
       " 'color2',\n",
       " 'e',\n",
       " 'event',\n",
       " 'fieldnames',\n",
       " 'fromstring',\n",
       " 'id',\n",
       " 'lifetime',\n",
       " 'm',\n",
       " 'mother1',\n",
       " 'mother2',\n",
       " 'mothers',\n",
       " 'px',\n",
       " 'py',\n",
       " 'pz',\n",
       " 'spin',\n",
       " 'status']"
      ]
     },
     "execution_count": 10,
     "metadata": {},
     "output_type": "execute_result"
    }
   ],
   "source": [
    "dir(event_list[0].particles[0])"
   ]
  },
  {
   "cell_type": "code",
   "execution_count": 17,
   "metadata": {},
   "outputs": [
    {
     "name": "stdout",
     "output_type": "stream",
     "text": [
      "1624.1253321\n",
      "3847.6427778 2366.6361861\n"
     ]
    }
   ],
   "source": [
    "print(getattr(event_list[9999].particles[0],'e'))\n",
    "print(getattr(event_list[0].particles[0],'e'), getattr(event_list[0].particles[-1],'pz'))"
   ]
  },
  {
   "cell_type": "markdown",
   "metadata": {},
   "source": [
    "#### Note\n",
    "There are 10000 events [0-9999].\n",
    "What does particles[0] mean? Ans: Following #=1 particle."
   ]
  },
  {
   "cell_type": "markdown",
   "metadata": {},
   "source": [
    "## Print Information for First Event"
   ]
  },
  {
   "cell_type": "code",
   "execution_count": 18,
   "metadata": {},
   "outputs": [
    {
     "name": "stdout",
     "output_type": "stream",
     "text": [
      "     #         id      mother1     mother2        e           px          py          pz        status   \n",
      "     1          2         0           0        3847.643     0.000       0.000      3847.643       -1     \n",
      "     2         -2         0           0        145.547      -0.000      -0.000     -145.547       -1     \n",
      "     3       5000001      1           2        3993.190     0.000       0.000      3702.096       2      \n",
      "     4       4900101      3           3        1518.592    672.809     -264.379    1335.460       1      \n",
      "     5      -4900101      3           3        2474.598    -672.809    264.379     2366.636       1      \n"
     ]
    }
   ],
   "source": [
    "print('{:^12}{:^9}{:^12}{:^12}{:^12}{:^12}{:^12}{:^12}{:^12}'.format('#','id','mother1','mother2','e','px','py','pz','status'))\n",
    "\n",
    "for i, element in enumerate(event_list[0].particles):\n",
    "    print('{:^12}{:^9.0f}{:^12.0f}{:^12.0f}{:^12.3f}{:^12.3f}{:^12.3f}{:^12.3f}{:^12.0f}'\n",
    "          .format(i+1, element.id, element.mother1, element.mother2, element.e, element.px, element.py, element.pz, element.status))"
   ]
  },
  {
   "cell_type": "code",
   "execution_count": 7,
   "metadata": {},
   "outputs": [
    {
     "name": "stdout",
     "output_type": "stream",
     "text": [
      "     #         id      mother1     mother2        e           px          py          pz        status   \n",
      "     1         -2         0           0        509.648      -0.000      0.000      509.648        -1     \n",
      "     2          2         0           0        1093.678     0.000       -0.000    -1093.678       -1     \n",
      "     3       5000001      1           2        1603.325     0.000       0.000      -584.030       2      \n",
      "     4       4900101      3           3        596.249     501.067     174.392     271.903        1      \n",
      "     5      -4900101      3           3        1007.077    -501.067    -174.392    -855.934       1      \n"
     ]
    }
   ],
   "source": [
    "print('{:^12}{:^9}{:^12}{:^12}{:^12}{:^12}{:^12}{:^12}{:^12}'.format('#','id','mother1','mother2','e','px','py','pz','status'))\n",
    "\n",
    "for i, element in enumerate(event_list[0].particles):\n",
    "    print('{:^12}{:^9.0f}{:^12.0f}{:^12.0f}{:^12.3f}{:^12.3f}{:^12.3f}{:^12.3f}{:^12.0f}'\n",
    "          .format(i+1, element.id, element.mother1, element.mother2, element.e, element.px, element.py, element.pz, element.status))"
   ]
  },
  {
   "cell_type": "code",
   "execution_count": 19,
   "metadata": {},
   "outputs": [
    {
     "data": {
      "text/plain": [
       "[<pylhe.LHEEvent at 0x7ffb08748ef0>,\n",
       " <pylhe.LHEEvent at 0x7ffb08748ef0>,\n",
       " <pylhe.LHEEvent at 0x7ffb08748ef0>,\n",
       " <pylhe.LHEEvent at 0x7ffb08748ef0>,\n",
       " <pylhe.LHEEvent at 0x7ffb08748ef0>]"
      ]
     },
     "execution_count": 19,
     "metadata": {},
     "output_type": "execute_result"
    }
   ],
   "source": [
    "[i.event for i in event_list[0].particles]"
   ]
  },
  {
   "cell_type": "code",
   "execution_count": 20,
   "metadata": {},
   "outputs": [
    {
     "data": {
      "text/plain": [
       "[-1.0, -1.0, 2.0, 1.0, 1.0]"
      ]
     },
     "execution_count": 20,
     "metadata": {},
     "output_type": "execute_result"
    }
   ],
   "source": [
    "[i.status for i in event_list[0].particles]  # particle status for first event (Parton level)"
   ]
  },
  {
   "cell_type": "code",
   "execution_count": 21,
   "metadata": {},
   "outputs": [
    {
     "data": {
      "text/plain": [
       "[<bound method LHEParticle.mothers of <pylhe.LHEParticle object at 0x7ffb08748908>>,\n",
       " <bound method LHEParticle.mothers of <pylhe.LHEParticle object at 0x7ffb08748898>>,\n",
       " <bound method LHEParticle.mothers of <pylhe.LHEParticle object at 0x7ffb08748f60>>,\n",
       " <bound method LHEParticle.mothers of <pylhe.LHEParticle object at 0x7ffb08748fd0>>,\n",
       " <bound method LHEParticle.mothers of <pylhe.LHEParticle object at 0x7ffb08748940>>]"
      ]
     },
     "execution_count": 21,
     "metadata": {},
     "output_type": "execute_result"
    }
   ],
   "source": [
    "[i.mothers for i in event_list[0].particles]  # particle id for first event (Parton level)"
   ]
  },
  {
   "cell_type": "code",
   "execution_count": 22,
   "metadata": {},
   "outputs": [
    {
     "name": "stdout",
     "output_type": "stream",
     "text": [
      "[0.0, 0.0, 2.0, 3.0, 3.0]\n",
      "[3847.6427778, 145.54680477, 3993.1895826, 1518.5916918, 2474.5978908]\n",
      "[3847.6427778, -145.54680477, 3702.095973, 1335.459787, 2366.6361861]\n"
     ]
    }
   ],
   "source": [
    "print([i.mother2 for i in event_list[0].particles])\n",
    "print([i.e for i in event_list[0].particles])\n",
    "print([i.pz for i in event_list[0].particles])"
   ]
  },
  {
   "cell_type": "code",
   "execution_count": 11,
   "metadata": {},
   "outputs": [
    {
     "name": "stdout",
     "output_type": "stream",
     "text": [
      "[0.0, 0.0, 2.0, 3.0, 3.0]\n",
      "[509.6475047, 1093.6778692, 1603.3253739, 596.24870773, 1007.0766661]\n",
      "[509.6475047, -1093.6778692, -584.03036446, 271.90317723, -855.93354169]\n"
     ]
    }
   ],
   "source": [
    "print([i.mother2 for i in event_list[0].particles])\n",
    "print([i.e for i in event_list[0].particles])\n",
    "print([i.pz for i in event_list[0].particles])"
   ]
  },
  {
   "cell_type": "markdown",
   "metadata": {},
   "source": [
    "## Plot"
   ]
  },
  {
   "cell_type": "code",
   "execution_count": 23,
   "metadata": {},
   "outputs": [
    {
     "data": {
      "image/png": "[encoded data removed]",
      "text/plain": [
       "<Figure size 576x576 with 1 Axes>"
      ]
     },
     "metadata": {
      "needs_background": "light"
     },
     "output_type": "display_data"
    },
    {
     "data": {
      "image/png": "[encoded data removed]",
      "text/plain": [
       "<Figure size 576x576 with 1 Axes>"
      ]
     },
     "metadata": {
      "needs_background": "light"
     },
     "output_type": "display_data"
    }
   ],
   "source": [
    "plt.figure(figsize=(8,8))  # plot size\n",
    " \n",
    "bin_size = np.linspace(800,2000,121)\n",
    "hist, bins = np.histogram(m, bins=bin_size)\n",
    "plt.step(bins[:-1], hist.astype(np.float32)/10, color='green', label='$M_{xd,\\\\bar{xd}}$')\n",
    "\n",
    "plt.legend(fontsize=20)\n",
    "plt.yscale('log')\n",
    "plt.xlabel('$M_{xd,\\\\bar{xd}}$ [GeV]', fontsize=20, horizontalalignment='right', x=1)\n",
    "plt.ylabel('$\\\\frac{dN}{dM_{xd,\\\\bar{xd}}}$', fontsize=20, horizontalalignment='right', y=1)\n",
    "plt.xticks(fontsize=15)\n",
    "plt.yticks(fontsize=15)\n",
    "plt.show()\n",
    "\n",
    "\n",
    "\n",
    "# Not take log for scale of y axis.\n",
    "plt.figure(figsize=(8,8))\n",
    "plt.hist(m, bins=bin_size)\n",
    "plt.title('Invariant Mass')\n",
    "plt.show()"
   ]
  },
  {
   "cell_type": "code",
   "execution_count": 12,
   "metadata": {},
   "outputs": [
    {
     "data": {
      "image/png": "[encoded data removed]",
      "text/plain": [
       "<Figure size 576x576 with 1 Axes>"
      ]
     },
     "metadata": {
      "needs_background": "light"
     },
     "output_type": "display_data"
    },
    {
     "data": {
      "image/png": "[encoded data removed]",
      "text/plain": [
       "<Figure size 576x576 with 1 Axes>"
      ]
     },
     "metadata": {
      "needs_background": "light"
     },
     "output_type": "display_data"
    }
   ],
   "source": [
    "plt.figure(figsize=(8,8))  # plot size\n",
    " \n",
    "bin_size = np.linspace(800,2000,121)\n",
    "hist, bins = np.histogram(m, bins=bin_size)\n",
    "plt.step(bins[:-1], hist.astype(np.float32)/10, color='green', label='$M_{xd,\\\\bar{xd}}$')\n",
    "\n",
    "plt.legend(fontsize=20)\n",
    "plt.yscale('log')\n",
    "plt.xlabel('$M_{xd,\\\\bar{xd}}$ [GeV]', fontsize=20, horizontalalignment='right', x=1)\n",
    "plt.ylabel('$\\\\frac{dN}{dM_{xd,\\\\bar{xd}}}$', fontsize=20, horizontalalignment='right', y=1)\n",
    "plt.xticks(fontsize=15)\n",
    "plt.yticks(fontsize=15)\n",
    "plt.show()\n",
    "\n",
    "\n",
    "\n",
    "# Not take log for scale of y axis.\n",
    "plt.figure(figsize=(8,8))\n",
    "plt.hist(m, bins=bin_size)\n",
    "plt.title('Invariant Mass')\n",
    "plt.show()"
   ]
  },
  {
   "cell_type": "markdown",
   "metadata": {},
   "source": [
    "##### Problems\n",
    "Why $\\\\bar{a}$? \n",
    "$\\bar{a}$"
   ]
  },
  {
   "cell_type": "code",
   "execution_count": 13,
   "metadata": {},
   "outputs": [
    {
     "name": "stdout",
     "output_type": "stream",
     "text": [
      "[ 800.  810.  820.  830.  840.  850.  860.  870.  880.  890.  900.  910.\n",
      "  920.  930.  940.  950.  960.  970.  980.  990. 1000. 1010. 1020. 1030.\n",
      " 1040. 1050. 1060. 1070. 1080. 1090. 1100. 1110. 1120. 1130. 1140. 1150.\n",
      " 1160. 1170. 1180. 1190. 1200. 1210. 1220. 1230. 1240. 1250. 1260. 1270.\n",
      " 1280. 1290. 1300. 1310. 1320. 1330. 1340. 1350. 1360. 1370. 1380. 1390.\n",
      " 1400. 1410. 1420. 1430. 1440. 1450. 1460. 1470. 1480. 1490. 1500. 1510.\n",
      " 1520. 1530. 1540. 1550. 1560. 1570. 1580. 1590. 1600. 1610. 1620. 1630.\n",
      " 1640. 1650. 1660. 1670. 1680. 1690. 1700. 1710. 1720. 1730. 1740. 1750.\n",
      " 1760. 1770. 1780. 1790. 1800. 1810. 1820. 1830. 1840. 1850. 1860. 1870.\n",
      " 1880. 1890. 1900. 1910. 1920. 1930. 1940. 1950. 1960. 1970. 1980. 1990.\n",
      " 2000.]\n",
      "[ 800.  810.  820.  830.  840.  850.  860.  870.  880.  890.  900.  910.\n",
      "  920.  930.  940.  950.  960.  970.  980.  990. 1000. 1010. 1020. 1030.\n",
      " 1040. 1050. 1060. 1070. 1080. 1090. 1100. 1110. 1120. 1130. 1140. 1150.\n",
      " 1160. 1170. 1180. 1190. 1200. 1210. 1220. 1230. 1240. 1250. 1260. 1270.\n",
      " 1280. 1290. 1300. 1310. 1320. 1330. 1340. 1350. 1360. 1370. 1380. 1390.\n",
      " 1400. 1410. 1420. 1430. 1440. 1450. 1460. 1470. 1480. 1490. 1500. 1510.\n",
      " 1520. 1530. 1540. 1550. 1560. 1570. 1580. 1590. 1600. 1610. 1620. 1630.\n",
      " 1640. 1650. 1660. 1670. 1680. 1690. 1700. 1710. 1720. 1730. 1740. 1750.\n",
      " 1760. 1770. 1780. 1790. 1800. 1810. 1820. 1830. 1840. 1850. 1860. 1870.\n",
      " 1880. 1890. 1900. 1910. 1920. 1930. 1940. 1950. 1960. 1970. 1980. 1990.]\n",
      "[   2    3    1    1    3    1    3    2    1    2    2    1    2    4\n",
      "    2    1    0    3    2    1    1    2    0    3    3    1    2    2\n",
      "    5    4    1    2    2    1    2    2    2    8    5    4    4    2\n",
      "    1    7    7    3    4    3    3    4    4    5    7    9    9   16\n",
      "   12   12   17    7   18   18   31   46   64   98  127  298  662 3488\n",
      " 3539  613  259  115   82   55   20   25   26   14   11   14    7    8\n",
      "    9    6    6    6    1    4    3    5    6    1    2    1    0    1\n",
      "    1    0    0    1    1    1    2    0    1    0    0    1    0    1\n",
      "    0    0    1    0    1    1    0    1]\n",
      "[2.000e-01 3.000e-01 1.000e-01 1.000e-01 3.000e-01 1.000e-01 3.000e-01\n",
      " 2.000e-01 1.000e-01 2.000e-01 2.000e-01 1.000e-01 2.000e-01 4.000e-01\n",
      " 2.000e-01 1.000e-01 0.000e+00 3.000e-01 2.000e-01 1.000e-01 1.000e-01\n",
      " 2.000e-01 0.000e+00 3.000e-01 3.000e-01 1.000e-01 2.000e-01 2.000e-01\n",
      " 5.000e-01 4.000e-01 1.000e-01 2.000e-01 2.000e-01 1.000e-01 2.000e-01\n",
      " 2.000e-01 2.000e-01 8.000e-01 5.000e-01 4.000e-01 4.000e-01 2.000e-01\n",
      " 1.000e-01 7.000e-01 7.000e-01 3.000e-01 4.000e-01 3.000e-01 3.000e-01\n",
      " 4.000e-01 4.000e-01 5.000e-01 7.000e-01 9.000e-01 9.000e-01 1.600e+00\n",
      " 1.200e+00 1.200e+00 1.700e+00 7.000e-01 1.800e+00 1.800e+00 3.100e+00\n",
      " 4.600e+00 6.400e+00 9.800e+00 1.270e+01 2.980e+01 6.620e+01 3.488e+02\n",
      " 3.539e+02 6.130e+01 2.590e+01 1.150e+01 8.200e+00 5.500e+00 2.000e+00\n",
      " 2.500e+00 2.600e+00 1.400e+00 1.100e+00 1.400e+00 7.000e-01 8.000e-01\n",
      " 9.000e-01 6.000e-01 6.000e-01 6.000e-01 1.000e-01 4.000e-01 3.000e-01\n",
      " 5.000e-01 6.000e-01 1.000e-01 2.000e-01 1.000e-01 0.000e+00 1.000e-01\n",
      " 1.000e-01 0.000e+00 0.000e+00 1.000e-01 1.000e-01 1.000e-01 2.000e-01\n",
      " 0.000e+00 1.000e-01 0.000e+00 0.000e+00 1.000e-01 0.000e+00 1.000e-01\n",
      " 0.000e+00 0.000e+00 1.000e-01 0.000e+00 1.000e-01 1.000e-01 0.000e+00\n",
      " 1.000e-01]\n"
     ]
    }
   ],
   "source": [
    "print(bins)\n",
    "print(bins[:-1])\n",
    "print(hist)\n",
    "print(hist.astype(np.float32)/10)"
   ]
  },
  {
   "cell_type": "code",
   "execution_count": 14,
   "metadata": {},
   "outputs": [
    {
     "name": "stdout",
     "output_type": "stream",
     "text": [
      "9927\n",
      "10000\n"
     ]
    }
   ],
   "source": [
    "print(sum(hist))\n",
    "bin_size = np.linspace(100,3600,121)\n",
    "hist, bins = np.histogram(m, bins=bin_size)\n",
    "print(sum(hist))"
   ]
  },
  {
   "cell_type": "code",
   "execution_count": null,
   "metadata": {},
   "outputs": [],
   "source": [
    "import rootnotes"
   ]
  },
  {
   "cell_type": "markdown",
   "metadata": {},
   "source": [
    "### Why cannot import rootnotes?"
   ]
  },
  {
   "cell_type": "code",
   "execution_count": null,
   "metadata": {},
   "outputs": [],
   "source": [
    "h = ROOT.TH1F('invmass', )"
   ]
  }
 ],
 "metadata": {
  "kernelspec": {
   "display_name": "Python 3",
   "language": "python",
   "name": "python3"
  },
  "language_info": {
   "codemirror_mode": {
    "name": "ipython",
    "version": 3
   },
   "file_extension": ".py",
   "mimetype": "text/x-python",
   "name": "python",
   "nbconvert_exporter": "python",
   "pygments_lexer": "ipython3",
   "version": "3.6.8"
  }
 },
 "nbformat": 4,
 "nbformat_minor": 4
}
