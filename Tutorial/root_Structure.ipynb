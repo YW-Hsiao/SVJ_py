{
 "cells": [
  {
   "cell_type": "markdown",
   "metadata": {},
   "source": [
    "## Import Packages"
   ]
  },
  {
   "cell_type": "code",
   "execution_count": 1,
   "metadata": {},
   "outputs": [],
   "source": [
    "import uproot"
   ]
  },
  {
   "cell_type": "markdown",
   "metadata": {},
   "source": [
    "## Structure of .root"
   ]
  },
  {
   "cell_type": "code",
   "execution_count": 2,
   "metadata": {},
   "outputs": [
    {
     "data": {
      "text/plain": [
       "<ROOTDirectory b'/youwei_home/SVJ_py/Tutorial/ROOT/rinv03/test0.root' at 0x7f7a3625e7b8>"
      ]
     },
     "execution_count": 2,
     "metadata": {},
     "output_type": "execute_result"
    }
   ],
   "source": [
    "filepath_3_5 = '/youwei_home/SVJ_py/Tutorial/ROOT/rinv03/test0.root'\n",
    "file_3_5 = uproot.open(filepath_3_5)\n",
    "file_3_5"
   ]
  },
  {
   "cell_type": "code",
   "execution_count": 3,
   "metadata": {},
   "outputs": [
    {
     "name": "stdout",
     "output_type": "stream",
     "text": [
      "[b'ProcessID0;1', b'Delphes;1']\n",
      "-------------------------------------------------------------------------------------------------------------------------------------------------\n",
      "['__class__', '__contains__', '__delattr__', '__dict__', '__dir__', '__doc__', '__eq__', '__format__', '__ge__', '__getattribute__', '__getitem__', '__gt__', '__hash__', '__init__', '__init_subclass__', '__iter__', '__le__', '__len__', '__lt__', '__metaclass__', '__module__', '__ne__', '__new__', '__reduce__', '__reduce_ex__', '__repr__', '__setattr__', '__sizeof__', '__str__', '__subclasshook__', '__weakref__', '_attachstreamer', '_bases', '_branch_flags', '_branch_regex', '_branchlookup', '_classname', '_classversion', '_context', '_copycontext', '_dtype1', '_dtype2', '_fAliases', '_fAutoFlush', '_fAutoSave', '_fBranches', '_fClusterRangeEnd', '_fClusterSize', '_fDefaultEntryOffsetLen', '_fEntries', '_fEstimate', '_fFillColor', '_fFillStyle', '_fFlushedBytes', '_fFriends', '_fIOFeatures', '_fIndex', '_fIndexValues', '_fLeaves', '_fLineColor', '_fLineStyle', '_fLineWidth', '_fMarkerColor', '_fMarkerSize', '_fMarkerStyle', '_fMaxEntries', '_fMaxEntryLoop', '_fMaxVirtualSize', '_fNClusterRange', '_fName', '_fSavedBytes', '_fScanField', '_fTimerInterval', '_fTitle', '_fTotBytes', '_fTreeIndex', '_fUpdate', '_fWeight', '_fZipBytes', '_fields', '_fill_branchlookup', '_format', '_format1', '_hasreadobjany', '_int32', '_ipython_key_completions_', '_members', '_methods', '_normalize_branches', '_normalize_entrysteps', '_objectpointer_regex', '_postprocess', '_pycode', '_readinto', '_recarray', '_recarray_dtype', '_recover', '_vector_regex', '_versions', 'aliases', 'allitems', 'allkeys', 'allvalues', 'array', 'arrays', 'classname', 'clusters', 'get', 'items', 'iterate', 'iteritems', 'iterkeys', 'itervalues', 'keys', 'lazyarray', 'lazyarrays', 'matches', 'mempartitions', 'name', 'numbranches', 'numentries', 'pandas', 'read', 'show', 'title', 'values']\n",
      "-------------------------------------------------------------------------------------------------------------------------------------------------\n",
      "[b'Event', b'Event_size', b'EventLHEF', b'EventLHEF_size', b'WeightLHEF', b'WeightLHEF_size', b'Particle', b'Particle_size', b'Track', b'Track_size', b'Tower', b'Tower_size', b'EFlowTrack', b'EFlowTrack_size', b'EFlowPhoton', b'EFlowPhoton_size', b'EFlowNeutralHadron', b'EFlowNeutralHadron_size', b'GenJet', b'GenJet_size', b'GenMissingET', b'GenMissingET_size', b'Jet', b'Jet_size', b'Electron', b'Electron_size', b'Photon', b'Photon_size', b'Muon', b'Muon_size', b'MissingET', b'MissingET_size', b'ScalarHT', b'ScalarHT_size']\n"
     ]
    }
   ],
   "source": [
    "print(file_3_5.keys())\n",
    "print('-'*145)\n",
    "print(dir(file_3_5['Delphes;1']))\n",
    "print('-'*145)\n",
    "print(file_3_5['Delphes;1'].keys())"
   ]
  },
  {
   "cell_type": "code",
   "execution_count": 4,
   "metadata": {},
   "outputs": [
    {
     "name": "stdout",
     "output_type": "stream",
     "text": [
      "[b'Particle.fUniqueID', b'Particle.fBits', b'Particle.PID', b'Particle.Status', b'Particle.IsPU', b'Particle.M1', b'Particle.M2', b'Particle.D1', b'Particle.D2', b'Particle.Charge', b'Particle.Mass', b'Particle.E', b'Particle.Px', b'Particle.Py', b'Particle.Pz', b'Particle.P', b'Particle.PT', b'Particle.Eta', b'Particle.Phi', b'Particle.Rapidity', b'Particle.CtgTheta', b'Particle.D0', b'Particle.DZ', b'Particle.T', b'Particle.X', b'Particle.Y', b'Particle.Z']\n",
      "-------------------------------------------------------------------------------------------------------------------------------------------------\n",
      "['_BasketKey', '_RecoveredTBasket', '__class__', '__delattr__', '__dict__', '__dir__', '__doc__', '__eq__', '__format__', '__ge__', '__getattribute__', '__getitem__', '__gt__', '__hash__', '__init__', '__init_subclass__', '__iter__', '__le__', '__len__', '__lt__', '__metaclass__', '__module__', '__ne__', '__new__', '__reduce__', '__reduce_ex__', '__repr__', '__setattr__', '__sizeof__', '__str__', '__subclasshook__', '__weakref__', '_bases', '_basket', '_basket_entryoffset', '_basket_itemoffset', '_basketcachekey', '_basketkey', '_basketstartstop', '_cachekey', '_classname', '_classversion', '_context', '_copycontext', '_countbranch', '_countleaf', '_dtype1', '_dtype2', '_dtype3', '_entryoffsets', '_fBasketBytes', '_fBasketEntry', '_fBasketSeek', '_fBasketSize', '_fBaskets', '_fBranchCount', '_fBranchCount2', '_fBranches', '_fCheckSum', '_fClassName', '_fClassVersion', '_fClonesName', '_fCompress', '_fEntries', '_fEntryNumber', '_fEntryOffsetLen', '_fFileName', '_fFillColor', '_fFillStyle', '_fFirstEntry', '_fID', '_fIOFeatures', '_fLeaves', '_fMaxBaskets', '_fMaximum', '_fName', '_fOffset', '_fParentName', '_fSplitLevel', '_fStreamerType', '_fTitle', '_fTotBytes', '_fType', '_fWriteBasket', '_fZipBytes', '_fields', '_fill_branchlookup', '_format', '_format1', '_format2', '_hasreadobjany', '_int32', '_interpretation', '_ipython_key_completions_', '_isTClonesArray', '_keycachekey', '_localentries', '_members', '_methods', '_normalize_dtype', '_normalize_entrysteps', '_normalize_interpretation', '_numgoodbaskets', '_postprocess', '_pycode', '_readinto', '_recarray', '_recarray_dtype', '_recover', '_recoveredbaskets', '_recoverylock', '_source', '_step_array', '_streamer', '_threadsafe_iterate_keys', '_threadsafe_key', '_tree_iofeatures', '_tryrecover', '_vecstreamer', '_versions', 'allitems', 'allkeys', 'allvalues', 'array', 'basket', 'basket_compressedbytes', 'basket_entrystart', 'basket_entrystop', 'basket_numentries', 'basket_numitems', 'basket_uncompressedbytes', 'baskets', 'classname', 'compressedbytes', 'compression', 'compressionratio', 'countbranch', 'countleaf', 'get', 'interpretation', 'items', 'iterate_baskets', 'iteritems', 'iterkeys', 'itervalues', 'keys', 'lazyarray', 'mempartitions', 'name', 'numbaskets', 'numbranches', 'numentries', 'numitems', 'read', 'show', 'title', 'uncompressedbytes', 'values']\n"
     ]
    }
   ],
   "source": [
    "print(file_3_5['Delphes;1']['Particle'].keys())\n",
    "print('-'*145)\n",
    "print(dir(file_3_5['Delphes;1']['Particle']))"
   ]
  },
  {
   "cell_type": "code",
   "execution_count": null,
   "metadata": {},
   "outputs": [],
   "source": []
  }
 ],
 "metadata": {
  "kernelspec": {
   "display_name": "Python 3",
   "language": "python",
   "name": "python3"
  },
  "language_info": {
   "codemirror_mode": {
    "name": "ipython",
    "version": 3
   },
   "file_extension": ".py",
   "mimetype": "text/x-python",
   "name": "python",
   "nbconvert_exporter": "python",
   "pygments_lexer": "ipython3",
   "version": "3.6.8"
  }
 },
 "nbformat": 4,
 "nbformat_minor": 4
}
