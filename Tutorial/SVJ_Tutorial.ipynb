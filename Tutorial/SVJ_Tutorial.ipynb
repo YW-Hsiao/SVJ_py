{
 "cells": [
  {
   "cell_type": "markdown",
   "metadata": {},
   "source": [
    "### For this.ipynb, I follow Parallel.ipynb of James(Po-Jen).\n",
    "https://github.com/ja2006203966/SVJ_/blob/master/Parallel.ipynb"
   ]
  },
  {
   "cell_type": "markdown",
   "metadata": {},
   "source": [
    "## Import Packages"
   ]
  },
  {
   "cell_type": "code",
   "execution_count": 1,
   "metadata": {},
   "outputs": [],
   "source": [
    "import os\n",
    "from tqdm import tqdm"
   ]
  },
  {
   "cell_type": "markdown",
   "metadata": {},
   "source": [
    "#### For each new container such as alan200276/centos:SVJsimulation, you must command \"pip3 install tqdm\" in terminal and restart python."
   ]
  },
  {
   "cell_type": "markdown",
   "metadata": {},
   "source": [
    "## Generate LHE Parameters Setting .txt"
   ]
  },
  {
   "cell_type": "code",
   "execution_count": 2,
   "metadata": {},
   "outputs": [],
   "source": [
    "def gentxt(i, jorder, jettype = 'SVJ', MXd=10, MY1=1500, dirc = '/youwei_home/SVJ_py/Tutorial/', fname = 'test', outputpath = '/youwei_home/SVJ_py/Tutorial/s_channel'):\n",
    "#     dirc is path to save your setting .txt files.\n",
    "#     fname is name of .txt files.\n",
    "#     outputpath is path you want to output your Madgraph output.\n",
    "    \n",
    "    fname = fname + str(i) + '.txt'  # Here, i stands for which collision event.\n",
    "    \n",
    "    nevent = 10000\n",
    "    jetpt = [250, False]  # Jet pt range in [250, inf] GeV\n",
    "    ECM = 14000  # Central of mass energy GeV\n",
    "    \n",
    "    f = open(dirc+fname, 'w')\n",
    "    f.write('import model DMsimp_s_spin1 \\n')\n",
    "    f.write('define j = g u c d b s t u~ c~ d~ b~ s~ t~ \\n')\n",
    "    f.write('generate p p > xd xd~ @0 \\n')\n",
    "    for n in range(jorder):\n",
    "        f.write('add process p p > xd xd~ '+(n+1)*'j '+'@'+str(n+1)+'\\n')\n",
    "    \n",
    "    f.write('output '+outputpath+str(i)+'\\n')\n",
    "    f.write('\\n')\n",
    "    f.write('launch '+outputpath+str(i)+'\\n')\n",
    "    f.write('\\n')\n",
    "    f.write('shower=OFF \\n')\n",
    "    f.write('detector=OFF \\n')\n",
    "    f.write('analysis=OFF \\n')\n",
    "    f.write('\\n')\n",
    "    \n",
    "    f.write('set run_card nevents '+str(nevent)+'\\n')\n",
    "    f.write('set run_card ebeam1 '+str(ECM/2)+'\\n')\n",
    "    f.write('set run_card ebeam2 '+str(ECM/2)+'\\n')\n",
    "    f.write('set MXd '+str(MXd)+'\\n')\n",
    "    f.write('set MY1 '+str(MY1)+'\\n')\n",
    "#     f.write('set gcxd 1.000000e+00 \\n')\n",
    "    f.write('set gvd11 1.000000e-01 \\n')\n",
    "    f.write('set gvu11 1.000000e-01 \\n')\n",
    "    f.write('set gvd22 1.000000e-01 \\n')\n",
    "    f.write('set gvu22 1.000000e-01 \\n')\n",
    "    f.write('set gvd33 1.000000e-01 \\n')\n",
    "    f.write('set gvu33 1.000000e-01 \\n')\n",
    "    # f.write(' \\n')\n",
    "    \n",
    "    f.close()\n",
    "\n",
    "\n",
    "\n",
    "def check_txt(i, jettype='SVJ', dirc = '/youwei_home/SVJ_py/Tutorial/', fname = 'test'):\n",
    "    fname = fname + str(i) + '.txt'\n",
    "    f = open(dirc+fname, 'r')\n",
    "    print(f.read())\n",
    "    f.close()  # Good habit"
   ]
  },
  {
   "cell_type": "code",
   "execution_count": 3,
   "metadata": {},
   "outputs": [],
   "source": [
    "gentxt(0,2)"
   ]
  },
  {
   "cell_type": "code",
   "execution_count": 4,
   "metadata": {},
   "outputs": [
    {
     "name": "stdout",
     "output_type": "stream",
     "text": [
      "import model DMsimp_s_spin1 \n",
      "define j = g u c d b s t u~ c~ d~ b~ s~ t~ \n",
      "generate p p > xd xd~ @0 \n",
      "add process p p > xd xd~ j @1\n",
      "add process p p > xd xd~ j j @2\n",
      "output /youwei_home/SVJ_py/Tutorial/s_channel0\n",
      "\n",
      "launch /youwei_home/SVJ_py/Tutorial/s_channel0\n",
      "\n",
      "shower=OFF \n",
      "detector=OFF \n",
      "analysis=OFF \n",
      "\n",
      "set run_card nevents 10000\n",
      "set run_card ebeam1 7000.0\n",
      "set run_card ebeam2 7000.0\n",
      "set MXd 10\n",
      "set MY1 1500\n",
      "set gvd11 1.000000e-01 \n",
      "set gvu11 1.000000e-01 \n",
      "set gvd22 1.000000e-01 \n",
      "set gvu22 1.000000e-01 \n",
      "set gvd33 1.000000e-01 \n",
      "set gvu33 1.000000e-01 \n",
      "\n"
     ]
    }
   ],
   "source": [
    "check_txt(0)"
   ]
  },
  {
   "cell_type": "markdown",
   "metadata": {},
   "source": [
    "## Parton Level"
   ]
  },
  {
   "cell_type": "code",
   "execution_count": 5,
   "metadata": {},
   "outputs": [
    {
     "data": {
      "text/plain": [
       "0"
      ]
     },
     "execution_count": 5,
     "metadata": {},
     "output_type": "execute_result"
    }
   ],
   "source": [
    "dirc = '/youwei_home/SVJ_py/Tutorial/'; fname = 'test'\n",
    "fnamei = fname + str(0) + '.txt'\n",
    "madgraph_bin = '/root/MG5_aMC_v2_7_2/bin/mg5_aMC'  # type where your mg5_aMC is\n",
    "\n",
    "# os.system('nohup /root/MG5_aMC_v2_7_2/bin/mg5_aMC /youwei_home/SVJ_py/Tutorial/test0.txt > /youwei_home/SVJ_py/Tutorial/test0.log 2>&1 &')\n",
    "os.system('nohup ' + madgraph_bin +' '+ dirc + fnamei + ' > ' + dirc + fname+str(0)+'.log 2>&1 &')"
   ]
  },
  {
   "cell_type": "markdown",
   "metadata": {},
   "source": [
    "##### Note: Why is there to ouput 0?\n",
    "Ans: 0 stands for normal or successful run."
   ]
  },
  {
   "cell_type": "markdown",
   "metadata": {},
   "source": [
    "## Change PID"
   ]
  },
  {
   "cell_type": "code",
   "execution_count": 2,
   "metadata": {},
   "outputs": [],
   "source": [
    "N=1"
   ]
  },
  {
   "cell_type": "markdown",
   "metadata": {},
   "source": [
    "#### Note: Important parameter N in .ipynb"
   ]
  },
  {
   "cell_type": "code",
   "execution_count": 3,
   "metadata": {},
   "outputs": [
    {
     "name": "stderr",
     "output_type": "stream",
     "text": [
      "100%|██████████| 1/1 [00:00<00:00, 2487.72it/s]"
     ]
    },
    {
     "name": "stdout",
     "output_type": "stream",
     "text": [
      "/youwei_home/SVJ_py/Tutorial/s_channel0/Events/run_01/unweighted_events.lhe.gz\n",
      "gzip -d /youwei_home/SVJ_py/Tutorial/s_channel0/Events/run_01/unweighted_events.lhe.gz\n",
      "sed -i 's/5000521/4900101/g' /youwei_home/SVJ_py/Tutorial/s_channel0/Events/run_01/unweighted_events.lhe\n",
      "grep 4900101 /youwei_home/SVJ_py/Tutorial/s_channel0/Events/run_01/unweighted_events.lhe > /youwei_home/SVJ_py/Tutorial/checkPID0.log 2>&1 &\n"
     ]
    },
    {
     "name": "stderr",
     "output_type": "stream",
     "text": [
      "\n"
     ]
    }
   ],
   "source": [
    "output = '/youwei_home/SVJ_py/Tutorial/'\n",
    "fname = 'unweighted_events.lhe'\n",
    "fnamei = fname + '.gz'\n",
    "for i in tqdm(range(N)):\n",
    "    outputi = output + 's_channel' + str(i) + '/Events/run_01/'\n",
    "    print(outputi + fnamei)\n",
    "    print('gzip -d ' + outputi + fnamei)\n",
    "    print(\"sed -i 's/5000521/4900101/g' \" + outputi + fname)\n",
    "    print('grep 4900101 ' + outputi + fname + ' > ' + output + 'checkPID'+str(i)+'.log 2>&1 &')"
   ]
  },
  {
   "cell_type": "code",
   "execution_count": 4,
   "metadata": {},
   "outputs": [
    {
     "name": "stderr",
     "output_type": "stream",
     "text": [
      "100%|██████████| 1/1 [00:05<00:00,  5.03s/it]\n"
     ]
    }
   ],
   "source": [
    "output = '/youwei_home/SVJ_py/Tutorial/'\n",
    "fname = 'unweighted_events.lhe'\n",
    "fnamei = fname + '.gz'\n",
    "for i in tqdm(range(N)):\n",
    "    outputi = output + 's_channel' + str(i) + '/Events/run_01/'\n",
    "    os.system('gzip -d ' + outputi + fnamei)\n",
    "    os.system(\"sed -i 's/5000521/4900101/g' \" + outputi + fname)\n",
    "    os.system('grep 4900101 ' + outputi + fname + ' > ' + output + 'checkPID'+str(i)+'.log 2>&1 &')"
   ]
  },
  {
   "cell_type": "markdown",
   "metadata": {},
   "source": [
    "## Clean Up LHE Files Output Path"
   ]
  },
  {
   "cell_type": "markdown",
   "metadata": {},
   "source": [
    "### Actually, this step may or may not do it. Maybe??"
   ]
  },
  {
   "cell_type": "code",
   "execution_count": 5,
   "metadata": {},
   "outputs": [
    {
     "data": {
      "text/plain": [
       "256"
      ]
     },
     "execution_count": 5,
     "metadata": {},
     "output_type": "execute_result"
    }
   ],
   "source": [
    "save_dir = '/youwei_home/SVJ_py/Tutorial/LHE/'\n",
    "os.system('rm '+save_dir+'*')"
   ]
  },
  {
   "cell_type": "markdown",
   "metadata": {},
   "source": [
    "##### What is 'SVJ/*'?\n",
    "Ans: * means rm all things under SVJ directory including directories and files."
   ]
  },
  {
   "cell_type": "markdown",
   "metadata": {},
   "source": [
    "## Move All LHE Files to LHE Directory"
   ]
  },
  {
   "cell_type": "code",
   "execution_count": 6,
   "metadata": {},
   "outputs": [
    {
     "name": "stdout",
     "output_type": "stream",
     "text": [
      "cp /youwei_home/SVJ_py/Tutorial/s_channel0/Events/run_01/unweighted_events.lhe /youwei_home/SVJ_py/Tutorial/LHE/0.lhe\n"
     ]
    }
   ],
   "source": [
    "output = '/youwei_home/SVJ_py/Tutorial/s_channel'\n",
    "fname = 'unweighted_events.lhe'\n",
    "save_dir = '/youwei_home/SVJ_py/Tutorial/LHE/'\n",
    "\n",
    "for i in range(N):\n",
    "    outputi = output + str(i) + '/Events/run_01/'\n",
    "    print('cp '+outputi + fname +' '+ save_dir + str(i) +'.lhe')"
   ]
  },
  {
   "cell_type": "code",
   "execution_count": 7,
   "metadata": {},
   "outputs": [
    {
     "name": "stderr",
     "output_type": "stream",
     "text": [
      "100%|██████████| 1/1 [00:00<00:00, 10.56it/s]\n"
     ]
    }
   ],
   "source": [
    "output = '/youwei_home/SVJ_py/Tutorial/s_channel'\n",
    "fname = 'unweighted_events.lhe'\n",
    "save_dir = '/youwei_home/SVJ_py/Tutorial/LHE/'\n",
    "\n",
    "for i in tqdm(range(N)):\n",
    "    outputi = output + str(i) + '/Events/run_01/'\n",
    "    os.system('cp '+outputi + fname +' '+ save_dir + str(i) +'.lhe')"
   ]
  },
  {
   "cell_type": "markdown",
   "metadata": {},
   "source": [
    "## Generate Delphes and Pythia Parameters Setting .cmnd and .tcl"
   ]
  },
  {
   "cell_type": "code",
   "execution_count": 11,
   "metadata": {},
   "outputs": [],
   "source": [
    "def gencmnd(i, nevent=10000, mass=20, rinv=0.3, lambdas=5, dirc = '/youwei_home/SVJ_py/Tutorial/DelPy_cmnd/',\n",
    "              fname = 'test', inputpath = '/youwei_home/SVJ_py/Tutorial/LHE/'):\n",
    "#     This code is save i times process_setting in different txt file. And then we can use these file as Madgraph input.\n",
    "#     dirc is direction to save your setting txt(.cmnd).\n",
    "#     inputpath is new direction of your .lhe files = save_dir.    \n",
    "#     fname is setting_txt_file's name.\n",
    "    \n",
    "#     MY1 is Z' mass.\n",
    "#     nevent = 20000  ## N events you want\n",
    "#     ECM = 14000  ## Central mass energy GeV\n",
    "#     lambdas = 5 = lambda_d(confinement scale)  # 1 -> 5\n",
    "#     rinv = 0.3  ## Invisible rate\n",
    "#     mass = 20  ## Unstable dark meson mass\n",
    "#     lambdas = mass/2                                                   ???\n",
    "#     xqcut = 100  ## The paper in 1707.05632 default in Madgraph.\n",
    "#     Qcut = max(1.4 * xqcut, xqcut+10)  ## setting in Pythia8\n",
    "#     nj = 2\n",
    "#     # ++ means added by myself.\n",
    "    \n",
    "    \n",
    "    \n",
    "    fname = fname + str(i) + '.cmnd'\n",
    "    \n",
    "    ndp = 6  # Number of decimal places you want.\n",
    "    f = open(dirc+fname, 'w')\n",
    "#------------------------------------------------------------ Setting used in the main program\n",
    "    f.write('Main:numberOfEvents = '+str(nevent)+' \\n')  # Number of events\n",
    "    f.write('Main:timesAllowErrors = 3 \\n')\n",
    "#------------------------------------------------------------ Setting related to output in init(), next(), and stat()\n",
    "    f.write('Init:showChangedSettings = on  \\n')  # ++\n",
    "    f.write('Init:showChangedParticleData = off \\n')  # ++\n",
    "    f.write('Random:seed = '+str((i+1)*100)+'\\n')  # Change random seed.  # ++\n",
    "    f.write('Next:numberCount = 1000 \\n')  # Print the progress per 1000 events.\n",
    "    f.write('Next:numberShowInfo = 1 \\n')\n",
    "    f.write('Next:numberShowProcess = 1 \\n')\n",
    "    f.write('Next:numberShowEvent = 1 \\n')\n",
    "    f.write('\\n')\n",
    "#------------------------------------------------------------ Ignore these particle: We don't want they are produced.\n",
    "    f.write('4900001:m0 = 50000 \\n')\n",
    "    f.write('4900002:m0 = 50000 \\n')\n",
    "    f.write('4900003:m0 = 50000 \\n')\n",
    "    f.write('4900004:m0 = 50000 \\n')\n",
    "    f.write('4900005:m0 = 50000 \\n')\n",
    "    f.write('4900006:m0 = 50000 \\n')\n",
    "    \n",
    "    f.write('4900011:m0 = 50000 \\n')\n",
    "    f.write('4900012:m0 = 50000 \\n')\n",
    "    f.write('4900013:m0 = 50000 \\n')\n",
    "    f.write('4900014:m0 = 50000 \\n')\n",
    "    f.write('4900015:m0 = 50000 \\n')\n",
    "    f.write('4900016:m0 = 50000 \\n')\n",
    "    f.write('\\n')\n",
    "#------------------------------------------------------------ Hidden Valley\n",
    "    f.write('HiddenValley:Ngauge = 2 \\n')  # Number of gauge (default = 3; min = 1)\n",
    "    f.write('HiddenValley:alphaOrder = 1 \\n')  # alphaOrder 0 for fixed alpha_d, 1 for running alpha_d optain by other variables\n",
    "    # (default = 0; min = 0; max = 1)\n",
    "    f.write('HiddenValley:Lambda = '+str(lambdas)+'\\n')  #lambda_d (default = 0.4; min = 0.1)\n",
    "    f.write('HiddenValley:nFlav = 2 \\n')  # Number of flavor\n",
    "    f.write('HiddenValley:alphaFSR = '+str(lambdas)+'\\n')  # (default = 0.1; min = 0.0)  # ++\n",
    "    f.write('HiddenValley:spinFv = 0 \\n')\n",
    "    f.write('HiddenValley:FSR = on \\n')\n",
    "    f.write('HiddenValley:fragment = on \\n')\n",
    "    f.write('HiddenValley:pTminFSR = '+str(1.1*lambdas)+'\\n')  # (default = 0.44; min = 0.1)\n",
    "    f.write('HiddenValley:probVector = '+str(0.75)+'\\n')\n",
    "    f.write('\\n')\n",
    "#------------------------------------------------------------ Dark particle setting\n",
    "    f.write('4900101:m0 = '+str(mass/2)+'\\n')  # 4900101 = qv\n",
    "    f.write('4900101:mWidth = '+str(mass/100)+'\\n')\n",
    "    f.write('4900101:mMin = '+str(mass/2-mass/100)+'\\n')\n",
    "    f.write('4900101:mMax = '+str(mass/2+mass/100)+'\\n')\n",
    "    f.write('4900111:m0 = '+str(mass)+'\\n')  # 4900111 = pivDiag(diagonal HV-meson) that can decay back into the SM sector.\n",
    "    f.write('4900113:m0 = '+str(mass)+'\\n')  # 4900113 = rhovDiag(diagonal HV-meson) that can decay back into the SM sector.\n",
    "    f.write('4900211:m0 = '+str(mass)+'\\n')  # 4900211 = pivUp(off-diagonal HV-meson) that is stable and invisible.\n",
    "    f.write('4900213:m0 = '+str(mass)+'\\n')  # 4900213 = rhovUp(off-diagonal HV-meson) that is stable and invisible.\n",
    "    f.write('51:m0 = '+str(mass/2-0.01)+'\\n')\n",
    "    f.write('53:m0 = '+str(mass/2-0.01)+'\\n')\n",
    "    f.write('#4900211:m0 = '+str(mass/2.0-0.01)+'\\n')  # 4900211 = pivUp(off-diagonal HV-meson) that is stable and invisible.\n",
    "    f.write('#4900213:m0 = '+str(mass/2.0-0.01)+'\\n')  # 4900213 = rhovUp(off-diagonal HV-meson) that is stable and invisible.\n",
    "    f.write('\\n')\n",
    "    \n",
    "    f.write('4900111:onechannel = 1 '+str(1.0-rinv)+' 91 -3 3 \\n')\n",
    "    f.write('4900111:addchannel = 1 '+str(rinv)+' 0 51 -51 \\n')\n",
    "    f.write('\\n')\n",
    "#     f.write('4900113:onechannel = 1 '+str(round((1-rinv)/5., ndp))+' 91 -1 1 \\n')  # /5. for python2. Python2 is idiot.\n",
    "#     f.write('4900113:addchannel = 1 '+str(round((1-rinv)/5, ndp))+' 91 -2 2 \\n')  # /5 for python3, they are not different. Python3 is smarter.\n",
    "    f.write('4900113:onechannel = 1 '+str(round((1-rinv)/5, ndp))+' 91 -1 1 \\n')\n",
    "    f.write('4900113:addchannel = 1 '+str(round((1-rinv)/5, ndp))+' 91 -2 2 \\n')\n",
    "    f.write('4900113:addchannel = 1 '+str(round((1-rinv)/5, ndp))+' 91 -3 3 \\n')\n",
    "    f.write('4900113:addchannel = 1 '+str(round((1-rinv)/5, ndp))+' 91 -4 4 \\n')\n",
    "    f.write('4900113:addchannel = 1 '+str(round((1-rinv)/5, ndp))+' 91 -5 5 \\n')\n",
    "    f.write('4900113:addchannel = 1 '+str(rinv)+' 0 53 -53 \\n')\n",
    "    f.write('\\n')\n",
    "    f.write('4900211:onechannel = 1 '+str(1.0-rinv)+' 91 -3 3 \\n')\n",
    "    f.write('4900211:addchannel = 1 '+str(rinv)+' 0 51 -51 \\n')\n",
    "    f.write('\\n')\n",
    "    f.write('4900213:onechannel = 1 '+str(round((1-rinv)/5, ndp))+' 91 -1 1 \\n')\n",
    "    f.write('4900213:addchannel = 1 '+str(round((1-rinv)/5, ndp))+' 91 -2 2 \\n')\n",
    "    f.write('4900213:addchannel = 1 '+str(round((1-rinv)/5, ndp))+' 91 -3 3 \\n')\n",
    "    f.write('4900213:addchannel = 1 '+str(round((1-rinv)/5, ndp))+' 91 -4 4 \\n')\n",
    "    f.write('4900213:addchannel = 1 '+str(round((1-rinv)/5, ndp))+' 91 -5 5 \\n')\n",
    "    f.write('4900213:addchannel = 1 '+str(rinv)+' 0 53 -53 \\n')\n",
    "    f.write('\\n')\n",
    "#------------------------------------------------------------ Jet matching\n",
    "    f.write('JetMatching:merge = on \\n')\n",
    "    f.write('JetMatching:setMad = on \\n')\n",
    "    f.write('JetMatching:scheme = 1 \\n')\n",
    "    f.write('JetMatching:jetAlgorithm = 2 \\n')\n",
    "    f.write('JetMatching:exclusive = 2 \\n')\n",
    "    f.write('JetMatching:nJetMax = 2 \\n')\n",
    "    f.write('JetMatching:qCut = 100 \\n')\n",
    "    f.write('JetMatching:nQmatch = 5 \\n')\n",
    "    f.write('JetMatching:clFact = 1.0 \\n')\n",
    "    f.write('\\n')\n",
    "#------------------------------------------------------------ Input LHE file\n",
    "    f.write('Beams:frameType = 4 \\n')\n",
    "    f.write('Beams:LHEF = '+inputpath+str(i)+'.lhe')  # Where your LHE file is.\n",
    "    \n",
    "    f.close()\n",
    "\n",
    "\n",
    "\n",
    "def check_cmnd(i, dirc = '/youwei_home/SVJ_py/Tutorial/DelPy_cmnd/', fname = 'test'):\n",
    "    fname = fname + str(i) + '.cmnd'\n",
    "    f = open(dirc+fname, 'r')\n",
    "    print(f.read())\n",
    "    f.close()  # Good habit"
   ]
  },
  {
   "cell_type": "code",
   "execution_count": 12,
   "metadata": {},
   "outputs": [
    {
     "name": "stderr",
     "output_type": "stream",
     "text": [
      "100%|██████████| 1/1 [00:00<00:00, 1048.05it/s]\n",
      "100%|██████████| 1/1 [00:00<00:00, 923.25it/s]\n",
      "100%|██████████| 1/1 [00:00<00:00, 1010.92it/s]\n",
      "100%|██████████| 1/1 [00:00<00:00, 1145.98it/s]\n"
     ]
    }
   ],
   "source": [
    "for i in tqdm(range(N)):\n",
    "    newdirc = '/youwei_home/SVJ_py/Tutorial/DelPy_cmnd/rinv03/'\n",
    "    gencmnd(i, dirc=newdirc)\n",
    "\n",
    "for i in tqdm(range(N)):\n",
    "    newdirc = '/youwei_home/SVJ_py/Tutorial/DelPy_cmnd/rinv0/'\n",
    "    gencmnd(i, rinv=0.0, dirc=newdirc)\n",
    "\n",
    "for i in tqdm(range(N)):\n",
    "    newdirc = '/youwei_home/SVJ_py/Tutorial/DelPy_cmnd/rinv05/'\n",
    "    gencmnd(i, rinv=0.5, dirc=newdirc)\n",
    "\n",
    "for i in tqdm(range(N)):\n",
    "    newdirc = '/youwei_home/SVJ_py/Tutorial/DelPy_cmnd/rinv1/'\n",
    "    gencmnd(i, rinv=1.0, dirc=newdirc)"
   ]
  },
  {
   "cell_type": "code",
   "execution_count": 13,
   "metadata": {},
   "outputs": [
    {
     "name": "stdout",
     "output_type": "stream",
     "text": [
      "Main:numberOfEvents = 10000 \n",
      "Main:timesAllowErrors = 3 \n",
      "Init:showChangedSettings = on  \n",
      "Init:showChangedParticleData = off \n",
      "Random:seed = 100\n",
      "Next:numberCount = 1000 \n",
      "Next:numberShowInfo = 1 \n",
      "Next:numberShowProcess = 1 \n",
      "Next:numberShowEvent = 1 \n",
      "\n",
      "4900001:m0 = 50000 \n",
      "4900002:m0 = 50000 \n",
      "4900003:m0 = 50000 \n",
      "4900004:m0 = 50000 \n",
      "4900005:m0 = 50000 \n",
      "4900006:m0 = 50000 \n",
      "4900011:m0 = 50000 \n",
      "4900012:m0 = 50000 \n",
      "4900013:m0 = 50000 \n",
      "4900014:m0 = 50000 \n",
      "4900015:m0 = 50000 \n",
      "4900016:m0 = 50000 \n",
      "\n",
      "HiddenValley:Ngauge = 2 \n",
      "HiddenValley:alphaOrder = 1 \n",
      "HiddenValley:Lambda = 5\n",
      "HiddenValley:nFlav = 2 \n",
      "HiddenValley:alphaFSR = 5\n",
      "HiddenValley:spinFv = 0 \n",
      "HiddenValley:FSR = on \n",
      "HiddenValley:fragment = on \n",
      "HiddenValley:pTminFSR = 5.5\n",
      "HiddenValley:probVector = 0.75\n",
      "\n",
      "4900101:m0 = 10.0\n",
      "4900101:mWidth = 0.2\n",
      "4900101:mMin = 9.8\n",
      "4900101:mMax = 10.2\n",
      "4900111:m0 = 20\n",
      "4900113:m0 = 20\n",
      "4900211:m0 = 20\n",
      "4900213:m0 = 20\n",
      "51:m0 = 9.99\n",
      "53:m0 = 9.99\n",
      "#4900211:m0 = 9.99\n",
      "#4900213:m0 = 9.99\n",
      "\n",
      "4900111:onechannel = 1 1.0 91 -3 3 \n",
      "4900111:addchannel = 1 0.0 0 51 -51 \n",
      "\n",
      "4900113:onechannel = 1 0.2 91 -1 1 \n",
      "4900113:addchannel = 1 0.2 91 -2 2 \n",
      "4900113:addchannel = 1 0.2 91 -3 3 \n",
      "4900113:addchannel = 1 0.2 91 -4 4 \n",
      "4900113:addchannel = 1 0.2 91 -5 5 \n",
      "4900113:addchannel = 1 0.0 0 53 -53 \n",
      "\n",
      "4900211:onechannel = 1 1.0 91 -3 3 \n",
      "4900211:addchannel = 1 0.0 0 51 -51 \n",
      "\n",
      "4900213:onechannel = 1 0.2 91 -1 1 \n",
      "4900213:addchannel = 1 0.2 91 -2 2 \n",
      "4900213:addchannel = 1 0.2 91 -3 3 \n",
      "4900213:addchannel = 1 0.2 91 -4 4 \n",
      "4900213:addchannel = 1 0.2 91 -5 5 \n",
      "4900213:addchannel = 1 0.0 0 53 -53 \n",
      "\n",
      "JetMatching:merge = on \n",
      "JetMatching:setMad = on \n",
      "JetMatching:scheme = 1 \n",
      "JetMatching:jetAlgorithm = 2 \n",
      "JetMatching:exclusive = 2 \n",
      "JetMatching:nJetMax = 2 \n",
      "JetMatching:qCut = 100 \n",
      "JetMatching:nQmatch = 5 \n",
      "JetMatching:clFact = 1.0 \n",
      "\n",
      "Beams:frameType = 4 \n",
      "Beams:LHEF = /youwei_home/SVJ_py/Tutorial/LHE/0.lhe\n"
     ]
    }
   ],
   "source": [
    "check_cmnd(0, dirc = '/youwei_home/SVJ_py/Tutorial/DelPy_cmnd/rinv0/')"
   ]
  },
  {
   "cell_type": "code",
   "execution_count": 14,
   "metadata": {},
   "outputs": [
    {
     "name": "stdout",
     "output_type": "stream",
     "text": [
      "Main:numberOfEvents = 10000 \n",
      "Main:timesAllowErrors = 3 \n",
      "Init:showChangedSettings = on  \n",
      "Init:showChangedParticleData = off \n",
      "Random:seed = 100\n",
      "Next:numberCount = 1000 \n",
      "Next:numberShowInfo = 1 \n",
      "Next:numberShowProcess = 1 \n",
      "Next:numberShowEvent = 1 \n",
      "\n",
      "4900001:m0 = 50000 \n",
      "4900002:m0 = 50000 \n",
      "4900003:m0 = 50000 \n",
      "4900004:m0 = 50000 \n",
      "4900005:m0 = 50000 \n",
      "4900006:m0 = 50000 \n",
      "4900011:m0 = 50000 \n",
      "4900012:m0 = 50000 \n",
      "4900013:m0 = 50000 \n",
      "4900014:m0 = 50000 \n",
      "4900015:m0 = 50000 \n",
      "4900016:m0 = 50000 \n",
      "\n",
      "HiddenValley:Ngauge = 2 \n",
      "HiddenValley:alphaOrder = 1 \n",
      "HiddenValley:Lambda = 5\n",
      "HiddenValley:nFlav = 2 \n",
      "HiddenValley:alphaFSR = 5\n",
      "HiddenValley:spinFv = 0 \n",
      "HiddenValley:FSR = on \n",
      "HiddenValley:fragment = on \n",
      "HiddenValley:pTminFSR = 5.5\n",
      "HiddenValley:probVector = 0.75\n",
      "\n",
      "4900101:m0 = 10.0\n",
      "4900101:mWidth = 0.2\n",
      "4900101:mMin = 9.8\n",
      "4900101:mMax = 10.2\n",
      "4900111:m0 = 20\n",
      "4900113:m0 = 20\n",
      "4900211:m0 = 20\n",
      "4900213:m0 = 20\n",
      "51:m0 = 9.99\n",
      "53:m0 = 9.99\n",
      "#4900211:m0 = 9.99\n",
      "#4900213:m0 = 9.99\n",
      "\n",
      "4900111:onechannel = 1 0.7 91 -3 3 \n",
      "4900111:addchannel = 1 0.3 0 51 -51 \n",
      "\n",
      "4900113:onechannel = 1 0.14 91 -1 1 \n",
      "4900113:addchannel = 1 0.14 91 -2 2 \n",
      "4900113:addchannel = 1 0.14 91 -3 3 \n",
      "4900113:addchannel = 1 0.14 91 -4 4 \n",
      "4900113:addchannel = 1 0.14 91 -5 5 \n",
      "4900113:addchannel = 1 0.3 0 53 -53 \n",
      "\n",
      "4900211:onechannel = 1 0.7 91 -3 3 \n",
      "4900211:addchannel = 1 0.3 0 51 -51 \n",
      "\n",
      "4900213:onechannel = 1 0.14 91 -1 1 \n",
      "4900213:addchannel = 1 0.14 91 -2 2 \n",
      "4900213:addchannel = 1 0.14 91 -3 3 \n",
      "4900213:addchannel = 1 0.14 91 -4 4 \n",
      "4900213:addchannel = 1 0.14 91 -5 5 \n",
      "4900213:addchannel = 1 0.3 0 53 -53 \n",
      "\n",
      "JetMatching:merge = on \n",
      "JetMatching:setMad = on \n",
      "JetMatching:scheme = 1 \n",
      "JetMatching:jetAlgorithm = 2 \n",
      "JetMatching:exclusive = 2 \n",
      "JetMatching:nJetMax = 2 \n",
      "JetMatching:qCut = 100 \n",
      "JetMatching:nQmatch = 5 \n",
      "JetMatching:clFact = 1.0 \n",
      "\n",
      "Beams:frameType = 4 \n",
      "Beams:LHEF = /youwei_home/SVJ_py/Tutorial/LHE/0.lhe\n"
     ]
    }
   ],
   "source": [
    "check_cmnd(0, dirc = '/youwei_home/SVJ_py/Tutorial/DelPy_cmnd/rinv03/')"
   ]
  },
  {
   "cell_type": "markdown",
   "metadata": {},
   "source": [
    "### Notice: Here, you can directly upload .tcl file, or use 'New Launcher' and 'Text File', but you have to change .txt to .tcl."
   ]
  },
  {
   "cell_type": "markdown",
   "metadata": {},
   "source": [
    "## Clean Up All Files in Your .root Output Path"
   ]
  },
  {
   "cell_type": "markdown",
   "metadata": {},
   "source": [
    "### Check this step"
   ]
  },
  {
   "cell_type": "code",
   "execution_count": 2,
   "metadata": {},
   "outputs": [
    {
     "data": {
      "text/plain": [
       "256"
      ]
     },
     "execution_count": 2,
     "metadata": {},
     "output_type": "execute_result"
    }
   ],
   "source": [
    "root_path = '/youwei_home/SVJ_py/Tutorial/ROOT/'\n",
    "os.system('rm '+root_path+'*')"
   ]
  },
  {
   "cell_type": "markdown",
   "metadata": {},
   "source": [
    "### This code has problem."
   ]
  },
  {
   "cell_type": "code",
   "execution_count": 2,
   "metadata": {},
   "outputs": [
    {
     "data": {
      "text/plain": [
       "0"
      ]
     },
     "execution_count": 2,
     "metadata": {},
     "output_type": "execute_result"
    }
   ],
   "source": [
    "root_path = '/youwei_home/SVJ_py/Tutorial/ROOT/'\n",
    "os.system('mkdir '+root_path+'rinv0')\n",
    "os.system('mkdir '+root_path+'rinv03')"
   ]
  },
  {
   "cell_type": "markdown",
   "metadata": {},
   "source": [
    "## Showering and Detector Simulation"
   ]
  },
  {
   "cell_type": "markdown",
   "metadata": {},
   "source": [
    "### Here, I provide two ways to carry out showering and detector simulation."
   ]
  },
  {
   "cell_type": "code",
   "execution_count": 3,
   "metadata": {},
   "outputs": [
    {
     "name": "stdout",
     "output_type": "stream",
     "text": [
      "nohup /root/Delphes-3.4.2/DelphesPythia8 /youwei_home/SVJ_py/Tutorial/DelPy_cmnd/delphes_card_ATLAS.tcl /youwei_home/SVJ_py/Tutorial/DelPy_cmnd/rinv0/test0.cmnd /youwei_home/SVJ_py/Tutorial/ROOT/rinv0/test0.root > /youwei_home/SVJ_py/Tutorial/ROOT/rinv0/test0.log 2>&1 &\n",
      "nohup /root/Delphes-3.4.2/DelphesPythia8 /youwei_home/SVJ_py/Tutorial/DelPy_cmnd/delphes_card_ATLAS.tcl /youwei_home/SVJ_py/Tutorial/DelPy_cmnd/rinv0/test1.cmnd /youwei_home/SVJ_py/Tutorial/ROOT/rinv0/test1.root > /youwei_home/SVJ_py/Tutorial/ROOT/rinv0/test1.log 2>&1 &\n"
     ]
    }
   ],
   "source": [
    "DelPy_path = '/youwei_home/SVJ_py/Tutorial/DelPy_cmnd/'  # Pythia .cmnd and delphes .tcl path\n",
    "outputpath = '/youwei_home/SVJ_py/Tutorial/ROOT/'\n",
    "fname = 'test'\n",
    "DelphesPythia8 = '/root/Delphes-3.4.2/DelphesPythia8'  # type where your DelphesPythia8 is\n",
    "\n",
    "for i in range(2):\n",
    "    fnamei = fname + str(i) + '.root'  # output .root file\n",
    "    cmndi = fname + str(i) + '.cmnd'  # input .cmnd file\n",
    "    \n",
    "    DelPy_pathi = DelPy_path+'rinv0/'  # input .cmnd path\n",
    "    outi = outputpath+'rinv0/'  # output file path\n",
    "#     os.system('nohup '+DelphesPythia8+' '+DelPy_path+'delphes_card_ATLAS.tcl'+' '+DelPy_pathi+cmndi+' '+outi+fnamei+ ' > ' +outi+fname+str(i)+'.log 2>&1 &')\n",
    "    print('nohup '+DelphesPythia8+' '+DelPy_path+'delphes_card_ATLAS.tcl'+' '+DelPy_pathi+cmndi+' '+outi+fnamei+ ' > ' +outi+fname+str(i)+'.log 2>&1 &')"
   ]
  },
  {
   "cell_type": "code",
   "execution_count": 4,
   "metadata": {},
   "outputs": [],
   "source": [
    "def showerdetsim(n, rinv=0.3, DelPy_path = '/youwei_home/SVJ_py/Tutorial/DelPy_cmnd/', outputpath = '/youwei_home/SVJ_py/Tutorial/ROOT/',\n",
    "        fname = 'test', DelphesPythia8 = '/root/Delphes-3.4.2/DelphesPythia8'):\n",
    "#     DelPy_path = Pythia .cmnd and delphes .tcl path\n",
    "#     DelphesPythia8 = type where your DelphesPythia8 is\n",
    "    \n",
    "    \n",
    "    \n",
    "    if 0 < rinv < 1:\n",
    "        DelPy_pathi = DelPy_path+'rinv0'+str(int(rinv*10))+'/'\n",
    "        outi = outputpath+'rinv0'+str(int(rinv*10))+'/'\n",
    "    else:\n",
    "        DelPy_pathi = DelPy_path+'rinv'+str(rinv)+'/'\n",
    "        outi = outputpath+'rinv'+str(rinv)+'/'\n",
    "    \n",
    "    for i in range(n+1):\n",
    "        fnamei = fname + str(i) + '.root'  # output .root file\n",
    "        cmndi = fname + str(i) + '.cmnd'  # input .cmnd file\n",
    "        os.system('nohup '+DelphesPythia8+' '+DelPy_path+'delphes_card_ATLAS.tcl'+' '+DelPy_pathi+cmndi+' '+outi+fnamei+ ' > ' +outi+fname+str(i)+'.log 2>&1 &')"
   ]
  },
  {
   "cell_type": "code",
   "execution_count": 5,
   "metadata": {},
   "outputs": [],
   "source": [
    "showerdetsim(0, rinv=0)"
   ]
  },
  {
   "cell_type": "code",
   "execution_count": 6,
   "metadata": {},
   "outputs": [],
   "source": [
    "showerdetsim(0, rinv=0.3)"
   ]
  },
  {
   "cell_type": "code",
   "execution_count": 49,
   "metadata": {},
   "outputs": [
    {
     "name": "stdout",
     "output_type": "stream",
     "text": [
      "1.235\n",
      "2.35\n",
      "4\n",
      "2\n"
     ]
    }
   ],
   "source": [
    "print(round(1.23456, 3))\n",
    "print(round(2.355, 2))\n",
    "print(round(3.5))\n",
    "print(round(2.5))"
   ]
  },
  {
   "cell_type": "markdown",
   "metadata": {},
   "source": [
    "#### Note: Function round is not good."
   ]
  },
  {
   "cell_type": "code",
   "execution_count": null,
   "metadata": {},
   "outputs": [],
   "source": []
  }
 ],
 "metadata": {
  "kernelspec": {
   "display_name": "Python 3",
   "language": "python",
   "name": "python3"
  },
  "language_info": {
   "codemirror_mode": {
    "name": "ipython",
    "version": 3
   },
   "file_extension": ".py",
   "mimetype": "text/x-python",
   "name": "python",
   "nbconvert_exporter": "python",
   "pygments_lexer": "ipython3",
   "version": "3.6.8"
  }
 },
 "nbformat": 4,
 "nbformat_minor": 4
}
