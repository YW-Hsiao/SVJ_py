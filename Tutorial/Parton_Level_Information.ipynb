{
 "cells": [
  {
   "cell_type": "markdown",
   "metadata": {},
   "source": [
    "## Import Packages"
   ]
  },
  {
   "cell_type": "code",
   "execution_count": 1,
   "metadata": {},
   "outputs": [
    {
     "name": "stdout",
     "output_type": "stream",
     "text": [
      "Welcome to JupyROOT 6.20/04\n"
     ]
    }
   ],
   "source": [
    "import math\n",
    "import numpy as np\n",
    "import matplotlib.pyplot as plt\n",
    "import ROOT\n",
    "import pylhe"
   ]
  },
  {
   "cell_type": "markdown",
   "metadata": {},
   "source": [
    "## Define Mass Functions"
   ]
  },
  {
   "cell_type": "code",
   "execution_count": 2,
   "metadata": {},
   "outputs": [],
   "source": [
    "def invariant_mass(p1, p2):\n",
    "    return math.sqrt(sum((1 if mu=='e' else -1)*(getattr(p1,mu)+getattr(p2,mu))**2 for mu in ['e','px','py','pz']))\n",
    "def transverse_mass(p1):\n",
    "    return math.sqrt(sum((1 if mu=='e' else -1)*(getattr(p1,mu))**2 for mu in ['e','pz']))"
   ]
  },
  {
   "cell_type": "markdown",
   "metadata": {},
   "source": [
    "#### Note:\n",
    " \\begin{align}\n",
    " & p_\\mu p^\\mu = \\frac{E^2}{c^2}-\\vec{p}^2=m^2c^2 \\\\\n",
    " &\\Rightarrow m^2=E^2-\\vec{p}^2\n",
    " \\end{align}\n",
    "Transverse mass with $c=1$\n",
    " \\begin{align}\n",
    " m_T^2 = m^2+p_x^2+p_y^2=E^2-p_z^2 \\\\\n",
    " \\end{align}"
   ]
  },
  {
   "cell_type": "markdown",
   "metadata": {},
   "source": [
    "## Create a Event List, Mass Lists and extract interesting informations"
   ]
  },
  {
   "cell_type": "code",
   "execution_count": 3,
   "metadata": {},
   "outputs": [],
   "source": [
    "# process_path_MZ_1500 = '/youwei_home/SVJ_py/Tutorial/s_channel0/Events/run_01/unweighted_events.lhe'\n",
    "process_path_MZ_1500 = '/youwei_home/SVJ_py/Tutorial/LHE/0.lhe'\n",
    "s_channel0_MZ_1500 = pylhe.readLHE(process_path_MZ_1500)\n",
    "\n",
    "event_list = []\n",
    "\n",
    "for event in s_channel0_MZ_1500:\n",
    "    event_list.append(event)"
   ]
  },
  {
   "cell_type": "code",
   "execution_count": 4,
   "metadata": {},
   "outputs": [
    {
     "name": "stdout",
     "output_type": "stream",
     "text": [
      "['__class__', '__delattr__', '__dict__', '__dir__', '__doc__', '__eq__', '__format__', '__ge__', '__getattribute__', '__gt__', '__hash__', '__init__', '__init_subclass__', '__le__', '__lt__', '__module__', '__ne__', '__new__', '__reduce__', '__reduce_ex__', '__repr__', '__setattr__', '__sizeof__', '__str__', '__subclasshook__', '__weakref__', 'attributes', 'eventinfo', 'particles', 'weights']\n",
      "---------------------------------------------------------------------------------------------------------------------------------------------------\n",
      "['__add__', '__class__', '__contains__', '__delattr__', '__delitem__', '__dir__', '__doc__', '__eq__', '__format__', '__ge__', '__getattribute__', '__getitem__', '__gt__', '__hash__', '__iadd__', '__imul__', '__init__', '__init_subclass__', '__iter__', '__le__', '__len__', '__lt__', '__mul__', '__ne__', '__new__', '__reduce__', '__reduce_ex__', '__repr__', '__reversed__', '__rmul__', '__setattr__', '__setitem__', '__sizeof__', '__str__', '__subclasshook__', 'append', 'clear', 'copy', 'count', 'extend', 'index', 'insert', 'pop', 'remove', 'reverse', 'sort']\n",
      "---------------------------------------------------------------------------------------------------------------------------------------------------\n",
      "['__call__', '__class__', '__delattr__', '__dir__', '__doc__', '__eq__', '__format__', '__ge__', '__getattribute__', '__gt__', '__hash__', '__init__', '__init_subclass__', '__le__', '__lt__', '__module__', '__name__', '__ne__', '__new__', '__qualname__', '__reduce__', '__reduce_ex__', '__repr__', '__self__', '__setattr__', '__sizeof__', '__str__', '__subclasshook__', '__text_signature__']\n"
     ]
    }
   ],
   "source": [
    "print(dir(event_list[0]))\n",
    "print('-'*147)\n",
    "print(dir(event_list[0].particles))\n",
    "print('-'*147)\n",
    "print(dir(event_list[0].particles.index))"
   ]
  },
  {
   "cell_type": "markdown",
   "metadata": {},
   "source": [
    "#### Note: These are not interesting informations."
   ]
  },
  {
   "cell_type": "code",
   "execution_count": 5,
   "metadata": {},
   "outputs": [
    {
     "data": {
      "text/plain": [
       "['__class__',\n",
       " '__delattr__',\n",
       " '__dict__',\n",
       " '__dir__',\n",
       " '__doc__',\n",
       " '__eq__',\n",
       " '__format__',\n",
       " '__ge__',\n",
       " '__getattribute__',\n",
       " '__gt__',\n",
       " '__hash__',\n",
       " '__init__',\n",
       " '__init_subclass__',\n",
       " '__le__',\n",
       " '__lt__',\n",
       " '__module__',\n",
       " '__ne__',\n",
       " '__new__',\n",
       " '__reduce__',\n",
       " '__reduce_ex__',\n",
       " '__repr__',\n",
       " '__setattr__',\n",
       " '__sizeof__',\n",
       " '__str__',\n",
       " '__subclasshook__',\n",
       " '__weakref__',\n",
       " 'color1',\n",
       " 'color2',\n",
       " 'e',\n",
       " 'event',\n",
       " 'fieldnames',\n",
       " 'fromstring',\n",
       " 'id',\n",
       " 'lifetime',\n",
       " 'm',\n",
       " 'mother1',\n",
       " 'mother2',\n",
       " 'mothers',\n",
       " 'px',\n",
       " 'py',\n",
       " 'pz',\n",
       " 'spin',\n",
       " 'status']"
      ]
     },
     "execution_count": 5,
     "metadata": {},
     "output_type": "execute_result"
    }
   ],
   "source": [
    "dir(event_list[0].particles[0])"
   ]
  },
  {
   "cell_type": "code",
   "execution_count": 6,
   "metadata": {},
   "outputs": [
    {
     "name": "stdout",
     "output_type": "stream",
     "text": [
      "     #         id      mother1     mother2        e           px          py          pz        status   \n",
      "     1          2         0           0        3847.643     0.000       0.000      3847.643       -1     \n",
      "     2         -2         0           0        145.547      -0.000      -0.000     -145.547       -1     \n",
      "     3       5000001      1           2        3993.190     0.000       0.000      3702.096       2      \n",
      "     4       4900101      3           3        1518.592    672.809     -264.379    1335.460       1      \n",
      "     5      -4900101      3           3        2474.598    -672.809    264.379     2366.636       1      \n",
      "------------------------------------------------------------------------------------------------------\n",
      "     1         -2         0           0        1088.959     -0.000      0.000      1088.959       -1     \n",
      "     2          2         0           0        629.358      0.000       -0.000     -629.358       -1     \n",
      "     3       5000001      1           2        1597.254    -30.820      74.811     541.402        2      \n",
      "     4       4900101      3           3        574.569     -401.343    -133.904    -388.617       1      \n",
      "     5      -4900101      3           3        1022.685    370.523     208.715     930.019        1      \n",
      "     6          5         1           2         66.931      -0.702     -46.699     -47.943        1      \n",
      "     7         -5         1           2         54.132      31.522     -28.111     -33.858        1      \n",
      "------------------------------------------------------------------------------------------------------\n",
      "     1          1         0           0        546.416      0.000       0.000      546.416        -1     \n",
      "     2         -1         0           0        2729.286     -0.000      -0.000    -2729.286       -1     \n",
      "     3       5000001      1           2        1644.016     49.513     149.608     -612.397       2      \n",
      "     4       4900101      3           3        511.665     -150.990    -201.908    445.125        1      \n",
      "     5      -4900101      3           3        1132.351    200.502     351.516    -1057.523       1      \n",
      "     6         21         1           2        1472.375     63.913     -172.090   -1460.886       1      \n",
      "     7         21         1           2        159.311     -113.426     22.482     -109.586       1      \n",
      "------------------------------------------------------------------------------------------------------\n",
      "     1         -1         0           0        235.293      -0.000      0.000      235.293        -1     \n",
      "     2          1         0           0        2674.701     0.000       -0.000    -2674.701       -1     \n",
      "     3       5000001      1           2        2827.818     69.638     -14.701    -2398.330       2      \n",
      "     4       4900101      3           3        1973.196    -168.381    -634.813   -1860.662       1      \n",
      "     5      -4900101      3           3        854.622     238.019     620.112     -537.667       1      \n",
      "     6         21         1           2         82.176     -69.638      14.701     -41.078        1      \n",
      "------------------------------------------------------------------------------------------------------\n",
      "     1          2         0           0        1355.359     -0.000      0.000      1355.359       -1     \n",
      "     2         21         0           0        1038.306     0.000       -0.000    -1038.306       -1     \n",
      "     3       5000001      1           2        1649.885    -311.487    424.731     412.254        2      \n",
      "     4       4900101      3           3        762.642     -80.984     -399.999    644.178        1      \n",
      "     5      -4900101      3           3        887.243     -230.504    824.729     -231.925       1      \n",
      "     6         21         1           2        448.360     125.729     -312.674    -295.726       1      \n",
      "     7          2         1           2        295.420     185.758     -112.056    200.525        1      \n",
      "------------------------------------------------------------------------------------------------------\n",
      "     1         -2         0           0        677.388      -0.000      0.000      677.388        -1     \n",
      "     2          2         0           0        827.953      0.000       -0.000     -827.953       -1     \n",
      "     3       5000001      1           2        1505.341     0.000       0.000      -150.565       2      \n",
      "     4       4900101      3           3        769.206      15.526     730.375     -240.603       1      \n",
      "     5      -4900101      3           3        736.135     -15.526     -730.375     90.038        1      \n",
      "------------------------------------------------------------------------------------------------------\n"
     ]
    }
   ],
   "source": [
    "print('{:^12}{:^9}{:^12}{:^12}{:^12}{:^12}{:^12}{:^12}{:^12}'.format('#','id','mother1','mother2','e','px','py','pz','status'))\n",
    "\n",
    "for n in range(6):\n",
    "    for i, element in enumerate(event_list[n].particles):\n",
    "        print('{:^12}{:^9.0f}{:^12.0f}{:^12.0f}{:^12.3f}{:^12.3f}{:^12.3f}{:^12.3f}{:^12.0f}'\n",
    "          .format(i+1, element.id, element.mother1, element.mother2, element.e, element.px, element.py, element.pz, element.status))\n",
    "    print('-'*102)"
   ]
  },
  {
   "cell_type": "markdown",
   "metadata": {},
   "source": [
    "#### Note: How many particls in each event?"
   ]
  },
  {
   "cell_type": "code",
   "execution_count": 7,
   "metadata": {},
   "outputs": [
    {
     "data": {
      "text/plain": [
       "<pylhe.LHEEvent at 0x7f737d036630>"
      ]
     },
     "execution_count": 7,
     "metadata": {},
     "output_type": "execute_result"
    }
   ],
   "source": [
    "event_list[0]"
   ]
  },
  {
   "cell_type": "code",
   "execution_count": 8,
   "metadata": {},
   "outputs": [
    {
     "data": {
      "text/plain": [
       "10000"
      ]
     },
     "execution_count": 8,
     "metadata": {},
     "output_type": "execute_result"
    }
   ],
   "source": [
    "len(event_list)"
   ]
  },
  {
   "cell_type": "code",
   "execution_count": 9,
   "metadata": {},
   "outputs": [
    {
     "name": "stdout",
     "output_type": "stream",
     "text": [
      "5\n",
      "7\n",
      "7\n",
      "6\n",
      "7\n",
      "5\n"
     ]
    }
   ],
   "source": [
    "for n in range(6):\n",
    "    print(len(event_list[n].particles))"
   ]
  },
  {
   "cell_type": "markdown",
   "metadata": {},
   "source": [
    "#### Note:\n",
    "Therefore, we can find each event number is not the same. \\\n",
    "And I have three way to extract interesting informations."
   ]
  },
  {
   "cell_type": "code",
   "execution_count": 10,
   "metadata": {},
   "outputs": [
    {
     "data": {
      "text/plain": [
       "[-1.0, -1.0, 2.0, 1.0, 1.0]"
      ]
     },
     "execution_count": 10,
     "metadata": {},
     "output_type": "execute_result"
    }
   ],
   "source": [
    "[i.status for i in event_list[0].particles]  # particle status for first event (Parton level)"
   ]
  },
  {
   "cell_type": "code",
   "execution_count": 11,
   "metadata": {},
   "outputs": [
    {
     "name": "stdout",
     "output_type": "stream",
     "text": [
      "[-1.0, -1.0, 2.0, 1.0, 1.0]\n",
      "-1.0\n",
      "-1.0\n",
      "2.0\n",
      "1.0\n",
      "1.0\n"
     ]
    }
   ],
   "source": [
    "test_status = []\n",
    "for i in event_list[0].particles:\n",
    "    test_status.append(i.status)\n",
    "print(test_status)\n",
    "\n",
    "for i in range(5):\n",
    "    print(getattr(event_list[0].particles[i], 'status'))"
   ]
  },
  {
   "cell_type": "code",
   "execution_count": 12,
   "metadata": {},
   "outputs": [
    {
     "name": "stdout",
     "output_type": "stream",
     "text": [
      "[0.0, 0.0, 2.0, 3.0, 3.0, 2.0, 2.0]\n",
      "[1088.9593186, 629.35821199, 1597.2539351, 574.56886545, 1022.6850696, 66.93148139, 54.132114138]\n",
      "[1088.9593186, -629.35821199, 541.40240586, -388.61692996, 930.01933582, -47.942925309, -33.858373939]\n"
     ]
    }
   ],
   "source": [
    "print([i.mother2 for i in event_list[1].particles])\n",
    "print([i.e for i in event_list[1].particles])\n",
    "print([i.pz for i in event_list[1].particles])"
   ]
  },
  {
   "cell_type": "code",
   "execution_count": 13,
   "metadata": {},
   "outputs": [
    {
     "name": "stdout",
     "output_type": "stream",
     "text": [
      "[0.0, 0.0, 2.0, 3.0, 3.0, 2.0, 2.0]\n",
      "[1088.9593186, 629.35821199, 1597.2539351, 574.56886545, 1022.6850696, 66.93148139, 54.132114138]\n",
      "[1088.9593186, -629.35821199, 541.40240586, -388.61692996, 930.01933582, -47.942925309, -33.858373939]\n",
      "------------------------------------------------------------------------------------------------------\n",
      "[0.0, 0.0, 2.0, 3.0, 3.0, 2.0, 2.0]\n",
      "[1088.9593186, 629.35821199, 1597.2539351, 574.56886545, 1022.6850696, 66.93148139, 54.132114138]\n",
      "[1088.9593186, -629.35821199, 541.40240586, -388.61692996, 930.01933582, -47.942925309, -33.858373939]\n"
     ]
    }
   ],
   "source": [
    "test_mother2, test_e, test_pz = [], [], []\n",
    "for i in event_list[1].particles:\n",
    "    test_mother2.append(i.mother2)\n",
    "    test_e.append(i.e)\n",
    "    test_pz.append(i.pz)\n",
    "print(test_mother2)\n",
    "print(test_e)\n",
    "print(test_pz)\n",
    "print('-'*102)\n",
    "\n",
    "test_mother2, test_e, test_pz = [], [], []\n",
    "for i in range(len(event_list[1].particles)):\n",
    "    test_mother2.append(getattr(event_list[1].particles[i], 'mother2'))\n",
    "    test_e.append(getattr(event_list[1].particles[i], 'e'))\n",
    "    test_pz.append(getattr(event_list[1].particles[i], 'pz'))\n",
    "print(test_mother2)\n",
    "print(test_e)\n",
    "print(test_pz)"
   ]
  },
  {
   "cell_type": "code",
   "execution_count": 14,
   "metadata": {},
   "outputs": [
    {
     "data": {
      "text/plain": [
       "[<pylhe.LHEEvent at 0x7f737d036630>,\n",
       " <pylhe.LHEEvent at 0x7f737d036630>,\n",
       " <pylhe.LHEEvent at 0x7f737d036630>,\n",
       " <pylhe.LHEEvent at 0x7f737d036630>,\n",
       " <pylhe.LHEEvent at 0x7f737d036630>]"
      ]
     },
     "execution_count": 14,
     "metadata": {},
     "output_type": "execute_result"
    }
   ],
   "source": [
    "[i.event for i in event_list[0].particles]"
   ]
  },
  {
   "cell_type": "code",
   "execution_count": 15,
   "metadata": {},
   "outputs": [
    {
     "name": "stdout",
     "output_type": "stream",
     "text": [
      "4 1518.5916918\n",
      "5 2474.5978908\n",
      "--------------\n",
      "4 574.56886545\n",
      "5 1022.6850696\n",
      "--------------\n",
      "4 511.6652133\n",
      "5 1132.350957\n",
      "--------------\n",
      "4 1973.1963654\n",
      "5 854.62152145\n",
      "--------------\n",
      "4 762.64210098\n",
      "5 887.2425824\n",
      "--------------\n",
      "4 769.20609332\n",
      "5 736.13535744\n",
      "--------------\n"
     ]
    }
   ],
   "source": [
    "for n in range(6):\n",
    "    for i, particle in enumerate(event_list[n].particles):\n",
    "        if particle.id == 4900101:\n",
    "            p1 = event_list[n].particles[i]\n",
    "            print(i+1, getattr(p1,'e'))\n",
    "        elif particle.id == -4900101:\n",
    "            p2 = event_list[n].particles[i]\n",
    "            print(i+1, getattr(p2,'e'))\n",
    "    print('-'*14)"
   ]
  },
  {
   "cell_type": "markdown",
   "metadata": {},
   "source": [
    "## Chek all events only have a 4900101 and -4900101"
   ]
  },
  {
   "cell_type": "code",
   "execution_count": 16,
   "metadata": {},
   "outputs": [
    {
     "name": "stdout",
     "output_type": "stream",
     "text": [
      "10000 10000\n"
     ]
    }
   ],
   "source": [
    "nevents = len(event_list)\n",
    "acc_p49 = 0\n",
    "acc_m49 = 0\n",
    "for n in range(nevents):\n",
    "    for i, particle in enumerate(event_list[n].particles):\n",
    "        if particle.id == 4900101:\n",
    "            acc_p49 += 1\n",
    "        elif particle.id == -4900101:\n",
    "            acc_m49 += 1\n",
    "            \n",
    "print(acc_p49, acc_m49)"
   ]
  },
  {
   "cell_type": "markdown",
   "metadata": {},
   "source": [
    "#### Note: This is not good!!"
   ]
  },
  {
   "cell_type": "markdown",
   "metadata": {},
   "source": [
    "## Create Mass List and Plot"
   ]
  },
  {
   "cell_type": "code",
   "execution_count": 17,
   "metadata": {},
   "outputs": [],
   "source": [
    "m, mT = [], []\n",
    "nevents = len(event_list)\n",
    "for n in range(nevents):\n",
    "    for i, particle in enumerate(event_list[n].particles):\n",
    "        if particle.id == 4900101:\n",
    "            p1 = event_list[n].particles[i]\n",
    "        elif particle.id == -4900101:\n",
    "            p2 = event_list[n].particles[i]\n",
    "            \n",
    "    m.append(invariant_mass(p1,p2))\n",
    "    \n",
    "m = np.array(m)"
   ]
  },
  {
   "cell_type": "code",
   "execution_count": null,
   "metadata": {},
   "outputs": [],
   "source": [
    "plt.figure(figsize=(8,8))  # plot size\n",
    " \n",
    "bin_size = np.linspace(800,2000,121)\n",
    "hist, bins = np.histogram(m, bins=bin_size)\n",
    "plt.hist(m, bin)\n",
    "\n",
    "\n",
    "plt.step(bin_size, m.astype(np.float32)/10, color='green', label='$M_{xd,\\\\bar{xd}}$')\n",
    "\n",
    "plt.legend(fontsize=20)\n",
    "plt.yscale('log')\n",
    "plt.title('Invariant Mass of $Z^\\prime$', fontsize=20)\n",
    "plt.xlabel('$M_{xd,\\\\bar{xd}}$ [GeV]', fontsize=20, horizontalalignment='right', x=1)\n",
    "plt.ylabel('Events/Bin', fontsize=20, horizontalalignment='right', y=1)\n",
    "plt.xticks(fontsize=15)\n",
    "plt.yticks(fontsize=15)\n",
    "plt.show()\n",
    "\n",
    "\n",
    "\n",
    "# Not take log for scale of y axis.\n",
    "plt.figure(figsize=(8,8))\n",
    "plt.hist(m, bins=bin_size)\n",
    "plt.title('Invariant Mass of $Z^\\prime$')\n",
    "plt.show()"
   ]
  },
  {
   "cell_type": "code",
   "execution_count": 29,
   "metadata": {},
   "outputs": [
    {
     "data": {
      "text/plain": [
       "array([ 800.,  810.,  820.,  830.,  840.,  850.,  860.,  870.,  880.,\n",
       "        890.,  900.,  910.,  920.,  930.,  940.,  950.,  960.,  970.,\n",
       "        980.,  990., 1000., 1010., 1020., 1030., 1040., 1050., 1060.,\n",
       "       1070., 1080., 1090., 1100., 1110., 1120., 1130., 1140., 1150.,\n",
       "       1160., 1170., 1180., 1190., 1200., 1210., 1220., 1230., 1240.,\n",
       "       1250., 1260., 1270., 1280., 1290., 1300., 1310., 1320., 1330.,\n",
       "       1340., 1350., 1360., 1370., 1380., 1390., 1400., 1410., 1420.,\n",
       "       1430., 1440., 1450., 1460., 1470., 1480., 1490., 1500., 1510.,\n",
       "       1520., 1530., 1540., 1550., 1560., 1570., 1580., 1590., 1600.,\n",
       "       1610., 1620., 1630., 1640., 1650., 1660., 1670., 1680., 1690.,\n",
       "       1700., 1710., 1720., 1730., 1740., 1750., 1760., 1770., 1780.,\n",
       "       1790., 1800., 1810., 1820., 1830., 1840., 1850., 1860., 1870.,\n",
       "       1880., 1890., 1900., 1910., 1920., 1930., 1940., 1950., 1960.,\n",
       "       1970., 1980., 1990., 2000.])"
      ]
     },
     "execution_count": 29,
     "metadata": {},
     "output_type": "execute_result"
    }
   ],
   "source": [
    "np.linspace(800,2000,121)"
   ]
  },
  {
   "cell_type": "code",
   "execution_count": 27,
   "metadata": {},
   "outputs": [
    {
     "ename": "ValueError",
     "evalue": "x and y must have same first dimension, but have shapes (121,) and (10000,)",
     "output_type": "error",
     "traceback": [
      "\u001b[0;31m---------------------------------------------------------------------------\u001b[0m",
      "\u001b[0;31mValueError\u001b[0m                                Traceback (most recent call last)",
      "\u001b[0;32m<ipython-input-27-65621b282f1f>\u001b[0m in \u001b[0;36m<module>\u001b[0;34m\u001b[0m\n\u001b[1;32m      3\u001b[0m \u001b[0mbin_size\u001b[0m \u001b[0;34m=\u001b[0m \u001b[0mnp\u001b[0m\u001b[0;34m.\u001b[0m\u001b[0mlinspace\u001b[0m\u001b[0;34m(\u001b[0m\u001b[0;36m800\u001b[0m\u001b[0;34m,\u001b[0m\u001b[0;36m2000\u001b[0m\u001b[0;34m,\u001b[0m\u001b[0;36m121\u001b[0m\u001b[0;34m)\u001b[0m\u001b[0;34m\u001b[0m\u001b[0;34m\u001b[0m\u001b[0m\n\u001b[1;32m      4\u001b[0m \u001b[0mhist\u001b[0m\u001b[0;34m,\u001b[0m \u001b[0mbins\u001b[0m \u001b[0;34m=\u001b[0m \u001b[0mnp\u001b[0m\u001b[0;34m.\u001b[0m\u001b[0mhistogram\u001b[0m\u001b[0;34m(\u001b[0m\u001b[0mm\u001b[0m\u001b[0;34m,\u001b[0m \u001b[0mbins\u001b[0m\u001b[0;34m=\u001b[0m\u001b[0mbin_size\u001b[0m\u001b[0;34m)\u001b[0m\u001b[0;34m\u001b[0m\u001b[0;34m\u001b[0m\u001b[0m\n\u001b[0;32m----> 5\u001b[0;31m \u001b[0mplt\u001b[0m\u001b[0;34m.\u001b[0m\u001b[0mstep\u001b[0m\u001b[0;34m(\u001b[0m\u001b[0mbin_size\u001b[0m\u001b[0;34m,\u001b[0m \u001b[0mm\u001b[0m\u001b[0;34m.\u001b[0m\u001b[0mastype\u001b[0m\u001b[0;34m(\u001b[0m\u001b[0mnp\u001b[0m\u001b[0;34m.\u001b[0m\u001b[0mfloat32\u001b[0m\u001b[0;34m)\u001b[0m\u001b[0;34m/\u001b[0m\u001b[0;36m10\u001b[0m\u001b[0;34m,\u001b[0m \u001b[0mcolor\u001b[0m\u001b[0;34m=\u001b[0m\u001b[0;34m'green'\u001b[0m\u001b[0;34m,\u001b[0m \u001b[0mlabel\u001b[0m\u001b[0;34m=\u001b[0m\u001b[0;34m'$M_{xd,\\\\bar{xd}}$'\u001b[0m\u001b[0;34m)\u001b[0m\u001b[0;34m\u001b[0m\u001b[0;34m\u001b[0m\u001b[0m\n\u001b[0m\u001b[1;32m      6\u001b[0m \u001b[0;34m\u001b[0m\u001b[0m\n\u001b[1;32m      7\u001b[0m \u001b[0mplt\u001b[0m\u001b[0;34m.\u001b[0m\u001b[0mlegend\u001b[0m\u001b[0;34m(\u001b[0m\u001b[0mfontsize\u001b[0m\u001b[0;34m=\u001b[0m\u001b[0;36m20\u001b[0m\u001b[0;34m)\u001b[0m\u001b[0;34m\u001b[0m\u001b[0;34m\u001b[0m\u001b[0m\n",
      "\u001b[0;32m/usr/local/lib64/python3.6/site-packages/matplotlib/pyplot.py\u001b[0m in \u001b[0;36mstep\u001b[0;34m(x, y, where, data, *args, **kwargs)\u001b[0m\n\u001b[1;32m   2887\u001b[0m     return gca().step(\n\u001b[1;32m   2888\u001b[0m         x, y, *args, where=where, **({\"data\": data} if data is not\n\u001b[0;32m-> 2889\u001b[0;31m         None else {}), **kwargs)\n\u001b[0m\u001b[1;32m   2890\u001b[0m \u001b[0;34m\u001b[0m\u001b[0m\n\u001b[1;32m   2891\u001b[0m \u001b[0;34m\u001b[0m\u001b[0m\n",
      "\u001b[0;32m/usr/local/lib64/python3.6/site-packages/matplotlib/axes/_axes.py\u001b[0m in \u001b[0;36mstep\u001b[0;34m(self, x, y, where, data, *args, **kwargs)\u001b[0m\n\u001b[1;32m   2109\u001b[0m         \u001b[0mcbook\u001b[0m\u001b[0;34m.\u001b[0m\u001b[0m_check_in_list\u001b[0m\u001b[0;34m(\u001b[0m\u001b[0;34m(\u001b[0m\u001b[0;34m'pre'\u001b[0m\u001b[0;34m,\u001b[0m \u001b[0;34m'post'\u001b[0m\u001b[0;34m,\u001b[0m \u001b[0;34m'mid'\u001b[0m\u001b[0;34m)\u001b[0m\u001b[0;34m,\u001b[0m \u001b[0mwhere\u001b[0m\u001b[0;34m=\u001b[0m\u001b[0mwhere\u001b[0m\u001b[0;34m)\u001b[0m\u001b[0;34m\u001b[0m\u001b[0;34m\u001b[0m\u001b[0m\n\u001b[1;32m   2110\u001b[0m         \u001b[0mkwargs\u001b[0m\u001b[0;34m[\u001b[0m\u001b[0;34m'drawstyle'\u001b[0m\u001b[0;34m]\u001b[0m \u001b[0;34m=\u001b[0m \u001b[0;34m'steps-'\u001b[0m \u001b[0;34m+\u001b[0m \u001b[0mwhere\u001b[0m\u001b[0;34m\u001b[0m\u001b[0;34m\u001b[0m\u001b[0m\n\u001b[0;32m-> 2111\u001b[0;31m         \u001b[0;32mreturn\u001b[0m \u001b[0mself\u001b[0m\u001b[0;34m.\u001b[0m\u001b[0mplot\u001b[0m\u001b[0;34m(\u001b[0m\u001b[0mx\u001b[0m\u001b[0;34m,\u001b[0m \u001b[0my\u001b[0m\u001b[0;34m,\u001b[0m \u001b[0;34m*\u001b[0m\u001b[0margs\u001b[0m\u001b[0;34m,\u001b[0m \u001b[0mdata\u001b[0m\u001b[0;34m=\u001b[0m\u001b[0mdata\u001b[0m\u001b[0;34m,\u001b[0m \u001b[0;34m**\u001b[0m\u001b[0mkwargs\u001b[0m\u001b[0;34m)\u001b[0m\u001b[0;34m\u001b[0m\u001b[0;34m\u001b[0m\u001b[0m\n\u001b[0m\u001b[1;32m   2112\u001b[0m \u001b[0;34m\u001b[0m\u001b[0m\n\u001b[1;32m   2113\u001b[0m     \u001b[0;34m@\u001b[0m\u001b[0mstaticmethod\u001b[0m\u001b[0;34m\u001b[0m\u001b[0;34m\u001b[0m\u001b[0m\n",
      "\u001b[0;32m/usr/local/lib64/python3.6/site-packages/matplotlib/axes/_axes.py\u001b[0m in \u001b[0;36mplot\u001b[0;34m(self, scalex, scaley, data, *args, **kwargs)\u001b[0m\n\u001b[1;32m   1645\u001b[0m         \"\"\"\n\u001b[1;32m   1646\u001b[0m         \u001b[0mkwargs\u001b[0m \u001b[0;34m=\u001b[0m \u001b[0mcbook\u001b[0m\u001b[0;34m.\u001b[0m\u001b[0mnormalize_kwargs\u001b[0m\u001b[0;34m(\u001b[0m\u001b[0mkwargs\u001b[0m\u001b[0;34m,\u001b[0m \u001b[0mmlines\u001b[0m\u001b[0;34m.\u001b[0m\u001b[0mLine2D\u001b[0m\u001b[0;34m)\u001b[0m\u001b[0;34m\u001b[0m\u001b[0;34m\u001b[0m\u001b[0m\n\u001b[0;32m-> 1647\u001b[0;31m         \u001b[0mlines\u001b[0m \u001b[0;34m=\u001b[0m \u001b[0;34m[\u001b[0m\u001b[0;34m*\u001b[0m\u001b[0mself\u001b[0m\u001b[0;34m.\u001b[0m\u001b[0m_get_lines\u001b[0m\u001b[0;34m(\u001b[0m\u001b[0;34m*\u001b[0m\u001b[0margs\u001b[0m\u001b[0;34m,\u001b[0m \u001b[0mdata\u001b[0m\u001b[0;34m=\u001b[0m\u001b[0mdata\u001b[0m\u001b[0;34m,\u001b[0m \u001b[0;34m**\u001b[0m\u001b[0mkwargs\u001b[0m\u001b[0;34m)\u001b[0m\u001b[0;34m]\u001b[0m\u001b[0;34m\u001b[0m\u001b[0;34m\u001b[0m\u001b[0m\n\u001b[0m\u001b[1;32m   1648\u001b[0m         \u001b[0;32mfor\u001b[0m \u001b[0mline\u001b[0m \u001b[0;32min\u001b[0m \u001b[0mlines\u001b[0m\u001b[0;34m:\u001b[0m\u001b[0;34m\u001b[0m\u001b[0;34m\u001b[0m\u001b[0m\n\u001b[1;32m   1649\u001b[0m             \u001b[0mself\u001b[0m\u001b[0;34m.\u001b[0m\u001b[0madd_line\u001b[0m\u001b[0;34m(\u001b[0m\u001b[0mline\u001b[0m\u001b[0;34m)\u001b[0m\u001b[0;34m\u001b[0m\u001b[0;34m\u001b[0m\u001b[0m\n",
      "\u001b[0;32m/usr/local/lib64/python3.6/site-packages/matplotlib/axes/_base.py\u001b[0m in \u001b[0;36m__call__\u001b[0;34m(self, *args, **kwargs)\u001b[0m\n\u001b[1;32m    214\u001b[0m                 \u001b[0mthis\u001b[0m \u001b[0;34m+=\u001b[0m \u001b[0margs\u001b[0m\u001b[0;34m[\u001b[0m\u001b[0;36m0\u001b[0m\u001b[0;34m]\u001b[0m\u001b[0;34m,\u001b[0m\u001b[0;34m\u001b[0m\u001b[0;34m\u001b[0m\u001b[0m\n\u001b[1;32m    215\u001b[0m                 \u001b[0margs\u001b[0m \u001b[0;34m=\u001b[0m \u001b[0margs\u001b[0m\u001b[0;34m[\u001b[0m\u001b[0;36m1\u001b[0m\u001b[0;34m:\u001b[0m\u001b[0;34m]\u001b[0m\u001b[0;34m\u001b[0m\u001b[0;34m\u001b[0m\u001b[0m\n\u001b[0;32m--> 216\u001b[0;31m             \u001b[0;32myield\u001b[0m \u001b[0;32mfrom\u001b[0m \u001b[0mself\u001b[0m\u001b[0;34m.\u001b[0m\u001b[0m_plot_args\u001b[0m\u001b[0;34m(\u001b[0m\u001b[0mthis\u001b[0m\u001b[0;34m,\u001b[0m \u001b[0mkwargs\u001b[0m\u001b[0;34m)\u001b[0m\u001b[0;34m\u001b[0m\u001b[0;34m\u001b[0m\u001b[0m\n\u001b[0m\u001b[1;32m    217\u001b[0m \u001b[0;34m\u001b[0m\u001b[0m\n\u001b[1;32m    218\u001b[0m     \u001b[0;32mdef\u001b[0m \u001b[0mget_next_color\u001b[0m\u001b[0;34m(\u001b[0m\u001b[0mself\u001b[0m\u001b[0;34m)\u001b[0m\u001b[0;34m:\u001b[0m\u001b[0;34m\u001b[0m\u001b[0;34m\u001b[0m\u001b[0m\n",
      "\u001b[0;32m/usr/local/lib64/python3.6/site-packages/matplotlib/axes/_base.py\u001b[0m in \u001b[0;36m_plot_args\u001b[0;34m(self, tup, kwargs)\u001b[0m\n\u001b[1;32m    340\u001b[0m \u001b[0;34m\u001b[0m\u001b[0m\n\u001b[1;32m    341\u001b[0m         \u001b[0;32mif\u001b[0m \u001b[0mx\u001b[0m\u001b[0;34m.\u001b[0m\u001b[0mshape\u001b[0m\u001b[0;34m[\u001b[0m\u001b[0;36m0\u001b[0m\u001b[0;34m]\u001b[0m \u001b[0;34m!=\u001b[0m \u001b[0my\u001b[0m\u001b[0;34m.\u001b[0m\u001b[0mshape\u001b[0m\u001b[0;34m[\u001b[0m\u001b[0;36m0\u001b[0m\u001b[0;34m]\u001b[0m\u001b[0;34m:\u001b[0m\u001b[0;34m\u001b[0m\u001b[0;34m\u001b[0m\u001b[0m\n\u001b[0;32m--> 342\u001b[0;31m             raise ValueError(f\"x and y must have same first dimension, but \"\n\u001b[0m\u001b[1;32m    343\u001b[0m                              f\"have shapes {x.shape} and {y.shape}\")\n\u001b[1;32m    344\u001b[0m         \u001b[0;32mif\u001b[0m \u001b[0mx\u001b[0m\u001b[0;34m.\u001b[0m\u001b[0mndim\u001b[0m \u001b[0;34m>\u001b[0m \u001b[0;36m2\u001b[0m \u001b[0;32mor\u001b[0m \u001b[0my\u001b[0m\u001b[0;34m.\u001b[0m\u001b[0mndim\u001b[0m \u001b[0;34m>\u001b[0m \u001b[0;36m2\u001b[0m\u001b[0;34m:\u001b[0m\u001b[0;34m\u001b[0m\u001b[0;34m\u001b[0m\u001b[0m\n",
      "\u001b[0;31mValueError\u001b[0m: x and y must have same first dimension, but have shapes (121,) and (10000,)"
     ]
    },
    {
     "data": {
      "image/png": "[encoded data removed]",
      "text/plain": [
       "<Figure size 576x576 with 1 Axes>"
      ]
     },
     "metadata": {
      "needs_background": "light"
     },
     "output_type": "display_data"
    }
   ],
   "source": [
    "plt.figure(figsize=(8,8))  # plot size\n",
    " \n",
    "bin_size = np.linspace(800,2000,121)\n",
    "hist, bins = np.histogram(m, bins=bin_size)\n",
    "plt.step(bin_size, m.astype(np.float32)/10, color='green', label='$M_{xd,\\\\bar{xd}}$')\n",
    "\n",
    "plt.legend(fontsize=20)\n",
    "plt.yscale('log')\n",
    "plt.title('Invariant Mass of $Z^\\prime$', fontsize=20)\n",
    "plt.xlabel('$M_{xd,\\\\bar{xd}}$ [GeV]', fontsize=20, horizontalalignment='right', x=1)\n",
    "plt.ylabel('Events/Bin', fontsize=20, horizontalalignment='right', y=1)\n",
    "plt.xticks(fontsize=15)\n",
    "plt.yticks(fontsize=15)\n",
    "plt.show()\n",
    "\n",
    "\n",
    "\n",
    "# Not take log for scale of y axis.\n",
    "plt.figure(figsize=(8,8))\n",
    "plt.hist(m, bins=bin_size)\n",
    "plt.title('Invariant Mass of $Z^\\prime$')\n",
    "plt.show()"
   ]
  },
  {
   "cell_type": "code",
   "execution_count": 20,
   "metadata": {},
   "outputs": [
    {
     "data": {
      "text/plain": [
       "array([1496.67914014, 1500.5189328 , 1517.53900635, ..., 1531.78908139,\n",
       "       1479.75860541, 1500.80781428])"
      ]
     },
     "execution_count": 20,
     "metadata": {},
     "output_type": "execute_result"
    }
   ],
   "source": [
    "m"
   ]
  },
  {
   "cell_type": "code",
   "execution_count": 25,
   "metadata": {},
   "outputs": [
    {
     "data": {
      "text/plain": [
       "array([ 800.,  810.,  820.,  830.,  840.,  850.,  860.,  870.,  880.,\n",
       "        890.,  900.,  910.,  920.,  930.,  940.,  950.,  960.,  970.,\n",
       "        980.,  990., 1000., 1010., 1020., 1030., 1040., 1050., 1060.,\n",
       "       1070., 1080., 1090., 1100., 1110., 1120., 1130., 1140., 1150.,\n",
       "       1160., 1170., 1180., 1190., 1200., 1210., 1220., 1230., 1240.,\n",
       "       1250., 1260., 1270., 1280., 1290., 1300., 1310., 1320., 1330.,\n",
       "       1340., 1350., 1360., 1370., 1380., 1390., 1400., 1410., 1420.,\n",
       "       1430., 1440., 1450., 1460., 1470., 1480., 1490., 1500., 1510.,\n",
       "       1520., 1530., 1540., 1550., 1560., 1570., 1580., 1590., 1600.,\n",
       "       1610., 1620., 1630., 1640., 1650., 1660., 1670., 1680., 1690.,\n",
       "       1700., 1710., 1720., 1730., 1740., 1750., 1760., 1770., 1780.,\n",
       "       1790., 1800., 1810., 1820., 1830., 1840., 1850., 1860., 1870.,\n",
       "       1880., 1890., 1900., 1910., 1920., 1930., 1940., 1950., 1960.,\n",
       "       1970., 1980., 1990., 2000.])"
      ]
     },
     "execution_count": 25,
     "metadata": {},
     "output_type": "execute_result"
    }
   ],
   "source": [
    "bin_size"
   ]
  },
  {
   "cell_type": "code",
   "execution_count": 28,
   "metadata": {},
   "outputs": [
    {
     "data": {
      "image/png": "[encoded data removed]",
      "text/plain": [
       "<Figure size 576x576 with 1 Axes>"
      ]
     },
     "metadata": {
      "needs_background": "light"
     },
     "output_type": "display_data"
    }
   ],
   "source": [
    "plt.figure(figsize=(8,8))\n",
    "plt.hist(m, bins=bin_size)\n",
    "plt.title('Invariant Mass of $Z^\\prime$')\n",
    "plt.show()"
   ]
  },
  {
   "cell_type": "code",
   "execution_count": 19,
   "metadata": {},
   "outputs": [
    {
     "data": {
      "image/png": "[encoded data removed]",
      "text/plain": [
       "<Figure size 576x576 with 1 Axes>"
      ]
     },
     "metadata": {
      "needs_background": "light"
     },
     "output_type": "display_data"
    },
    {
     "data": {
      "image/png": "[encoded data removed]",
      "text/plain": [
       "<Figure size 576x576 with 1 Axes>"
      ]
     },
     "metadata": {
      "needs_background": "light"
     },
     "output_type": "display_data"
    }
   ],
   "source": [
    "plt.figure(figsize=(8,8))  # plot size\n",
    " \n",
    "bin_size = np.linspace(800,2000,121)\n",
    "hist, bins = np.histogram(m, bins=bin_size)\n",
    "plt.step(bins[:-1], hist.astype(np.float32)/10, color='green', label='$M_{xd,\\\\bar{xd}}$')\n",
    "\n",
    "plt.legend(fontsize=20)\n",
    "plt.yscale('log')\n",
    "plt.title('Invariant Mass of $Z^\\prime$', fontsize=20)\n",
    "plt.xlabel('$M_{xd,\\\\bar{xd}}$ [GeV]', fontsize=20, horizontalalignment='right', x=1)\n",
    "plt.ylabel('$\\\\frac{dN}{dM_{xd,\\\\bar{xd}}}$', fontsize=20, horizontalalignment='right', y=1)\n",
    "plt.xticks(fontsize=15)\n",
    "plt.yticks(fontsize=15)\n",
    "plt.show()\n",
    "\n",
    "\n",
    "\n",
    "# Not take log for scale of y axis.\n",
    "plt.figure(figsize=(8,8))\n",
    "plt.hist(m, bins=bin_size)\n",
    "plt.title('Invariant Mass of $Z^\\prime$')\n",
    "plt.show()"
   ]
  },
  {
   "cell_type": "markdown",
   "metadata": {},
   "source": [
    "#### Calculate average invariant mass."
   ]
  },
  {
   "cell_type": "code",
   "execution_count": 18,
   "metadata": {},
   "outputs": [
    {
     "data": {
      "text/plain": [
       "1492.3187279730857"
      ]
     },
     "execution_count": 18,
     "metadata": {},
     "output_type": "execute_result"
    }
   ],
   "source": [
    "sum(m)/nevents"
   ]
  },
  {
   "cell_type": "markdown",
   "metadata": {},
   "source": [
    "#### Check total event number."
   ]
  },
  {
   "cell_type": "code",
   "execution_count": 19,
   "metadata": {},
   "outputs": [
    {
     "name": "stdout",
     "output_type": "stream",
     "text": [
      "9947\n",
      "10000\n"
     ]
    }
   ],
   "source": [
    "print(sum(hist))\n",
    "bin_size = np.linspace(100,3600,351)\n",
    "hist, bins = np.histogram(m, bins=bin_size)\n",
    "print(sum(hist))"
   ]
  },
  {
   "cell_type": "markdown",
   "metadata": {},
   "source": [
    "## pylhe-Failure"
   ]
  },
  {
   "cell_type": "markdown",
   "metadata": {},
   "source": [
    "#### Note:\n",
    "I want to try different way to produce the same result.\n",
    "In terminal, we must command 'pip3 install rootnotes'."
   ]
  },
  {
   "cell_type": "code",
   "execution_count": 1,
   "metadata": {},
   "outputs": [
    {
     "name": "stdout",
     "output_type": "stream",
     "text": [
      "Welcome to JupyROOT 6.20/04\n"
     ]
    }
   ],
   "source": [
    "import pylhe\n",
    "import rootnotes\n",
    "import ROOT\n",
    "import math"
   ]
  },
  {
   "cell_type": "code",
   "execution_count": 2,
   "metadata": {},
   "outputs": [],
   "source": [
    "h = ROOT.TH1F('invmass','Invariant Mass of Final State',150,25,175)\n",
    "h.SetFillColor(38)"
   ]
  },
  {
   "cell_type": "code",
   "execution_count": 3,
   "metadata": {},
   "outputs": [],
   "source": [
    "def invariant_mass(p1, p2):\n",
    "    return math.sqrt(sum((1 if mu=='e' else -1)*(getattr(p1,mu)+getattr(p2,mu))**2 for mu in ['e','px','py','pz']))"
   ]
  },
  {
   "cell_type": "code",
   "execution_count": 4,
   "metadata": {},
   "outputs": [],
   "source": [
    "event_list2 = []\n",
    "for e in pylhe.readLHE('/youwei_home/SVJ_py/Tutorial/LHE/0.lhe'):\n",
    "    event_list2.append(e)"
   ]
  },
  {
   "cell_type": "code",
   "execution_count": 6,
   "metadata": {},
   "outputs": [],
   "source": [
    "nevents2 = len(event_list2)\n",
    "for n in range(nevents2):\n",
    "    for i, particle in enumerate(event_list2[n].particles):\n",
    "        if particle.id == 4900101:\n",
    "            p1 = event_list2[n].particles[i]\n",
    "        elif particle.id == -4900101:\n",
    "            p2 = event_list2[n].particles[i]\n",
    "            \n",
    "    h.Fill(invariant_mass(p1,p2),event_list2[n].eventinfo.weight)  "
   ]
  },
  {
   "cell_type": "code",
   "execution_count": 7,
   "metadata": {},
   "outputs": [
    {
     "ename": "AttributeError",
     "evalue": "module 'rootnotes' has no attribute 'default_canvas'",
     "output_type": "error",
     "traceback": [
      "\u001b[0;31m---------------------------------------------------------------------------\u001b[0m",
      "\u001b[0;31mAttributeError\u001b[0m                            Traceback (most recent call last)",
      "\u001b[0;32m<ipython-input-7-77f4f15d059d>\u001b[0m in \u001b[0;36m<module>\u001b[0;34m\u001b[0m\n\u001b[0;32m----> 1\u001b[0;31m \u001b[0mc\u001b[0m \u001b[0;34m=\u001b[0m \u001b[0mrootnotes\u001b[0m\u001b[0;34m.\u001b[0m\u001b[0mdefault_canvas\u001b[0m\u001b[0;34m(\u001b[0m\u001b[0;34m)\u001b[0m\u001b[0;34m\u001b[0m\u001b[0;34m\u001b[0m\u001b[0m\n\u001b[0m\u001b[1;32m      2\u001b[0m \u001b[0mc\u001b[0m\u001b[0;34m.\u001b[0m\u001b[0mSetLogy\u001b[0m\u001b[0;34m(\u001b[0m\u001b[0;34m)\u001b[0m\u001b[0;34m\u001b[0m\u001b[0;34m\u001b[0m\u001b[0m\n",
      "\u001b[0;31mAttributeError\u001b[0m: module 'rootnotes' has no attribute 'default_canvas'"
     ]
    }
   ],
   "source": [
    "c = rootnotes.default_canvas()\n",
    "c.SetLogy()"
   ]
  },
  {
   "cell_type": "code",
   "execution_count": 10,
   "metadata": {},
   "outputs": [],
   "source": [
    "h.Draw('bar')\n",
    "# c"
   ]
  },
  {
   "cell_type": "code",
   "execution_count": null,
   "metadata": {},
   "outputs": [],
   "source": []
  }
 ],
 "metadata": {
  "kernelspec": {
   "display_name": "Python 3",
   "language": "python",
   "name": "python3"
  },
  "language_info": {
   "codemirror_mode": {
    "name": "ipython",
    "version": 3
   },
   "file_extension": ".py",
   "mimetype": "text/x-python",
   "name": "python",
   "nbconvert_exporter": "python",
   "pygments_lexer": "ipython3",
   "version": "3.6.8"
  }
 },
 "nbformat": 4,
 "nbformat_minor": 4
}
